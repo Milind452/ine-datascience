{
 "cells": [
  {
   "cell_type": "markdown",
   "metadata": {},
   "source": [
    "![ine-divider](https://user-images.githubusercontent.com/7065401/92672068-398e8080-f2ee-11ea-82d6-ad53f7feb5c0.png)\n",
    "<hr>\n",
    "\n",
    "### Introduction to Data Science with Python — Starter Pass\n",
    "\n",
    "# Volcanoes facts and information visualizations\n",
    "\n",
    "In this project, you will be practice how to create visualizations using a dataset from the [Smithsonian Institution's Global Volcanism Program (GVP)](https://volcano.si.edu/) which contains information and features of more than 1,500 volcanoes with eruptions during the Holocene period (approximately the last 10,000 years).\n",
    "\n",
    "![volcanoe](https://user-images.githubusercontent.com/7065401/103826161-0e762c80-5055-11eb-9204-27691075c3d7.png)"
   ]
  },
  {
   "cell_type": "markdown",
   "metadata": {},
   "source": [
    "![orange-divider](https://user-images.githubusercontent.com/7065401/92672455-187a5f80-f2ef-11ea-890c-40be9474f7b7.png)\n",
    "\n",
    "## Knowing our data\n",
    "\n",
    "Before starting it's important to load all the libraries we'll be using and understand the data we'll be working on."
   ]
  },
  {
   "cell_type": "code",
   "execution_count": 1,
   "metadata": {},
   "outputs": [],
   "source": [
    "import numpy as np\n",
    "import pandas as pd\n",
    "import matplotlib.pyplot as plt"
   ]
  },
  {
   "cell_type": "code",
   "execution_count": 2,
   "metadata": {},
   "outputs": [],
   "source": [
    "df = pd.read_csv('data/volcanoes.csv')"
   ]
  },
  {
   "cell_type": "markdown",
   "metadata": {},
   "source": [
    "Take a look at some records of your data, analyze columns and values:"
   ]
  },
  {
   "cell_type": "code",
   "execution_count": 5,
   "metadata": {},
   "outputs": [
    {
     "data": {
      "text/html": [
       "<div>\n",
       "<style scoped>\n",
       "    .dataframe tbody tr th:only-of-type {\n",
       "        vertical-align: middle;\n",
       "    }\n",
       "\n",
       "    .dataframe tbody tr th {\n",
       "        vertical-align: top;\n",
       "    }\n",
       "\n",
       "    .dataframe thead th {\n",
       "        text-align: right;\n",
       "    }\n",
       "</style>\n",
       "<table border=\"1\" class=\"dataframe\">\n",
       "  <thead>\n",
       "    <tr style=\"text-align: right;\">\n",
       "      <th></th>\n",
       "      <th>Number</th>\n",
       "      <th>Name</th>\n",
       "      <th>Country</th>\n",
       "      <th>Region</th>\n",
       "      <th>Type</th>\n",
       "      <th>Activity Evidence</th>\n",
       "      <th>Last Known Eruption</th>\n",
       "      <th>Latitude</th>\n",
       "      <th>Longitude</th>\n",
       "      <th>Elevation (Meters)</th>\n",
       "      <th>Dominant Rock Type</th>\n",
       "      <th>Tectonic Setting</th>\n",
       "    </tr>\n",
       "  </thead>\n",
       "  <tbody>\n",
       "    <tr>\n",
       "      <th>0</th>\n",
       "      <td>210010</td>\n",
       "      <td>West Eifel Volcanic Field</td>\n",
       "      <td>Germany</td>\n",
       "      <td>Mediterranean and Western Asia</td>\n",
       "      <td>Maar(s)</td>\n",
       "      <td>Eruption Dated</td>\n",
       "      <td>8300 BCE</td>\n",
       "      <td>50.170</td>\n",
       "      <td>6.85</td>\n",
       "      <td>600</td>\n",
       "      <td>Foidite</td>\n",
       "      <td>Rift Zone / Continental Crust (&gt;25 km)</td>\n",
       "    </tr>\n",
       "    <tr>\n",
       "      <th>1</th>\n",
       "      <td>210020</td>\n",
       "      <td>Chaine des Puys</td>\n",
       "      <td>France</td>\n",
       "      <td>Mediterranean and Western Asia</td>\n",
       "      <td>Lava dome(s)</td>\n",
       "      <td>Eruption Dated</td>\n",
       "      <td>4040 BCE</td>\n",
       "      <td>45.775</td>\n",
       "      <td>2.97</td>\n",
       "      <td>1464</td>\n",
       "      <td>Basalt / Picro-Basalt</td>\n",
       "      <td>Rift Zone / Continental Crust (&gt;25 km)</td>\n",
       "    </tr>\n",
       "    <tr>\n",
       "      <th>2</th>\n",
       "      <td>210030</td>\n",
       "      <td>Olot Volcanic Field</td>\n",
       "      <td>Spain</td>\n",
       "      <td>Mediterranean and Western Asia</td>\n",
       "      <td>Pyroclastic cone(s)</td>\n",
       "      <td>Evidence Credible</td>\n",
       "      <td>Unknown</td>\n",
       "      <td>42.170</td>\n",
       "      <td>2.53</td>\n",
       "      <td>893</td>\n",
       "      <td>Trachybasalt / Tephrite Basanite</td>\n",
       "      <td>Intraplate / Continental Crust (&gt;25 km)</td>\n",
       "    </tr>\n",
       "    <tr>\n",
       "      <th>3</th>\n",
       "      <td>210040</td>\n",
       "      <td>Calatrava Volcanic Field</td>\n",
       "      <td>Spain</td>\n",
       "      <td>Mediterranean and Western Asia</td>\n",
       "      <td>Pyroclastic cone(s)</td>\n",
       "      <td>Eruption Dated</td>\n",
       "      <td>3600 BCE</td>\n",
       "      <td>38.870</td>\n",
       "      <td>-4.02</td>\n",
       "      <td>1117</td>\n",
       "      <td>Basalt / Picro-Basalt</td>\n",
       "      <td>Intraplate / Continental Crust (&gt;25 km)</td>\n",
       "    </tr>\n",
       "    <tr>\n",
       "      <th>4</th>\n",
       "      <td>211001</td>\n",
       "      <td>Larderello</td>\n",
       "      <td>Italy</td>\n",
       "      <td>Mediterranean and Western Asia</td>\n",
       "      <td>Explosion crater(s)</td>\n",
       "      <td>Eruption Observed</td>\n",
       "      <td>1282 CE</td>\n",
       "      <td>43.250</td>\n",
       "      <td>10.87</td>\n",
       "      <td>500</td>\n",
       "      <td>No Data</td>\n",
       "      <td>Subduction Zone / Continental Crust (&gt;25 km)</td>\n",
       "    </tr>\n",
       "  </tbody>\n",
       "</table>\n",
       "</div>"
      ],
      "text/plain": [
       "   Number                       Name  Country                          Region  \\\n",
       "0  210010  West Eifel Volcanic Field  Germany  Mediterranean and Western Asia   \n",
       "1  210020            Chaine des Puys   France  Mediterranean and Western Asia   \n",
       "2  210030        Olot Volcanic Field    Spain  Mediterranean and Western Asia   \n",
       "3  210040   Calatrava Volcanic Field    Spain  Mediterranean and Western Asia   \n",
       "4  211001                 Larderello    Italy  Mediterranean and Western Asia   \n",
       "\n",
       "                  Type  Activity Evidence Last Known Eruption  Latitude  \\\n",
       "0              Maar(s)     Eruption Dated            8300 BCE    50.170   \n",
       "1         Lava dome(s)     Eruption Dated            4040 BCE    45.775   \n",
       "2  Pyroclastic cone(s)  Evidence Credible             Unknown    42.170   \n",
       "3  Pyroclastic cone(s)     Eruption Dated            3600 BCE    38.870   \n",
       "4  Explosion crater(s)  Eruption Observed             1282 CE    43.250   \n",
       "\n",
       "   Longitude  Elevation (Meters)                Dominant Rock Type  \\\n",
       "0       6.85                 600                           Foidite   \n",
       "1       2.97                1464             Basalt / Picro-Basalt   \n",
       "2       2.53                 893  Trachybasalt / Tephrite Basanite   \n",
       "3      -4.02                1117             Basalt / Picro-Basalt   \n",
       "4      10.87                 500                           No Data   \n",
       "\n",
       "                               Tectonic Setting  \n",
       "0        Rift Zone / Continental Crust (>25 km)  \n",
       "1        Rift Zone / Continental Crust (>25 km)  \n",
       "2       Intraplate / Continental Crust (>25 km)  \n",
       "3       Intraplate / Continental Crust (>25 km)  \n",
       "4  Subduction Zone / Continental Crust (>25 km)  "
      ]
     },
     "execution_count": 5,
     "metadata": {},
     "output_type": "execute_result"
    }
   ],
   "source": [
    "# your code goes here\n",
    "df.head()"
   ]
  },
  {
   "cell_type": "markdown",
   "metadata": {},
   "source": [
    "![orange-divider](https://user-images.githubusercontent.com/7065401/92672455-187a5f80-f2ef-11ea-890c-40be9474f7b7.png)\n",
    "\n",
    "## Fixing types\n",
    "\n",
    "We can see different types of volcanoes but some of them contains `(es)`, `(s)` or `?` at the end.\n",
    "\n",
    "Use the following Regular Expressions to replace that values with empty strings:\n",
    "\n",
    "- `r'\\((.*)\\)'`: selects everything between two parentheses;\n",
    "- `r'\\?'`: selects `?` question mark."
   ]
  },
  {
   "cell_type": "code",
   "execution_count": 6,
   "metadata": {},
   "outputs": [
    {
     "data": {
      "text/plain": [
       "Stratovolcano          597\n",
       "Shield                 129\n",
       "Stratovolcano(es)      121\n",
       "Submarine              116\n",
       "Pyroclastic cone(s)     99\n",
       "Volcanic field          88\n",
       "Caldera                 86\n",
       "Complex                 54\n",
       "Lava dome(s)            38\n",
       "Shield(s)               35\n",
       "Pyroclastic cone        18\n",
       "Fissure vent(s)         16\n",
       "Compound                14\n",
       "Maar(s)                 13\n",
       "Lava dome               12\n",
       "Caldera(s)              11\n",
       "Tuff cone(s)             9\n",
       "Pyroclastic shield       8\n",
       "Maar                     8\n",
       "Crater rows              6\n",
       "Subglacial               6\n",
       "Stratovolcano?           4\n",
       "Unknown                  3\n",
       "Tuff cone                3\n",
       "Lava cone                3\n",
       "Explosion crater(s)      2\n",
       "Fissure vent             2\n",
       "Submarine(es)            2\n",
       "Complex(es)              1\n",
       "Cone(s)                  1\n",
       "Volcanic field(s)        1\n",
       "Tuff ring(s)             1\n",
       "Lava cone(s)             1\n",
       "Name: Type, dtype: int64"
      ]
     },
     "execution_count": 6,
     "metadata": {},
     "output_type": "execute_result"
    }
   ],
   "source": [
    "df['Type'].value_counts()"
   ]
  },
  {
   "cell_type": "code",
   "execution_count": 7,
   "metadata": {},
   "outputs": [
    {
     "data": {
      "text/plain": [
       "Stratovolcano         722\n",
       "Shield                164\n",
       "Submarine             118\n",
       "Pyroclastic cone      117\n",
       "Caldera                97\n",
       "Volcanic field         89\n",
       "Complex                55\n",
       "Lava dome              50\n",
       "Maar                   21\n",
       "Fissure vent           18\n",
       "Compound               14\n",
       "Tuff cone              12\n",
       "Pyroclastic shield      8\n",
       "Crater rows             6\n",
       "Subglacial              6\n",
       "Lava cone               4\n",
       "Unknown                 3\n",
       "Explosion crater        2\n",
       "Tuff ring               1\n",
       "Cone                    1\n",
       "Name: Type, dtype: int64"
      ]
     },
     "execution_count": 7,
     "metadata": {},
     "output_type": "execute_result"
    }
   ],
   "source": [
    "# your code goes here\n",
    "types = { \"Type\": {\n",
    "    r'\\((.*)\\)': \"\",\n",
    "    r'\\?': \"\"\n",
    "}}\n",
    "df.replace(types, regex=True, inplace=True)\n",
    "df['Type'].value_counts()"
   ]
  },
  {
   "cell_type": "markdown",
   "metadata": {},
   "source": [
    "![orange-divider](https://user-images.githubusercontent.com/7065401/92672455-187a5f80-f2ef-11ea-890c-40be9474f7b7.png)\n",
    "\n",
    "## Show the amount of volcanoes per type using a bar plot\n",
    "\n",
    "> Customize it! You can try different bar colors or different bars orientation, etc."
   ]
  },
  {
   "cell_type": "code",
   "execution_count": 18,
   "metadata": {},
   "outputs": [
    {
     "data": {
      "text/plain": [
       "<AxesSubplot:>"
      ]
     },
     "execution_count": 18,
     "metadata": {},
     "output_type": "execute_result"
    },
    {
     "data": {
      "image/png": "[encoded data removed]",
      "text/plain": [
       "<Figure size 864x432 with 1 Axes>"
      ]
     },
     "metadata": {
      "needs_background": "light"
     },
     "output_type": "display_data"
    }
   ],
   "source": [
    "# your code goes here\n",
    "df['Type'].value_counts().plot(kind='bar', figsize=(12, 6))"
   ]
  },
  {
   "cell_type": "markdown",
   "metadata": {},
   "source": [
    "![orange-divider](https://user-images.githubusercontent.com/7065401/92672455-187a5f80-f2ef-11ea-890c-40be9474f7b7.png)\n",
    "\n",
    "## Show the top 10 countries with more volcanoes using a bar plot\n",
    "\n",
    "> Customize it! You can try different bar colors or different bars orientation, etc.\n"
   ]
  },
  {
   "cell_type": "code",
   "execution_count": 19,
   "metadata": {},
   "outputs": [
    {
     "data": {
      "text/plain": [
       "<AxesSubplot:title={'center':'Top-10 Countries with more volcanoes'}>"
      ]
     },
     "execution_count": 19,
     "metadata": {},
     "output_type": "execute_result"
    },
    {
     "data": {
      "image/png": "[encoded data removed]",
      "text/plain": [
       "<Figure size 576x576 with 1 Axes>"
      ]
     },
     "metadata": {
      "needs_background": "light"
     },
     "output_type": "display_data"
    }
   ],
   "source": [
    "# your code goes here\n",
    "country_df = df['Country'].value_counts().head(10).sort_values()\n",
    "country_df.plot(kind='barh',\n",
    "                color='gold',\n",
    "                title='Top-10 Countries with more volcanoes',\n",
    "                figsize=(8,8))"
   ]
  },
  {
   "cell_type": "markdown",
   "metadata": {},
   "source": [
    "![orange-divider](https://user-images.githubusercontent.com/7065401/92672455-187a5f80-f2ef-11ea-890c-40be9474f7b7.png)\n",
    "\n",
    "## Show the amount of volcanoes of each tectonic setting using a pie plot\n"
   ]
  },
  {
   "cell_type": "code",
   "execution_count": 27,
   "metadata": {},
   "outputs": [
    {
     "data": {
      "text/plain": [
       "<AxesSubplot:ylabel='Tectonic Setting'>"
      ]
     },
     "execution_count": 27,
     "metadata": {},
     "output_type": "execute_result"
    },
    {
     "data": {
      "image/png": "[encoded data removed]",
      "text/plain": [
       "<Figure size 432x432 with 1 Axes>"
      ]
     },
     "metadata": {},
     "output_type": "display_data"
    }
   ],
   "source": [
    "# your code goes here\n",
    "df['Tectonic Setting'].value_counts().head(10).plot(kind='pie', figsize=(6, 6))"
   ]
  },
  {
   "cell_type": "markdown",
   "metadata": {},
   "source": [
    "![orange-divider](https://user-images.githubusercontent.com/7065401/92672455-187a5f80-f2ef-11ea-890c-40be9474f7b7.png)\n",
    "\n",
    "## Analyze volcanoes elevation using a Box plot"
   ]
  },
  {
   "cell_type": "code",
   "execution_count": 28,
   "metadata": {},
   "outputs": [
    {
     "data": {
      "text/plain": [
       "<AxesSubplot:>"
      ]
     },
     "execution_count": 28,
     "metadata": {},
     "output_type": "execute_result"
    },
    {
     "data": {
      "image/png": "[encoded data removed]",
      "text/plain": [
       "<Figure size 432x288 with 1 Axes>"
      ]
     },
     "metadata": {
      "needs_background": "light"
     },
     "output_type": "display_data"
    }
   ],
   "source": [
    "# your code goes here\n",
    "df['Elevation (Meters)'].plot(kind='box')"
   ]
  },
  {
   "cell_type": "markdown",
   "metadata": {},
   "source": [
    "![orange-divider](https://user-images.githubusercontent.com/7065401/92672455-187a5f80-f2ef-11ea-890c-40be9474f7b7.png)\n",
    "\n",
    "## Over or under the sea?\n",
    "\n",
    "Create a new `Under the sea` column which should have `True` if the volcanoe elevation is less than or equal to 0, `False` otherwise."
   ]
  },
  {
   "cell_type": "code",
   "execution_count": 30,
   "metadata": {},
   "outputs": [
    {
     "data": {
      "text/html": [
       "<div>\n",
       "<style scoped>\n",
       "    .dataframe tbody tr th:only-of-type {\n",
       "        vertical-align: middle;\n",
       "    }\n",
       "\n",
       "    .dataframe tbody tr th {\n",
       "        vertical-align: top;\n",
       "    }\n",
       "\n",
       "    .dataframe thead th {\n",
       "        text-align: right;\n",
       "    }\n",
       "</style>\n",
       "<table border=\"1\" class=\"dataframe\">\n",
       "  <thead>\n",
       "    <tr style=\"text-align: right;\">\n",
       "      <th></th>\n",
       "      <th>Number</th>\n",
       "      <th>Name</th>\n",
       "      <th>Country</th>\n",
       "      <th>Region</th>\n",
       "      <th>Type</th>\n",
       "      <th>Activity Evidence</th>\n",
       "      <th>Last Known Eruption</th>\n",
       "      <th>Latitude</th>\n",
       "      <th>Longitude</th>\n",
       "      <th>Elevation (Meters)</th>\n",
       "      <th>Dominant Rock Type</th>\n",
       "      <th>Tectonic Setting</th>\n",
       "      <th>Under the sea</th>\n",
       "    </tr>\n",
       "  </thead>\n",
       "  <tbody>\n",
       "    <tr>\n",
       "      <th>0</th>\n",
       "      <td>210010</td>\n",
       "      <td>West Eifel Volcanic Field</td>\n",
       "      <td>Germany</td>\n",
       "      <td>Mediterranean and Western Asia</td>\n",
       "      <td>Maar</td>\n",
       "      <td>Eruption Dated</td>\n",
       "      <td>8300 BCE</td>\n",
       "      <td>50.170</td>\n",
       "      <td>6.850</td>\n",
       "      <td>600</td>\n",
       "      <td>Foidite</td>\n",
       "      <td>Rift Zone / Continental Crust (&gt;25 km)</td>\n",
       "      <td>False</td>\n",
       "    </tr>\n",
       "    <tr>\n",
       "      <th>1</th>\n",
       "      <td>210020</td>\n",
       "      <td>Chaine des Puys</td>\n",
       "      <td>France</td>\n",
       "      <td>Mediterranean and Western Asia</td>\n",
       "      <td>Lava dome</td>\n",
       "      <td>Eruption Dated</td>\n",
       "      <td>4040 BCE</td>\n",
       "      <td>45.775</td>\n",
       "      <td>2.970</td>\n",
       "      <td>1464</td>\n",
       "      <td>Basalt / Picro-Basalt</td>\n",
       "      <td>Rift Zone / Continental Crust (&gt;25 km)</td>\n",
       "      <td>False</td>\n",
       "    </tr>\n",
       "    <tr>\n",
       "      <th>2</th>\n",
       "      <td>210030</td>\n",
       "      <td>Olot Volcanic Field</td>\n",
       "      <td>Spain</td>\n",
       "      <td>Mediterranean and Western Asia</td>\n",
       "      <td>Pyroclastic cone</td>\n",
       "      <td>Evidence Credible</td>\n",
       "      <td>Unknown</td>\n",
       "      <td>42.170</td>\n",
       "      <td>2.530</td>\n",
       "      <td>893</td>\n",
       "      <td>Trachybasalt / Tephrite Basanite</td>\n",
       "      <td>Intraplate / Continental Crust (&gt;25 km)</td>\n",
       "      <td>False</td>\n",
       "    </tr>\n",
       "    <tr>\n",
       "      <th>3</th>\n",
       "      <td>210040</td>\n",
       "      <td>Calatrava Volcanic Field</td>\n",
       "      <td>Spain</td>\n",
       "      <td>Mediterranean and Western Asia</td>\n",
       "      <td>Pyroclastic cone</td>\n",
       "      <td>Eruption Dated</td>\n",
       "      <td>3600 BCE</td>\n",
       "      <td>38.870</td>\n",
       "      <td>-4.020</td>\n",
       "      <td>1117</td>\n",
       "      <td>Basalt / Picro-Basalt</td>\n",
       "      <td>Intraplate / Continental Crust (&gt;25 km)</td>\n",
       "      <td>False</td>\n",
       "    </tr>\n",
       "    <tr>\n",
       "      <th>4</th>\n",
       "      <td>211001</td>\n",
       "      <td>Larderello</td>\n",
       "      <td>Italy</td>\n",
       "      <td>Mediterranean and Western Asia</td>\n",
       "      <td>Explosion crater</td>\n",
       "      <td>Eruption Observed</td>\n",
       "      <td>1282 CE</td>\n",
       "      <td>43.250</td>\n",
       "      <td>10.870</td>\n",
       "      <td>500</td>\n",
       "      <td>No Data</td>\n",
       "      <td>Subduction Zone / Continental Crust (&gt;25 km)</td>\n",
       "      <td>False</td>\n",
       "    </tr>\n",
       "    <tr>\n",
       "      <th>5</th>\n",
       "      <td>211003</td>\n",
       "      <td>Vulsini</td>\n",
       "      <td>Italy</td>\n",
       "      <td>Mediterranean and Western Asia</td>\n",
       "      <td>Caldera</td>\n",
       "      <td>Eruption Observed</td>\n",
       "      <td>104 BCE</td>\n",
       "      <td>42.600</td>\n",
       "      <td>11.930</td>\n",
       "      <td>800</td>\n",
       "      <td>Trachyte / Trachydacite</td>\n",
       "      <td>Subduction Zone / Continental Crust (&gt;25 km)</td>\n",
       "      <td>False</td>\n",
       "    </tr>\n",
       "    <tr>\n",
       "      <th>6</th>\n",
       "      <td>211004</td>\n",
       "      <td>Colli Alban</td>\n",
       "      <td>Italy</td>\n",
       "      <td>Mediterranean and Western Asia</td>\n",
       "      <td>Caldera</td>\n",
       "      <td>Evidence Uncertain</td>\n",
       "      <td>Unknown</td>\n",
       "      <td>41.730</td>\n",
       "      <td>12.700</td>\n",
       "      <td>949</td>\n",
       "      <td>Foidite</td>\n",
       "      <td>Subduction Zone / Continental Crust (&gt;25 km)</td>\n",
       "      <td>False</td>\n",
       "    </tr>\n",
       "    <tr>\n",
       "      <th>7</th>\n",
       "      <td>211010</td>\n",
       "      <td>Campi Flegrei</td>\n",
       "      <td>Italy</td>\n",
       "      <td>Mediterranean and Western Asia</td>\n",
       "      <td>Caldera</td>\n",
       "      <td>Eruption Observed</td>\n",
       "      <td>1538 CE</td>\n",
       "      <td>40.827</td>\n",
       "      <td>14.139</td>\n",
       "      <td>458</td>\n",
       "      <td>Trachyte / Trachydacite</td>\n",
       "      <td>Subduction Zone / Continental Crust (&gt;25 km)</td>\n",
       "      <td>False</td>\n",
       "    </tr>\n",
       "    <tr>\n",
       "      <th>8</th>\n",
       "      <td>211020</td>\n",
       "      <td>Vesuvius</td>\n",
       "      <td>Italy</td>\n",
       "      <td>Mediterranean and Western Asia</td>\n",
       "      <td>Stratovolcano</td>\n",
       "      <td>Eruption Observed</td>\n",
       "      <td>1944 CE</td>\n",
       "      <td>40.821</td>\n",
       "      <td>14.426</td>\n",
       "      <td>1281</td>\n",
       "      <td>Phono-tephrite /  Tephri-phonolite</td>\n",
       "      <td>Subduction Zone / Continental Crust (&gt;25 km)</td>\n",
       "      <td>False</td>\n",
       "    </tr>\n",
       "    <tr>\n",
       "      <th>9</th>\n",
       "      <td>211030</td>\n",
       "      <td>Ischia</td>\n",
       "      <td>Italy</td>\n",
       "      <td>Mediterranean and Western Asia</td>\n",
       "      <td>Complex</td>\n",
       "      <td>Eruption Observed</td>\n",
       "      <td>1302 CE</td>\n",
       "      <td>40.730</td>\n",
       "      <td>13.897</td>\n",
       "      <td>789</td>\n",
       "      <td>Trachyte / Trachydacite</td>\n",
       "      <td>Subduction Zone / Continental Crust (&gt;25 km)</td>\n",
       "      <td>False</td>\n",
       "    </tr>\n",
       "    <tr>\n",
       "      <th>10</th>\n",
       "      <td>211031</td>\n",
       "      <td>Palinuro</td>\n",
       "      <td>Italy</td>\n",
       "      <td>Mediterranean and Western Asia</td>\n",
       "      <td>Submarine</td>\n",
       "      <td>Eruption Dated</td>\n",
       "      <td>8040 BCE</td>\n",
       "      <td>39.480</td>\n",
       "      <td>14.830</td>\n",
       "      <td>-70</td>\n",
       "      <td>Phonolite</td>\n",
       "      <td>Subduction Zone / Continental Crust (&gt;25 km)</td>\n",
       "      <td>True</td>\n",
       "    </tr>\n",
       "    <tr>\n",
       "      <th>11</th>\n",
       "      <td>211040</td>\n",
       "      <td>Stromboli</td>\n",
       "      <td>Italy</td>\n",
       "      <td>Mediterranean and Western Asia</td>\n",
       "      <td>Stratovolcano</td>\n",
       "      <td>Eruption Observed</td>\n",
       "      <td>2016 CE</td>\n",
       "      <td>38.789</td>\n",
       "      <td>15.213</td>\n",
       "      <td>924</td>\n",
       "      <td>Trachyandesite / Basaltic Trachyandesite</td>\n",
       "      <td>Subduction Zone / Continental Crust (&gt;25 km)</td>\n",
       "      <td>False</td>\n",
       "    </tr>\n",
       "    <tr>\n",
       "      <th>12</th>\n",
       "      <td>211041</td>\n",
       "      <td>Panarea</td>\n",
       "      <td>Italy</td>\n",
       "      <td>Mediterranean and Western Asia</td>\n",
       "      <td>Stratovolcano</td>\n",
       "      <td>Evidence Uncertain</td>\n",
       "      <td>Unknown</td>\n",
       "      <td>38.638</td>\n",
       "      <td>15.064</td>\n",
       "      <td>399</td>\n",
       "      <td>Andesite / Basaltic Andesite</td>\n",
       "      <td>Subduction Zone / Continental Crust (&gt;25 km)</td>\n",
       "      <td>False</td>\n",
       "    </tr>\n",
       "    <tr>\n",
       "      <th>13</th>\n",
       "      <td>211042</td>\n",
       "      <td>Lipari</td>\n",
       "      <td>Italy</td>\n",
       "      <td>Mediterranean and Western Asia</td>\n",
       "      <td>Stratovolcano</td>\n",
       "      <td>Eruption Dated</td>\n",
       "      <td>1230 CE</td>\n",
       "      <td>38.490</td>\n",
       "      <td>14.933</td>\n",
       "      <td>590</td>\n",
       "      <td>Rhyolite</td>\n",
       "      <td>Subduction Zone / Continental Crust (&gt;25 km)</td>\n",
       "      <td>False</td>\n",
       "    </tr>\n",
       "    <tr>\n",
       "      <th>14</th>\n",
       "      <td>211050</td>\n",
       "      <td>Vulcano</td>\n",
       "      <td>Italy</td>\n",
       "      <td>Mediterranean and Western Asia</td>\n",
       "      <td>Stratovolcano</td>\n",
       "      <td>Eruption Observed</td>\n",
       "      <td>1890 CE</td>\n",
       "      <td>38.404</td>\n",
       "      <td>14.962</td>\n",
       "      <td>500</td>\n",
       "      <td>Trachybasalt / Tephrite Basanite</td>\n",
       "      <td>Subduction Zone / Continental Crust (&gt;25 km)</td>\n",
       "      <td>False</td>\n",
       "    </tr>\n",
       "    <tr>\n",
       "      <th>15</th>\n",
       "      <td>211060</td>\n",
       "      <td>Etna</td>\n",
       "      <td>Italy</td>\n",
       "      <td>Mediterranean and Western Asia</td>\n",
       "      <td>Stratovolcano</td>\n",
       "      <td>Eruption Observed</td>\n",
       "      <td>2016 CE</td>\n",
       "      <td>37.734</td>\n",
       "      <td>15.004</td>\n",
       "      <td>3330</td>\n",
       "      <td>Trachybasalt / Tephrite Basanite</td>\n",
       "      <td>Subduction Zone / Continental Crust (&gt;25 km)</td>\n",
       "      <td>False</td>\n",
       "    </tr>\n",
       "    <tr>\n",
       "      <th>16</th>\n",
       "      <td>211070</td>\n",
       "      <td>Campi Flegrei Mar Sicilia</td>\n",
       "      <td>Italy</td>\n",
       "      <td>Mediterranean and Western Asia</td>\n",
       "      <td>Submarine</td>\n",
       "      <td>Eruption Observed</td>\n",
       "      <td>1867 CE</td>\n",
       "      <td>37.100</td>\n",
       "      <td>12.700</td>\n",
       "      <td>-8</td>\n",
       "      <td>Trachybasalt / Tephrite Basanite</td>\n",
       "      <td>Rift Zone / Continental Crust (&gt;25 km)</td>\n",
       "      <td>True</td>\n",
       "    </tr>\n",
       "    <tr>\n",
       "      <th>17</th>\n",
       "      <td>211071</td>\n",
       "      <td>Pantelleria</td>\n",
       "      <td>Italy</td>\n",
       "      <td>Mediterranean and Western Asia</td>\n",
       "      <td>Shield</td>\n",
       "      <td>Eruption Observed</td>\n",
       "      <td>1891 CE</td>\n",
       "      <td>36.770</td>\n",
       "      <td>12.020</td>\n",
       "      <td>836</td>\n",
       "      <td>Rhyolite</td>\n",
       "      <td>Rift Zone / Continental Crust (&gt;25 km)</td>\n",
       "      <td>False</td>\n",
       "    </tr>\n",
       "    <tr>\n",
       "      <th>18</th>\n",
       "      <td>211080</td>\n",
       "      <td>Marsili</td>\n",
       "      <td>Italy</td>\n",
       "      <td>Mediterranean and Western Asia</td>\n",
       "      <td>Submarine</td>\n",
       "      <td>Eruption Dated</td>\n",
       "      <td>1050 BCE</td>\n",
       "      <td>39.284</td>\n",
       "      <td>14.399</td>\n",
       "      <td>-779</td>\n",
       "      <td>NaN</td>\n",
       "      <td>NaN</td>\n",
       "      <td>True</td>\n",
       "    </tr>\n",
       "    <tr>\n",
       "      <th>19</th>\n",
       "      <td>211800</td>\n",
       "      <td>Amiata</td>\n",
       "      <td>Italy</td>\n",
       "      <td>Mediterranean and Western Asia</td>\n",
       "      <td>Lava dome</td>\n",
       "      <td>Unrest / Pleistocene</td>\n",
       "      <td>Unknown</td>\n",
       "      <td>42.900</td>\n",
       "      <td>11.630</td>\n",
       "      <td>1738</td>\n",
       "      <td>NaN</td>\n",
       "      <td>Subduction Zone / Continental Crust (&gt;25 km)</td>\n",
       "      <td>False</td>\n",
       "    </tr>\n",
       "  </tbody>\n",
       "</table>\n",
       "</div>"
      ],
      "text/plain": [
       "    Number                       Name  Country  \\\n",
       "0   210010  West Eifel Volcanic Field  Germany   \n",
       "1   210020            Chaine des Puys   France   \n",
       "2   210030        Olot Volcanic Field    Spain   \n",
       "3   210040   Calatrava Volcanic Field    Spain   \n",
       "4   211001                 Larderello    Italy   \n",
       "5   211003                    Vulsini    Italy   \n",
       "6   211004                Colli Alban    Italy   \n",
       "7   211010              Campi Flegrei    Italy   \n",
       "8   211020                   Vesuvius    Italy   \n",
       "9   211030                     Ischia    Italy   \n",
       "10  211031                   Palinuro    Italy   \n",
       "11  211040                  Stromboli    Italy   \n",
       "12  211041                    Panarea    Italy   \n",
       "13  211042                     Lipari    Italy   \n",
       "14  211050                    Vulcano    Italy   \n",
       "15  211060                       Etna    Italy   \n",
       "16  211070  Campi Flegrei Mar Sicilia    Italy   \n",
       "17  211071                Pantelleria    Italy   \n",
       "18  211080                    Marsili    Italy   \n",
       "19  211800                     Amiata    Italy   \n",
       "\n",
       "                            Region              Type     Activity Evidence  \\\n",
       "0   Mediterranean and Western Asia              Maar        Eruption Dated   \n",
       "1   Mediterranean and Western Asia         Lava dome        Eruption Dated   \n",
       "2   Mediterranean and Western Asia  Pyroclastic cone     Evidence Credible   \n",
       "3   Mediterranean and Western Asia  Pyroclastic cone        Eruption Dated   \n",
       "4   Mediterranean and Western Asia  Explosion crater     Eruption Observed   \n",
       "5   Mediterranean and Western Asia           Caldera     Eruption Observed   \n",
       "6   Mediterranean and Western Asia           Caldera    Evidence Uncertain   \n",
       "7   Mediterranean and Western Asia           Caldera     Eruption Observed   \n",
       "8   Mediterranean and Western Asia     Stratovolcano     Eruption Observed   \n",
       "9   Mediterranean and Western Asia           Complex     Eruption Observed   \n",
       "10  Mediterranean and Western Asia         Submarine        Eruption Dated   \n",
       "11  Mediterranean and Western Asia     Stratovolcano     Eruption Observed   \n",
       "12  Mediterranean and Western Asia     Stratovolcano    Evidence Uncertain   \n",
       "13  Mediterranean and Western Asia     Stratovolcano        Eruption Dated   \n",
       "14  Mediterranean and Western Asia     Stratovolcano     Eruption Observed   \n",
       "15  Mediterranean and Western Asia     Stratovolcano     Eruption Observed   \n",
       "16  Mediterranean and Western Asia         Submarine     Eruption Observed   \n",
       "17  Mediterranean and Western Asia            Shield     Eruption Observed   \n",
       "18  Mediterranean and Western Asia         Submarine        Eruption Dated   \n",
       "19  Mediterranean and Western Asia         Lava dome  Unrest / Pleistocene   \n",
       "\n",
       "   Last Known Eruption  Latitude  Longitude  Elevation (Meters)  \\\n",
       "0             8300 BCE    50.170      6.850                 600   \n",
       "1             4040 BCE    45.775      2.970                1464   \n",
       "2              Unknown    42.170      2.530                 893   \n",
       "3             3600 BCE    38.870     -4.020                1117   \n",
       "4              1282 CE    43.250     10.870                 500   \n",
       "5              104 BCE    42.600     11.930                 800   \n",
       "6              Unknown    41.730     12.700                 949   \n",
       "7              1538 CE    40.827     14.139                 458   \n",
       "8              1944 CE    40.821     14.426                1281   \n",
       "9              1302 CE    40.730     13.897                 789   \n",
       "10            8040 BCE    39.480     14.830                 -70   \n",
       "11             2016 CE    38.789     15.213                 924   \n",
       "12             Unknown    38.638     15.064                 399   \n",
       "13             1230 CE    38.490     14.933                 590   \n",
       "14             1890 CE    38.404     14.962                 500   \n",
       "15             2016 CE    37.734     15.004                3330   \n",
       "16             1867 CE    37.100     12.700                  -8   \n",
       "17             1891 CE    36.770     12.020                 836   \n",
       "18            1050 BCE    39.284     14.399                -779   \n",
       "19             Unknown    42.900     11.630                1738   \n",
       "\n",
       "                          Dominant Rock Type  \\\n",
       "0                                    Foidite   \n",
       "1                      Basalt / Picro-Basalt   \n",
       "2           Trachybasalt / Tephrite Basanite   \n",
       "3                      Basalt / Picro-Basalt   \n",
       "4                                    No Data   \n",
       "5                    Trachyte / Trachydacite   \n",
       "6                                    Foidite   \n",
       "7                    Trachyte / Trachydacite   \n",
       "8         Phono-tephrite /  Tephri-phonolite   \n",
       "9                    Trachyte / Trachydacite   \n",
       "10                                 Phonolite   \n",
       "11  Trachyandesite / Basaltic Trachyandesite   \n",
       "12              Andesite / Basaltic Andesite   \n",
       "13                                  Rhyolite   \n",
       "14          Trachybasalt / Tephrite Basanite   \n",
       "15          Trachybasalt / Tephrite Basanite   \n",
       "16          Trachybasalt / Tephrite Basanite   \n",
       "17                                  Rhyolite   \n",
       "18                                       NaN   \n",
       "19                                       NaN   \n",
       "\n",
       "                                Tectonic Setting  Under the sea  \n",
       "0         Rift Zone / Continental Crust (>25 km)          False  \n",
       "1         Rift Zone / Continental Crust (>25 km)          False  \n",
       "2        Intraplate / Continental Crust (>25 km)          False  \n",
       "3        Intraplate / Continental Crust (>25 km)          False  \n",
       "4   Subduction Zone / Continental Crust (>25 km)          False  \n",
       "5   Subduction Zone / Continental Crust (>25 km)          False  \n",
       "6   Subduction Zone / Continental Crust (>25 km)          False  \n",
       "7   Subduction Zone / Continental Crust (>25 km)          False  \n",
       "8   Subduction Zone / Continental Crust (>25 km)          False  \n",
       "9   Subduction Zone / Continental Crust (>25 km)          False  \n",
       "10  Subduction Zone / Continental Crust (>25 km)           True  \n",
       "11  Subduction Zone / Continental Crust (>25 km)          False  \n",
       "12  Subduction Zone / Continental Crust (>25 km)          False  \n",
       "13  Subduction Zone / Continental Crust (>25 km)          False  \n",
       "14  Subduction Zone / Continental Crust (>25 km)          False  \n",
       "15  Subduction Zone / Continental Crust (>25 km)          False  \n",
       "16        Rift Zone / Continental Crust (>25 km)           True  \n",
       "17        Rift Zone / Continental Crust (>25 km)          False  \n",
       "18                                           NaN           True  \n",
       "19  Subduction Zone / Continental Crust (>25 km)          False  "
      ]
     },
     "execution_count": 30,
     "metadata": {},
     "output_type": "execute_result"
    }
   ],
   "source": [
    "# your code goes here\n",
    "df['Under the sea'] = [True if x <= 0 else False for x in df['Elevation (Meters)']]\n",
    "df.head(20)"
   ]
  },
  {
   "cell_type": "markdown",
   "metadata": {},
   "source": [
    "![orange-divider](https://user-images.githubusercontent.com/7065401/92672455-187a5f80-f2ef-11ea-890c-40be9474f7b7.png)\n",
    "\n",
    "## Show the amount of undersea volcanoes per Region using a bar plot\n"
   ]
  },
  {
   "cell_type": "code",
   "execution_count": 33,
   "metadata": {},
   "outputs": [
    {
     "data": {
      "text/plain": [
       "<AxesSubplot:title={'center':'Undersea volcanoes per Region'}, ylabel='Region'>"
      ]
     },
     "execution_count": 33,
     "metadata": {},
     "output_type": "execute_result"
    },
    {
     "data": {
      "image/png": "[encoded data removed]",
      "text/plain": [
       "<Figure size 576x576 with 1 Axes>"
      ]
     },
     "metadata": {
      "needs_background": "light"
     },
     "output_type": "display_data"
    }
   ],
   "source": [
    "# your code goes here\n",
    "region_sea_df = df.groupby('Region').sum()['Under the sea'].sort_values()\n",
    "region_sea_df.plot(kind='barh',\n",
    "                color='dodgerblue',\n",
    "                title='Undersea volcanoes per Region',\n",
    "                figsize=(8,8))"
   ]
  },
  {
   "cell_type": "markdown",
   "metadata": {},
   "source": [
    "![orange-divider](https://user-images.githubusercontent.com/7065401/92672455-187a5f80-f2ef-11ea-890c-40be9474f7b7.png)\n",
    "\n",
    "## Show the distribution of the elevation of the volcanoes using an histogram\n",
    "\n",
    "> Customize it! You can try different colors, different bins amount, alpha values, adding KDE, etc."
   ]
  },
  {
   "cell_type": "code",
   "execution_count": 36,
   "metadata": {},
   "outputs": [
    {
     "data": {
      "text/plain": [
       "<AxesSubplot:title={'center':'Price histogram'}, ylabel='Density'>"
      ]
     },
     "execution_count": 36,
     "metadata": {},
     "output_type": "execute_result"
    },
    {
     "data": {
      "image/png": "[encoded data removed]",
      "text/plain": [
       "<Figure size 864x432 with 1 Axes>"
      ]
     },
     "metadata": {
      "needs_background": "light"
     },
     "output_type": "display_data"
    }
   ],
   "source": [
    "# your code goes here\n",
    "df['Elevation (Meters)'].plot(kind='hist',\n",
    "                              rwidth=0.8,\n",
    "                              color=\"teal\",\n",
    "                              bins=30,\n",
    "                              density=True,\n",
    "                              alpha=0.25,\n",
    "                              title=\"Price histogram\",\n",
    "                              figsize=(12, 6))\n",
    "df['Elevation (Meters)'].plot(kind='kde',\n",
    "                              color='teal',\n",
    "                              linewidth=3)"
   ]
  },
  {
   "cell_type": "code",
   "execution_count": 37,
   "metadata": {},
   "outputs": [
    {
     "data": {
      "text/plain": [
       "<AxesSubplot:title={'center':'Price histogram'}, ylabel='Frequency'>"
      ]
     },
     "execution_count": 37,
     "metadata": {},
     "output_type": "execute_result"
    },
    {
     "data": {
      "image/png": "[encoded data removed]",
      "text/plain": [
       "<Figure size 864x432 with 1 Axes>"
      ]
     },
     "metadata": {
      "needs_background": "light"
     },
     "output_type": "display_data"
    }
   ],
   "source": [
    "df['Elevation (Meters)'].plot(kind='hist',\n",
    "                              rwidth=0.8,\n",
    "                              color=\"teal\",\n",
    "                              bins=30,\n",
    "                              title=\"Price histogram\",\n",
    "                              figsize=(12, 6))"
   ]
  },
  {
   "cell_type": "markdown",
   "metadata": {},
   "source": [
    "![orange-divider](https://user-images.githubusercontent.com/7065401/92672455-187a5f80-f2ef-11ea-890c-40be9474f7b7.png)\n",
    "\n",
    "## Which are the highest volcanoes?\n",
    "\n",
    "Create a bar plot showing the `Elevation (Meters)` per volcanoe `Type`.\n",
    "\n",
    "> Customize it! You can try different bar colors or different bars orientation, etc."
   ]
  },
  {
   "cell_type": "code",
   "execution_count": 38,
   "metadata": {},
   "outputs": [
    {
     "data": {
      "text/plain": [
       "<AxesSubplot:title={'center':'Elevation (Meters) per volcanoe Type'}, ylabel='Type'>"
      ]
     },
     "execution_count": 38,
     "metadata": {},
     "output_type": "execute_result"
    },
    {
     "data": {
      "image/png": "[encoded data removed]",
      "text/plain": [
       "<Figure size 576x576 with 1 Axes>"
      ]
     },
     "metadata": {
      "needs_background": "light"
     },
     "output_type": "display_data"
    }
   ],
   "source": [
    "# your code goes here\n",
    "elevation_type_df = df.groupby('Type').mean()['Elevation (Meters)'].sort_values()\n",
    "\n",
    "elevation_type_df.plot(kind='barh',\n",
    "                color='mediumpurple',\n",
    "                title='Elevation (Meters) per volcanoe Type',\n",
    "                figsize=(8,8))"
   ]
  },
  {
   "cell_type": "markdown",
   "metadata": {},
   "source": [
    "![orange-divider](https://user-images.githubusercontent.com/7065401/92672455-187a5f80-f2ef-11ea-890c-40be9474f7b7.png)"
   ]
  }
 ],
 "metadata": {
  "kernelspec": {
   "display_name": "Python 3",
   "language": "python",
   "name": "python3"
  },
  "language_info": {
   "codemirror_mode": {
    "name": "ipython",
    "version": 3
   },
   "file_extension": ".py",
   "mimetype": "text/x-python",
   "name": "python",
   "nbconvert_exporter": "python",
   "pygments_lexer": "ipython3",
   "version": "3.8.5"
  }
 },
 "nbformat": 4,
 "nbformat_minor": 4
}
