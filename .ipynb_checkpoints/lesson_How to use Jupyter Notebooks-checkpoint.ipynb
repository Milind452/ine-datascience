{
 "cells": [
  {
   "cell_type": "markdown",
   "metadata": {},
   "source": [
    "<div style=\"position: relative;\">\n",
    "<img src=\"https://user-images.githubusercontent.com/7065401/98728503-5ab82f80-2378-11eb-9c79-adeb308fc647.png\"></img>\n",
    "\n",
    "<h1 style=\"color: white; position: absolute; top:30%; left:10%;\">\n",
    "    Data Science — Starter pass\n",
    "</h1>\n",
    "\n",
    "<h3 style=\"color: #ef7d22; font-weight: normal; position: absolute; top:43%; left:10%;\">\n",
    "    How to use Jupyter Notebooks\n",
    "</h3>\n",
    "</div>"
   ]
  },
  {
   "cell_type": "markdown",
   "metadata": {},
   "source": [
    "![jupyter](https://user-images.githubusercontent.com/7065401/101173217-fa3bab80-3620-11eb-8f60-f3bbb9fed496.png)\n"
   ]
  },
  {
   "cell_type": "markdown",
   "metadata": {},
   "source": [
    "<div style=\"width: 100%; background-color: #ef7d22; text-align: center\">\n",
    "<br><br>\n",
    "\n",
    "<h1 style=\"color: white; font-weight: bold;\">\n",
    "    The <i>.ipynb</i> file\n",
    "</h1>\n",
    "\n",
    "<br><br> \n",
    "</div>"
   ]
  },
  {
   "cell_type": "markdown",
   "metadata": {},
   "source": [
    "Each `.ipynb` file is a text file that describes the contents of your notebook in a format called JSON.\n",
    "\n",
    "![1](https://user-images.githubusercontent.com/7065401/101170045-9d3df680-361c-11eb-98ef-d2d1a736b4c8.png)\n",
    "\n",
    "Each cell and its contents is listed on that file along with some metadata.\n",
    "\n",
    "![2](https://user-images.githubusercontent.com/7065401/101170113-bc3c8880-361c-11eb-9139-b5f8ab6eea7e.png)\n"
   ]
  },
  {
   "cell_type": "markdown",
   "metadata": {},
   "source": [
    "<div style=\"width: 100%; background-color: #ef7d22; text-align: center\">\n",
    "<br><br>\n",
    "\n",
    "<h1 style=\"color: white; font-weight: bold;\">\n",
    "    Installation\n",
    "</h1>\n",
    "\n",
    "<br><br> \n",
    "</div>"
   ]
  },
  {
   "cell_type": "markdown",
   "metadata": {},
   "source": [
    "```bash\n",
    "pip3 install jupyter\n",
    "```\n",
    "\n",
    "When it is installed run Jupyter server:\n",
    "\n",
    "```bash\n",
    "jupyter notebook\n",
    "```"
   ]
  },
  {
   "cell_type": "markdown",
   "metadata": {},
   "source": [
    "<div style=\"width: 100%; background-color: #ef7d22; text-align: center\">\n",
    "<br><br>\n",
    "\n",
    "<h1 style=\"color: white; font-weight: bold;\">\n",
    "    Jupyter Interface\n",
    "</h1>\n",
    "\n",
    "<br><br> \n",
    "</div>"
   ]
  },
  {
   "cell_type": "markdown",
   "metadata": {},
   "source": [
    "When you first start the notebook server, your browser will open to the notebook dashboard.\n",
    "\n",
    "Its main purpose is to display the notebooks and files in the current directory.\n",
    "\n",
    "![1](https://user-images.githubusercontent.com/7065401/101171524-a760f480-361e-11eb-910b-6af11af216e7.png)\n",
    "\n",
    "The notebook list shows green _“Running”_ text and a green notebook icon next to running notebooks. Notebooks remain running until you explicitly shut them down from the **Runnning** tab using the **Shutdown** button; closing the notebook’s page is not sufficient.\n"
   ]
  },
  {
   "cell_type": "markdown",
   "metadata": {},
   "source": [
    "## Notebook user interface\n",
    "![orange-divider](https://user-images.githubusercontent.com/7065401/98619088-44ab6000-22e1-11eb-8f6d-5532e68ab274.png)\n",
    "\n",
    "To create a new notebook, click on the **“New” button** at the top of the list and select **Python** from the dropbown.\n",
    "\n",
    "Clicking one Notebook from the list will open the **Notebook user interface** in a new tab.\n",
    "\n",
    "![2](https://user-images.githubusercontent.com/7065401/101170113-bc3c8880-361c-11eb-9139-b5f8ab6eea7e.png)\n",
    "\n",
    "Each **cell** is a container for text to be displayed in the notebook or code to be executed by the notebook’s kernel. Cells could be:\n",
    "- **Markdown cells**\n",
    "- **Code cells**\n",
    "    \n",
    "You can change cell type using the dropdown from the toolbar:\n",
    "\n",
    "![2](https://user-images.githubusercontent.com/7065401/101172195-9e245780-361f-11eb-99f6-85ec900b4fd4.png)\n"
   ]
  },
  {
   "cell_type": "markdown",
   "metadata": {},
   "source": [
    "---\n",
    "### This is a Markdown cell\n",
    "\n",
    "This type of cells contain text formatted using [Markdown](https://www.markdownguide.org/basic-syntax/) and displays it's output in-place when the cell is run.\n",
    "\n",
    "<span style=\"color: orange;\">you can use HTML code too</span>"
   ]
  },
  {
   "cell_type": "code",
   "execution_count": 2,
   "metadata": {},
   "outputs": [
    {
     "data": {
      "text/plain": [
       "7"
      ]
     },
     "execution_count": 2,
     "metadata": {},
     "output_type": "execute_result"
    }
   ],
   "source": [
    "# This is a Code cell\n",
    "\n",
    "x = 2\n",
    "y = 5\n",
    "\n",
    "x + y"
   ]
  },
  {
   "cell_type": "markdown",
   "metadata": {},
   "source": [
    "## Shortcuts\n",
    "![orange-divider](https://user-images.githubusercontent.com/7065401/98619088-44ab6000-22e1-11eb-8f6d-5532e68ab274.png)\n",
    "\n",
    "- `Shift + Enter`: run the current cell, select below\n",
    "- `Ctrl + Enter`: run selected cells\n",
    "- `Alt + Enter`: run the current cell, insert below\n",
    "- `Ctrl + S`: save and checkpoint\n",
    "\n",
    "\n",
    "- `A`: insert cell above\n",
    "- `B`: insert cell below\n",
    "\n",
    "\n",
    "- `Enter`: take you into edit mode\n",
    "- `H`: show all shortcuts\n"
   ]
  },
  {
   "cell_type": "markdown",
   "metadata": {},
   "source": [
    "## Cell modes\n",
    "![orange-divider](https://user-images.githubusercontent.com/7065401/98619088-44ab6000-22e1-11eb-8f6d-5532e68ab274.png)\n",
    "\n",
    "---\n",
    "### Edit mode\n",
    "\n",
    "Edit mode is indicated by a green cell border and a prompt showing in the editor area:\n",
    "\n",
    "![1](https://user-images.githubusercontent.com/7065401/101172692-420e0300-3620-11eb-9371-70e2fccc459f.png)\n",
    "\n",
    "When a cell is in edit mode, you can type into the cell, like a normal text editor.\n",
    "\n",
    "Enter edit mode by pressing `Enter` or using the mouse to click on a cell’s editor area.\n",
    "\n",
    "> If the cell is a Markdown cell you'll need to double click it to show cell's editor area.\n",
    "\n",
    "\n",
    "---\n",
    "### Command mode\n",
    "\n",
    "Command mode is indicated by a grey cell border with a blue left margin:\n",
    "\n",
    "![2](https://user-images.githubusercontent.com/7065401/101172686-40dcd600-3620-11eb-9701-6c0af5104288.png)\n",
    "\n",
    "When you are in command mode, you are able to edit the notebook as a whole, but not type into individual cells. Most importantly, in command mode, the keyboard is mapped to a set of shortcuts that let you perform notebook and cell actions efficiently.\n",
    "\n",
    "Enter command mode by pressing `Esc` or using the mouse to click outside a cell’s editor area.\n"
   ]
  },
  {
   "cell_type": "markdown",
   "metadata": {},
   "source": [
    "## Running all cells at once\n",
    "![orange-divider](https://user-images.githubusercontent.com/7065401/98619088-44ab6000-22e1-11eb-8f6d-5532e68ab274.png)\n",
    "\n",
    "You can go to **Kernel** menu item and click **Restart & Run All** to execute all the cells at once.\n",
    "\n",
    "![1](https://user-images.githubusercontent.com/7065401/101207256-21a96d00-364f-11eb-88ea-2989e2f19f94.png)\n"
   ]
  },
  {
   "cell_type": "markdown",
   "metadata": {
    "slideshow": {
     "slide_type": "slide"
    }
   },
   "source": [
    "<div style=\"position: relative;\">\n",
    "<img src=\"https://user-images.githubusercontent.com/7065401/98729912-57be3e80-237a-11eb-80e4-233ac344b391.png\"></img>\n",
    "</div>"
   ]
  }
 ],
 "metadata": {
  "kernelspec": {
   "display_name": "Python 3",
   "language": "python",
   "name": "python3"
  },
  "language_info": {
   "codemirror_mode": {
    "name": "ipython",
    "version": 3
   },
   "file_extension": ".py",
   "mimetype": "text/x-python",
   "name": "python",
   "nbconvert_exporter": "python",
   "pygments_lexer": "ipython3",
   "version": "3.8.5"
  }
 },
 "nbformat": 4,
 "nbformat_minor": 4
}
