{
 "cells": [
  {
   "cell_type": "markdown",
   "metadata": {},
   "source": [
    "<div style=\"position: relative;\">\n",
    "<img src=\"https://user-images.githubusercontent.com/7065401/98728503-5ab82f80-2378-11eb-9c79-adeb308fc647.png\"></img>\n",
    "\n",
    "<h1 style=\"color: white; position: absolute; top:30%; left:10%;\">\n",
    "    Data Science — Starter pass\n",
    "</h1>\n",
    "\n",
    "<h3 style=\"color: #ef7d22; font-weight: normal; position: absolute; top:43%; left:10%;\">\n",
    "    File Management\n",
    "</h3>\n",
    "</div>"
   ]
  },
  {
   "cell_type": "markdown",
   "metadata": {},
   "source": [
    "- Understanding file management in Python\n",
    "- Reading data from a file\n",
    "- Writing to a file\n",
    "- The `with` context manager\n",
    "- Parsing CSV files\n",
    "- JSON files"
   ]
  },
  {
   "cell_type": "markdown",
   "metadata": {},
   "source": [
    "<div style=\"width: 100%; background-color: #ef7d22; text-align: center\">\n",
    "<br><br>\n",
    "\n",
    "<h1 style=\"color: white; font-weight: bold;\">\n",
    "    Understanding file management in Python\n",
    "</h1>\n",
    "\n",
    "<br><br> \n",
    "</div>"
   ]
  },
  {
   "cell_type": "markdown",
   "metadata": {
    "slideshow": {
     "slide_type": "slide"
    }
   },
   "source": [
    "Working with files is crucial to write any meaningful software. The good news is that it's super simple to do file management in Python. For example, this is how you can read a file:\n",
    "\n",
    "```python\n",
    "file = open(\"file.csv\")\n",
    "\n",
    "file.read()\n",
    "```\n",
    "\n",
    "By default, the function will open the \"file object\" in the read mode and treat the data in the file as texts.\n",
    "\n",
    "Let’s see an example."
   ]
  },
  {
   "cell_type": "code",
   "execution_count": 1,
   "metadata": {},
   "outputs": [],
   "source": [
    "file = open(\"data/diary.txt\")"
   ]
  },
  {
   "cell_type": "code",
   "execution_count": 2,
   "metadata": {},
   "outputs": [
    {
     "name": "stdout",
     "output_type": "stream",
     "text": [
      "<_io.TextIOWrapper name='data/diary.txt' mode='r' encoding='UTF-8'>\n"
     ]
    }
   ],
   "source": [
    "print(file)"
   ]
  },
  {
   "cell_type": "code",
   "execution_count": 3,
   "metadata": {},
   "outputs": [
    {
     "name": "stdout",
     "output_type": "stream",
     "text": [
      "        Diary Of A Rock Critter\n",
      "        1989 New Music Seminar\n",
      "        by Jim Testa - Jersey Beat Fanzine \n",
      "\n",
      "        The  first  thing  you have to understand about  the  New  Music \n",
      "        Seminar  is  that  it doesn't really have anything  to  do  with \n",
      "        music;  its  purpose is to provide a forum for the discussion of \n",
      "        the business of music,  and that's a whole 'nother thing.  So if \n",
      "        there's  a  panel on songwriting,  it's about \"how  to  write  a \n",
      "        Number 1 song.\"  The \"fanzine panel\" wasn't called that;  it was \n",
      "        called  \"The Selling Of The Underground - An Overrated  Market?\"  \n",
      "        I  had never realized before  that's what I've been doing for  7 \n",
      "        years. Live & learn. Yeah, I certainly got my money's worth from \n",
      "        NMS.\n",
      "            This  obsession with turning punk rock into dollars  creates \n",
      "        some  weird scenarios - this year best exemplified by Old Skull. \n",
      "        I'm sure you've heard of Old Skull by now,  the 8 and 9 year old \n",
      "        hardcore band from Wisconsin.  Old Skull were feted and praised, \n",
      "        interviewed  way past their bedtimes.  They played the Ritz  and \n",
      "        the  Rapp Arts Center,  they got on MTV.  They are a  hype,  and \n",
      "        anyone  even remotely associated with them should be ashamed  of \n",
      "        themselves.\n",
      "             Okay,  let's look at it this way.  Let's say you're not Old \n",
      "        Skull but one of the other acts on the Restless Records roster - \n",
      "        Electric Love Muffin or 7 Seconds.  Here you've been sleeping on \n",
      "        floors,  eating  bread sandwiches,  and generally devoting  your \n",
      "        every waking hour for 6 or 7 or 9 years to your band - and along \n",
      "        comes  a  bunch  of  9  year olds  who  can't  even  play  their \n",
      "        instruments,  and  your  label goes ga-ga getting them  all  the \n",
      "        publicity,  tour support, and promotion that you've been begging \n",
      "        for. Nobody said life was fair.\n",
      "           I  am not going to mention anything else  about  NMS,  except \n",
      "        maybe  for  my visit to the Giant Records booth,  where the  new \n",
      "        label manager told me,  \"It's a whole new label,  we got rid  of \n",
      "        all  that  hardcore stuff.\"  Debbie,  I liked all that  hardcore \n",
      "        stuff.  Well, they did sign the Slickee Boys and Peter (Squirrel \n",
      "        Bait) Searcy's new band, so maybe...\n",
      "             Herewith,  the  diary of a Rock Critter during  5  frenzied \n",
      "        nights  on  the  town,  the only really worthwhile part  of  NMS \n",
      "        anyway...\n",
      "\n",
      "        Friday,  July 14:   Big show at the Ritz.  Old Skull  (sheesh!), \n",
      "        Laughing  Hyenas,  Mudhoney,  and Sonic Youth (celebrating their \n",
      "        signing to Goofen,  excuse me,  Geffen Records).   We walk in as \n",
      "        Old  Skull  is  winding  up  their  set,   the  singer/guitarist \n",
      "        destroying his ax Pete Townsend-like (sure bet he didnt' have to \n",
      "        pay  for it) while the \"bassist\" sits on the floor banging on  a \n",
      "        metal plaque with a hammer.  Punk rock, man. Don't trust anybody \n",
      "        over 10,  ok?   Laughing Hyenas are loud but one-dimensional,  a \n",
      "        non-stop drone that sounds like one long interminable song  thru \n",
      "        the  first  3/4 of their set until they finally  change  tempos.  \n",
      "        Mudhoney  pretty  much get the crowd riled up,  goofy  and  fun, \n",
      "        \"Touch  Me I'm Sick\" sounds pretty cool even in a mausoleum like \n",
      "        the New Ritz.  Next come Sonic Youth, tongue in cheek as always, \n",
      "        playing a ton of old shit and goofing on Geffen (playing Madonna \n",
      "\n",
      "\n",
      "                                        1\n",
      "\n",
      "\n",
      "\n",
      "\n",
      "\n",
      "\n",
      "\n",
      "\n",
      "        and  Guns  'N Roses samples  'tween  songs,  fr'instance).  Will \n",
      "        success spoil Sonic Youth?\n",
      "          Naah.\n",
      "\n",
      "        Saturday, July 15th\n",
      "           Check in at the Marriott Marquis.  Going up the escalator  to \n",
      "        pick up my badge and bagful of goodies and within 5 minutes meet \n",
      "        Jad  Fair,  Mike Gitter,  half of Alice Donut,  Agnostic Front's \n",
      "        Steve  Martin,  and  Old Skull (who are skateboarding  thru  the \n",
      "        hotel giving out flyers for their next show).   Show business is \n",
      "        my life.\n",
      "\n",
      "        4 p.m.   CBGB Hardcore Matinee. Jerry's Kids are a no-show but I \n",
      "        stay  for  Head's  Up,  John Bello's newest  signing  to  Hawker \n",
      "        Records.  Funny,  funky  Chili Pepperish punk rock,  don't  tell \n",
      "        anybody but I was actually dancing to this.  Gitter sidled  over \n",
      "        and says they sucked, a sure sign Bello has a winner.\n",
      "\n",
      "        9 p.m.  For no good reason,  go to Bitter End to check out Those \n",
      "        Melvins from Connecticut.  Actually,  I had a reason - their cut \n",
      "        on  the  \"No Milk\" compilation pushed all my power-pop  buttons. \n",
      "        Turns out the Melvins are a frat band,  30ish dudes with  beards \n",
      "        and  Bermuda shorts who look like they'd be comfortable doing  a \n",
      "        whole set of Poco covers.  With the exception of one or two cuts \n",
      "        (they've  got one grabber that sounds like a lost dB's classic), \n",
      "        their nerdy organic poptoons don't impress.  Lead singer has the \n",
      "        set  list scribbled on successive layers of t-shirts,  which  he \n",
      "        keeps peeling off to reveal the next song. Cute.\n",
      "          \n",
      "\n",
      "        10:30  p.m.  Toddle  over  to Gonzalez  Y  Gonzalez,  a  Mexican \n",
      "        restaurant  pressed  into service as a club  when  Downtown  got \n",
      "        padlocked  a week before NMS.  Turns out Enigma is having a pre-\n",
      "        show  party to which I wasn't invited,  but Brian from  Electric \n",
      "        Love  Muffin sneaks me in anyway for some free beer  and  nachos \n",
      "        (this is called \"networking\").   Next stop is Under Acme, a non-\n",
      "        Seminar  show with Friction Wheel,  who just keep getting better \n",
      "        and better. Bob Mould, who produced their single, is there, also \n",
      "        not wearing an NMS badge. \n",
      "\n",
      "        Sunday, April 16th\n",
      "\n",
      "        9:30  p.m.  Toxic Shock Night at the CBGB Canteen and  House  Of \n",
      "        Large  Sizes opens the evening.  I didn't much care for their lp \n",
      "        but  live  they're  a  lot  better,   more  forceful  and   less \n",
      "        archaically  \"new wave.\" Next door at CBGB it's Homestead Night, \n",
      "        and I keep shuffling back & forth.  Happy Flowers turn out to be \n",
      "        a  lot  younger and a lot more normal than I had  pictured  them \n",
      "        (with names like Mr. Anus and Mr. Horribly Charred Infant, I was \n",
      "        expecting  two  burnt-out  30ish  ex-hippies,  sorta  Shimmydisc \n",
      "        material,  if you wanna know the truth).   Giant Sand are  every \n",
      "        bit as boring live as their record.  Death of Samantha rocks but \n",
      "        I have to leave.\n",
      "\n",
      "        1:25  a.m.  Speed The Plough finally go on for the \"11:30  p.m.\" \n",
      "\n",
      "\n",
      "                                        2\n",
      "\n",
      "\n",
      "\n",
      "\n",
      "\n",
      "\n",
      "\n",
      "\n",
      "        showcase at the Bitter End.  It has been pouring all night and I \n",
      "        spent  most of the evening trudging up & down Bleecker St.  from \n",
      "        CBGB's  waiting  for  them to go on,  so even  tho'  they're  as \n",
      "        transcendently tuneful as ever,  I am wet, tired, and too cranky \n",
      "        to have any fun. \n",
      "\n",
      "        Monday, July 17th\n",
      "\n",
      "        9:30 p.m.   I've heard a lot about Too Much Joy from California, \n",
      "        including  a  rave  mention of their 2nd lp  by  Dean  Christgau \n",
      "        (during  his  keynote speech at SXSW,  no  less).   Said  lp  is \n",
      "        nowhere to be found anywhere in Manhattan, by the way; I tried 6 \n",
      "        different  stores,   incl.  Pier  Platters  in  Hoboken,  Tower, \n",
      "        Bleecker  Bobs,  Sounds,  and a few others.  Great - they travel \n",
      "        3000  miles to showcase their act and their label doesnt have  1 \n",
      "        copy  of the record in the biggest market in  America.   I  kept \n",
      "        trying  to  convince myself these gomers were actually as  wacky \n",
      "        and  zany as they were trying to come across on  stage,  but  it \n",
      "        didn't wash. The songs aren't bad but I could do without all the \n",
      "        mugging,  jumping,  and  corny choreography.   Next up is Fabian \n",
      "        Blue,  a  teenager  from the South Bronx with an 8  piece  band, \n",
      "        fuck-me good looks,  and massive soul/crossover potential, kinda \n",
      "        like a younger, male Whitney Houston, or Robbie Rosa with better \n",
      "        material.   Next door at the Canteen, the Jacklords were opening \n",
      "        up  Skyclad Night.  With 2 ex-Splatcats,  they  were  expectedly \n",
      "        60'ish  garage,  plenty  of  strong hooky tunes and  some  neato \n",
      "        surf/gtr breaks.  Now I know why Yod Crewzy quit the Splats - he \n",
      "        sings and plays guitar better'n the \n",
      "        other 'cats and never got to take centerstage.\n",
      "\n",
      "          11:30  p.m.  A  quick trip over to the Rapp  Arts  Center  - a \n",
      "        converted schoolhouse and an ideal venue to fill the vacuum left \n",
      "        by the death of Irving Plaza - for Nice Strong Arm (manic psycho \n",
      "        Gerardmetal)  and  Naked Raygun,  who ripped the place  in  two. \n",
      "        Turns  out this was also the farewell performance for Raygun gtr \n",
      "        John Haggerty.  They closed with a tribute to Government  Issue, \n",
      "        covering  \"Where You Live.\" Bitchin'.  Word came out later  that \n",
      "        their label decided at the last minute not to pay their airfare, \n",
      "        so the Rayguns had to fly in from Chicago, rent a car, pay for a \n",
      "        hotel, and fly back all out of their own pocket.  \n",
      "\n",
      "        Tuesday, July 18th\n",
      "\n",
      "        9  p.m.  Started the night off at the Philadelphia Booth  party, \n",
      "        hosted  by Carol Schutzbank and featuring various Love  Muffins, \n",
      "        Orifices,  Zooboys,  and  others.  Lots  of  demo  swapping  and \n",
      "        whatnot.  Then  we  all  subwayed over to CBGB for  one  of  the \n",
      "        weirdest bills of the week:  All, Bullet LaVolta, and the Swans.  \n",
      "        All did a long set full of slower, more tuneful songs - probably \n",
      "        glad  they weren't playing to a roomful of 16 year olds  - while \n",
      "        Bullet  LaVolta rocked per usual.  I didn't hang around for  the \n",
      "        Swans  but  crosstowned it to Avenue A for Ultra  Vivid  Scene's \n",
      "        show at King Tut's Wah Wah Hut.  Rumor had it that Kurt (Mr UVS) \n",
      "        was  offered  a chance to play the big opening night party  with \n",
      "        George  Clinton but opted instead for this  postage-stamp  sized \n",
      "\n",
      "\n",
      "                                        3\n",
      "\n",
      "\n",
      "\n",
      "\n",
      "\n",
      "\n",
      "\n",
      "\n",
      "        venue;  it  couldn't  have  been more than 105  degrees  inside, \n",
      "        packed  shoulder to shoulder,  everybody swaying to  the  band's \n",
      "        hypnotizing   melodies   and  offbeat  instrumentation   (cello, \n",
      "        keyboards,  minimal drums,  distorto gtr).   My notes say  \"Hank \n",
      "        Williams\" after that but I have no idea why.  \n",
      "\n",
      "        Wednesday, July 19th\n",
      "\n",
      "        Went to bed at 10 p.m. and lapsed into a coma.\n",
      "\n",
      "        It  should probably be noted (again & again) that the bands  are \n",
      "        the  most exploited aspect of NMS - they usually don't get paid, \n",
      "        often travel across the country to play these showcases, and the \n",
      "        bands  who  wind up on those NMS Unsigned Bands  cassettes  even \n",
      "        wind up paying big bucks for the privilege.  The clubs rake in a \n",
      "        fortune     from   the   bar   (NMS'ers    are,    after    all, \n",
      "        conventioneers...and  drink  like longshoremen),  even the  taxi \n",
      "        drivers make out like bandits. \n",
      "           But  then,  just think of the souvenirs that Old  Skull  will \n",
      "        have  for  show 'n tell in September.   Was it  worth  it?   You \n",
      "        betcha.\n",
      "\n",
      "        ----------------------------------------------------------------\n",
      "        If you liked this, might we suggest you send $2 and check out an \n",
      "        entire issue of Jersey Beat Fanzine?\n",
      "        Send to: Jim Testa, 418 Gregory Ave, Weehawken NJ 07087\n",
      "        This column will appear in the Sept. 1989 issue.\n",
      "\n",
      "\n",
      "\n",
      "\n",
      "\n",
      "\n",
      "\n",
      "\n",
      "\n",
      "\n",
      "\n",
      "\n",
      "\n",
      "\n",
      "\n",
      "\n",
      "\n",
      "\n",
      "\n",
      "\n",
      "\n",
      "\n",
      "\n",
      "\n",
      "\n",
      "\n",
      "\n",
      "\n",
      "\n",
      "\n",
      "                                        4\n",
      "\n",
      "\n",
      "\n",
      "\n",
      "\n",
      " \n",
      " \n",
      " \n",
      "\n",
      "\n",
      "\n",
      "\n",
      "\n",
      "X-=-=-=-=-=-=-=-=-=-=-=-=-=-=-=-=-=-=-=-=-=-=-=-=-=-=-=-=-=-=-=-=-=-=-=-=-=-X\n",
      " Another file downloaded from:                     The NIRVANAnet(tm) Seven\n",
      "\n",
      " & the Temple of the Screaming Electron   Taipan Enigma        510/935-5845\n",
      " Burn This Flag                           Zardoz               408/363-9766\n",
      " realitycheck                             Poindexter Fortran   510/527-1662\n",
      " Lies Unlimited                           Mick Freen           801/278-2699\n",
      " The New Dork Sublime                     Biffnix              415/864-DORK\n",
      " The Shrine                               Rif Raf              206/794-6674\n",
      " Planet Mirth                             Simon Jester         510/786-6560\n",
      "\n",
      "                          \"Raw Data for Raw Nerves\"\n",
      "X-=-=-=-=-=-=-=-=-=-=-=-=-=-=-=-=-=-=-=-=-=-=-=-=-=-=-=-=-=-=-=-=-=-=-=-=-=-X\n",
      "\n"
     ]
    }
   ],
   "source": [
    "print(file.read())"
   ]
  },
  {
   "cell_type": "markdown",
   "metadata": {},
   "source": [
    "## The Bad: Operating System\n",
    "![orange-divider](https://user-images.githubusercontent.com/7065401/98619088-44ab6000-22e1-11eb-8f6d-5532e68ab274.png)\n",
    "\n",
    "The Operating System is very protective of its files (and other I/O). After all, compromising files can cause severe damage and security threats to the overall system. The OS is in charge of controlling who (what program) can read which files, and at what extent. How much you can write, what permissions you can change, etc.\n",
    "\n",
    "![1](https://user-images.githubusercontent.com/7065401/101352704-509f2900-3871-11eb-81fa-83729e6ccfa0.png)"
   ]
  },
  {
   "cell_type": "markdown",
   "metadata": {},
   "source": [
    "File management in Python is simple. But we need to be **extremely cautious**, and sadly, **brace for impact** before we even start writing code: we need to be ready to handle every possible error, because there will be errors, I guarantee you...\n"
   ]
  },
  {
   "cell_type": "markdown",
   "metadata": {},
   "source": [
    "---\n",
    "### Important Concepts\n",
    "\n",
    "There are two important concepts to understand when dealing with files:\n",
    "* Open modes\n",
    "* File cursor (or pointer)\n"
   ]
  },
  {
   "cell_type": "markdown",
   "metadata": {},
   "source": [
    "## Open modes\n",
    "![orange-divider](https://user-images.githubusercontent.com/7065401/98619088-44ab6000-22e1-11eb-8f6d-5532e68ab274.png)\n",
    "\n",
    "The \"Open Mode\" is something you decide when you're opening a file, and basically states if you want to read or to write to a file (or both).\n",
    "\n",
    "There are different modes you can open a file using the `mode` parameter:\n",
    "\n",
    "- `r` - reading mode, default mode. Open the file for reading.\n",
    "- `w` - writing mode. Open the file for writing (**WARNING,** erases the contents of the file).\n",
    "- `a` - append mode. Open the file for writing, but place the _cursor_ at the end to append new data.\n",
    "- `x` - exclusive creation. Open the file for writing and raise an exception if the file already exists. \n",
    "\n",
    "> Using the `+` plus mode, will let you read and write at the same time without having to use `r` and `w`.\n",
    "\n",
    "|              | r | r+ | w | w+ | a | a+ | x | x+ |\n",
    "|--------------|---|----|---|----|---|----|---|----|\n",
    "| Read         | ✔ | ✔  | ✘ | ✔  | ✘ | ✔  | ✘ | ✔  |\n",
    "| Write        | ✘ | ✔  | ✔ | ✔  | ✔ | ✔  | ✔ | ✔  |\n",
    "| Creates file | ✘ | ✘  | ✔ | ✔  | ✔ | ✔  | ✔ | ✔  |\n",
    "| Erases file  | ✘ | ✘  | ✔ | ✔  | ✘ | ✘  | ✘ | ✘  |"
   ]
  },
  {
   "cell_type": "code",
   "execution_count": 4,
   "metadata": {},
   "outputs": [
    {
     "data": {
      "text/plain": [
       "<_io.TextIOWrapper name='data/diary.txt' mode='r' encoding='UTF-8'>"
      ]
     },
     "execution_count": 4,
     "metadata": {},
     "output_type": "execute_result"
    }
   ],
   "source": [
    "file = open(\"data/diary.txt\", mode=\"r\")\n",
    "\n",
    "file"
   ]
  },
  {
   "cell_type": "code",
   "execution_count": 5,
   "metadata": {},
   "outputs": [
    {
     "ename": "UnsupportedOperation",
     "evalue": "not writable",
     "output_type": "error",
     "traceback": [
      "\u001b[0;31m---------------------------------------------------------------------------\u001b[0m",
      "\u001b[0;31mUnsupportedOperation\u001b[0m                      Traceback (most recent call last)",
      "\u001b[0;32m<ipython-input-5-e17a54641b4d>\u001b[0m in \u001b[0;36m<module>\u001b[0;34m\u001b[0m\n\u001b[0;32m----> 1\u001b[0;31m \u001b[0mfile\u001b[0m\u001b[0;34m.\u001b[0m\u001b[0mwrite\u001b[0m\u001b[0;34m(\u001b[0m\u001b[0;34m\"something\"\u001b[0m\u001b[0;34m)\u001b[0m\u001b[0;34m\u001b[0m\u001b[0;34m\u001b[0m\u001b[0m\n\u001b[0m",
      "\u001b[0;31mUnsupportedOperation\u001b[0m: not writable"
     ]
    }
   ],
   "source": [
    "file.write(\"something\")"
   ]
  },
  {
   "cell_type": "markdown",
   "metadata": {},
   "source": [
    "As you can see, an `UnsupportedOperation` exception was raised. We tried to write in a file opened for reading. It was an invalid mode.\n",
    "\n",
    "You can already guess that the `open` function we introduced before takes a second parameter, which is actually the \"open mode\".\n"
   ]
  },
  {
   "cell_type": "markdown",
   "metadata": {},
   "source": [
    "## Cursors (or pointers)\n",
    "![orange-divider](https://user-images.githubusercontent.com/7065401/98619088-44ab6000-22e1-11eb-8f6d-5532e68ab274.png)\n",
    "\n",
    "We can think a file as a big string of characters (also bytes), suppose we're working with a CSV file with the following content:\n",
    "\n",
    "We always need to have a notion of \"position\". That's the idea of the cursor or pointer. You'll open a file and Python will place automatically the cursor at some given position. For example, we open it with mode `'r'`, the pointer is placed at the beginning:\n",
    "\n",
    "![pointers](https://user-images.githubusercontent.com/872296/37557772-73301a5a-29e8-11e8-91ba-29836fcd20db.png)\n",
    "\n",
    "Now we can perform different operations (reading, writing, etc) which will be performed based on the pointer. For example, we can decide to read 10 characters: Python will take the current position of the pointer, read the 10 characters, and place the pointer after the last one read.\n",
    "\n",
    "![pointers](https://user-images.githubusercontent.com/872296/37557778-858f333e-29e8-11e8-8a4b-a4ddcf466a2d.png)"
   ]
  },
  {
   "cell_type": "code",
   "execution_count": 8,
   "metadata": {},
   "outputs": [
    {
     "data": {
      "text/plain": [
       "'InvoiceNo,'"
      ]
     },
     "execution_count": 8,
     "metadata": {},
     "output_type": "execute_result"
    }
   ],
   "source": [
    "file = open(\"data/invoices.csv\", mode=\"r\")\n",
    "\n",
    "file.read(10)"
   ]
  },
  {
   "cell_type": "markdown",
   "metadata": {},
   "source": [
    "If we then decide to read 5 more characters, Python will start from that previous position of the pointer and after reading, it'll keep the pointer at the last character again:\n",
    "\n",
    "![pointers](https://user-images.githubusercontent.com/872296/37557785-91549010-29e8-11e8-98a9-8a1b831a5849.png)"
   ]
  },
  {
   "cell_type": "code",
   "execution_count": 9,
   "metadata": {},
   "outputs": [
    {
     "data": {
      "text/plain": [
       "'Stock'"
      ]
     },
     "execution_count": 9,
     "metadata": {},
     "output_type": "execute_result"
    }
   ],
   "source": [
    "file.read(5)"
   ]
  },
  {
   "cell_type": "markdown",
   "metadata": {},
   "source": [
    "There are two methods to manage the pointer: `tell` will tell you the position of the pointer, and `seek` will let you move that pointer to whatever position you want. For example, after reading 10 characters first, and 5 characters in our second operation, we should expect this file's pointer position to be `15`:"
   ]
  },
  {
   "cell_type": "code",
   "execution_count": 10,
   "metadata": {},
   "outputs": [
    {
     "data": {
      "text/plain": [
       "15"
      ]
     },
     "execution_count": 10,
     "metadata": {},
     "output_type": "execute_result"
    }
   ],
   "source": [
    "file.tell()"
   ]
  },
  {
   "cell_type": "markdown",
   "metadata": {},
   "source": [
    "I could now \"reset\" the pointer and move it back at the beginning (similarly as how it started when we just opened the file)\n",
    "\n",
    "![pointers](https://user-images.githubusercontent.com/872296/37557772-73301a5a-29e8-11e8-91ba-29836fcd20db.png)"
   ]
  },
  {
   "cell_type": "code",
   "execution_count": 11,
   "metadata": {},
   "outputs": [
    {
     "data": {
      "text/plain": [
       "0"
      ]
     },
     "execution_count": 11,
     "metadata": {},
     "output_type": "execute_result"
    }
   ],
   "source": [
    "file.seek(0)"
   ]
  },
  {
   "cell_type": "markdown",
   "metadata": {},
   "source": [
    "And then try to read 8 characters:\n",
    "\n",
    "![pointers](https://user-images.githubusercontent.com/872296/37557794-a15fab2a-29e8-11e8-9130-a21fdb95d9b0.png)"
   ]
  },
  {
   "cell_type": "code",
   "execution_count": 12,
   "metadata": {},
   "outputs": [
    {
     "data": {
      "text/plain": [
       "'InvoiceN'"
      ]
     },
     "execution_count": 12,
     "metadata": {},
     "output_type": "execute_result"
    }
   ],
   "source": [
    "file.read(8)"
   ]
  },
  {
   "cell_type": "markdown",
   "metadata": {},
   "source": [
    "<div style=\"width: 100%; background-color: #ef7d22; text-align: center\">\n",
    "<br><br>\n",
    "\n",
    "<h1 style=\"color: white; font-weight: bold;\">\n",
    "    Reading data from a file\n",
    "</h1>\n",
    "\n",
    "<br><br> \n",
    "</div>"
   ]
  },
  {
   "cell_type": "markdown",
   "metadata": {},
   "source": [
    "You've already seen the `read()` method a couple of times already. But let's dig a little bit deeper. `read()` doesn't require any parameters; by default, it'll read the entire content of the file:"
   ]
  },
  {
   "cell_type": "code",
   "execution_count": 13,
   "metadata": {},
   "outputs": [
    {
     "name": "stdout",
     "output_type": "stream",
     "text": [
      "        Diary Of A Rock Critter\n",
      "        1989 New Music Seminar\n",
      "        by Jim Testa - Jersey Beat Fanzine \n",
      "\n",
      "        The  first  thing  you have to understand about  the  New  Music \n",
      "        Seminar  is  that  it doesn't really have anything  to  do  with \n",
      "        music;  its  purpose is to provide a forum for the discussion of \n",
      "        the business of music,  and that's a whole 'nother thing.  So if \n",
      "        there's  a  panel on songwriting,  it's about \"how  to  write  a \n",
      "        Number 1 song.\"  The \"fanzine panel\" wasn't called that;  it was \n",
      "        called  \"The Selling Of The Underground - An Overrated  Market?\"  \n",
      "        I  had never realized before  that's what I've been doing for  7 \n",
      "        years. Live & learn. Yeah, I certainly got my money's worth from \n",
      "        NMS.\n",
      "            This  obsession with turning punk rock into dollars  creates \n",
      "        some  weird scenarios - this year best exemplified by Old Skull. \n",
      "        I'm sure you've heard of Old Skull by now,  the 8 and 9 year old \n",
      "        hardcore band from Wisconsin.  Old Skull were feted and praised, \n",
      "        interviewed  way past their bedtimes.  They played the Ritz  and \n",
      "        the  Rapp Arts Center,  they got on MTV.  They are a  hype,  and \n",
      "        anyone  even remotely associated with them should be ashamed  of \n",
      "        themselves.\n",
      "             Okay,  let's look at it this way.  Let's say you're not Old \n",
      "        Skull but one of the other acts on the Restless Records roster - \n",
      "        Electric Love Muffin or 7 Seconds.  Here you've been sleeping on \n",
      "        floors,  eating  bread sandwiches,  and generally devoting  your \n",
      "        every waking hour for 6 or 7 or 9 years to your band - and along \n",
      "        comes  a  bunch  of  9  year olds  who  can't  even  play  their \n",
      "        instruments,  and  your  label goes ga-ga getting them  all  the \n",
      "        publicity,  tour support, and promotion that you've been begging \n",
      "        for. Nobody said life was fair.\n",
      "           I  am not going to mention anything else  about  NMS,  except \n",
      "        maybe  for  my visit to the Giant Records booth,  where the  new \n",
      "        label manager told me,  \"It's a whole new label,  we got rid  of \n",
      "        all  that  hardcore stuff.\"  Debbie,  I liked all that  hardcore \n",
      "        stuff.  Well, they did sign the Slickee Boys and Peter (Squirrel \n",
      "        Bait) Searcy's new band, so maybe...\n",
      "             Herewith,  the  diary of a Rock Critter during  5  frenzied \n",
      "        nights  on  the  town,  the only really worthwhile part  of  NMS \n",
      "        anyway...\n",
      "\n",
      "        Friday,  July 14:   Big show at the Ritz.  Old Skull  (sheesh!), \n",
      "        Laughing  Hyenas,  Mudhoney,  and Sonic Youth (celebrating their \n",
      "        signing to Goofen,  excuse me,  Geffen Records).   We walk in as \n",
      "        Old  Skull  is  winding  up  their  set,   the  singer/guitarist \n",
      "        destroying his ax Pete Townsend-like (sure bet he didnt' have to \n",
      "        pay  for it) while the \"bassist\" sits on the floor banging on  a \n",
      "        metal plaque with a hammer.  Punk rock, man. Don't trust anybody \n",
      "        over 10,  ok?   Laughing Hyenas are loud but one-dimensional,  a \n",
      "        non-stop drone that sounds like one long interminable song  thru \n",
      "        the  first  3/4 of their set until they finally  change  tempos.  \n",
      "        Mudhoney  pretty  much get the crowd riled up,  goofy  and  fun, \n",
      "        \"Touch  Me I'm Sick\" sounds pretty cool even in a mausoleum like \n",
      "        the New Ritz.  Next come Sonic Youth, tongue in cheek as always, \n",
      "        playing a ton of old shit and goofing on Geffen (playing Madonna \n",
      "\n",
      "\n",
      "                                        1\n",
      "\n",
      "\n",
      "\n",
      "\n",
      "\n",
      "\n",
      "\n",
      "\n",
      "        and  Guns  'N Roses samples  'tween  songs,  fr'instance).  Will \n",
      "        success spoil Sonic Youth?\n",
      "          Naah.\n",
      "\n",
      "        Saturday, July 15th\n",
      "           Check in at the Marriott Marquis.  Going up the escalator  to \n",
      "        pick up my badge and bagful of goodies and within 5 minutes meet \n",
      "        Jad  Fair,  Mike Gitter,  half of Alice Donut,  Agnostic Front's \n",
      "        Steve  Martin,  and  Old Skull (who are skateboarding  thru  the \n",
      "        hotel giving out flyers for their next show).   Show business is \n",
      "        my life.\n",
      "\n",
      "        4 p.m.   CBGB Hardcore Matinee. Jerry's Kids are a no-show but I \n",
      "        stay  for  Head's  Up,  John Bello's newest  signing  to  Hawker \n",
      "        Records.  Funny,  funky  Chili Pepperish punk rock,  don't  tell \n",
      "        anybody but I was actually dancing to this.  Gitter sidled  over \n",
      "        and says they sucked, a sure sign Bello has a winner.\n",
      "\n",
      "        9 p.m.  For no good reason,  go to Bitter End to check out Those \n",
      "        Melvins from Connecticut.  Actually,  I had a reason - their cut \n",
      "        on  the  \"No Milk\" compilation pushed all my power-pop  buttons. \n",
      "        Turns out the Melvins are a frat band,  30ish dudes with  beards \n",
      "        and  Bermuda shorts who look like they'd be comfortable doing  a \n",
      "        whole set of Poco covers.  With the exception of one or two cuts \n",
      "        (they've  got one grabber that sounds like a lost dB's classic), \n",
      "        their nerdy organic poptoons don't impress.  Lead singer has the \n",
      "        set  list scribbled on successive layers of t-shirts,  which  he \n",
      "        keeps peeling off to reveal the next song. Cute.\n",
      "          \n",
      "\n",
      "        10:30  p.m.  Toddle  over  to Gonzalez  Y  Gonzalez,  a  Mexican \n",
      "        restaurant  pressed  into service as a club  when  Downtown  got \n",
      "        padlocked  a week before NMS.  Turns out Enigma is having a pre-\n",
      "        show  party to which I wasn't invited,  but Brian from  Electric \n",
      "        Love  Muffin sneaks me in anyway for some free beer  and  nachos \n",
      "        (this is called \"networking\").   Next stop is Under Acme, a non-\n",
      "        Seminar  show with Friction Wheel,  who just keep getting better \n",
      "        and better. Bob Mould, who produced their single, is there, also \n",
      "        not wearing an NMS badge. \n",
      "\n",
      "        Sunday, April 16th\n",
      "\n",
      "        9:30  p.m.  Toxic Shock Night at the CBGB Canteen and  House  Of \n",
      "        Large  Sizes opens the evening.  I didn't much care for their lp \n",
      "        but  live  they're  a  lot  better,   more  forceful  and   less \n",
      "        archaically  \"new wave.\" Next door at CBGB it's Homestead Night, \n",
      "        and I keep shuffling back & forth.  Happy Flowers turn out to be \n",
      "        a  lot  younger and a lot more normal than I had  pictured  them \n",
      "        (with names like Mr. Anus and Mr. Horribly Charred Infant, I was \n",
      "        expecting  two  burnt-out  30ish  ex-hippies,  sorta  Shimmydisc \n",
      "        material,  if you wanna know the truth).   Giant Sand are  every \n",
      "        bit as boring live as their record.  Death of Samantha rocks but \n",
      "        I have to leave.\n",
      "\n",
      "        1:25  a.m.  Speed The Plough finally go on for the \"11:30  p.m.\" \n",
      "\n",
      "\n",
      "                                        2\n",
      "\n",
      "\n",
      "\n",
      "\n",
      "\n",
      "\n",
      "\n",
      "\n",
      "        showcase at the Bitter End.  It has been pouring all night and I \n",
      "        spent  most of the evening trudging up & down Bleecker St.  from \n",
      "        CBGB's  waiting  for  them to go on,  so even  tho'  they're  as \n",
      "        transcendently tuneful as ever,  I am wet, tired, and too cranky \n",
      "        to have any fun. \n",
      "\n",
      "        Monday, July 17th\n",
      "\n",
      "        9:30 p.m.   I've heard a lot about Too Much Joy from California, \n",
      "        including  a  rave  mention of their 2nd lp  by  Dean  Christgau \n",
      "        (during  his  keynote speech at SXSW,  no  less).   Said  lp  is \n",
      "        nowhere to be found anywhere in Manhattan, by the way; I tried 6 \n",
      "        different  stores,   incl.  Pier  Platters  in  Hoboken,  Tower, \n",
      "        Bleecker  Bobs,  Sounds,  and a few others.  Great - they travel \n",
      "        3000  miles to showcase their act and their label doesnt have  1 \n",
      "        copy  of the record in the biggest market in  America.   I  kept \n",
      "        trying  to  convince myself these gomers were actually as  wacky \n",
      "        and  zany as they were trying to come across on  stage,  but  it \n",
      "        didn't wash. The songs aren't bad but I could do without all the \n",
      "        mugging,  jumping,  and  corny choreography.   Next up is Fabian \n",
      "        Blue,  a  teenager  from the South Bronx with an 8  piece  band, \n",
      "        fuck-me good looks,  and massive soul/crossover potential, kinda \n",
      "        like a younger, male Whitney Houston, or Robbie Rosa with better \n",
      "        material.   Next door at the Canteen, the Jacklords were opening \n",
      "        up  Skyclad Night.  With 2 ex-Splatcats,  they  were  expectedly \n",
      "        60'ish  garage,  plenty  of  strong hooky tunes and  some  neato \n",
      "        surf/gtr breaks.  Now I know why Yod Crewzy quit the Splats - he \n",
      "        sings and plays guitar better'n the \n",
      "        other 'cats and never got to take centerstage.\n",
      "\n",
      "          11:30  p.m.  A  quick trip over to the Rapp  Arts  Center  - a \n",
      "        converted schoolhouse and an ideal venue to fill the vacuum left \n",
      "        by the death of Irving Plaza - for Nice Strong Arm (manic psycho \n",
      "        Gerardmetal)  and  Naked Raygun,  who ripped the place  in  two. \n",
      "        Turns  out this was also the farewell performance for Raygun gtr \n",
      "        John Haggerty.  They closed with a tribute to Government  Issue, \n",
      "        covering  \"Where You Live.\" Bitchin'.  Word came out later  that \n",
      "        their label decided at the last minute not to pay their airfare, \n",
      "        so the Rayguns had to fly in from Chicago, rent a car, pay for a \n",
      "        hotel, and fly back all out of their own pocket.  \n",
      "\n",
      "        Tuesday, July 18th\n",
      "\n",
      "        9  p.m.  Started the night off at the Philadelphia Booth  party, \n",
      "        hosted  by Carol Schutzbank and featuring various Love  Muffins, \n",
      "        Orifices,  Zooboys,  and  others.  Lots  of  demo  swapping  and \n",
      "        whatnot.  Then  we  all  subwayed over to CBGB for  one  of  the \n",
      "        weirdest bills of the week:  All, Bullet LaVolta, and the Swans.  \n",
      "        All did a long set full of slower, more tuneful songs - probably \n",
      "        glad  they weren't playing to a roomful of 16 year olds  - while \n",
      "        Bullet  LaVolta rocked per usual.  I didn't hang around for  the \n",
      "        Swans  but  crosstowned it to Avenue A for Ultra  Vivid  Scene's \n",
      "        show at King Tut's Wah Wah Hut.  Rumor had it that Kurt (Mr UVS) \n",
      "        was  offered  a chance to play the big opening night party  with \n",
      "        George  Clinton but opted instead for this  postage-stamp  sized \n",
      "\n",
      "\n",
      "                                        3\n",
      "\n",
      "\n",
      "\n",
      "\n",
      "\n",
      "\n",
      "\n",
      "\n",
      "        venue;  it  couldn't  have  been more than 105  degrees  inside, \n",
      "        packed  shoulder to shoulder,  everybody swaying to  the  band's \n",
      "        hypnotizing   melodies   and  offbeat  instrumentation   (cello, \n",
      "        keyboards,  minimal drums,  distorto gtr).   My notes say  \"Hank \n",
      "        Williams\" after that but I have no idea why.  \n",
      "\n",
      "        Wednesday, July 19th\n",
      "\n",
      "        Went to bed at 10 p.m. and lapsed into a coma.\n",
      "\n",
      "        It  should probably be noted (again & again) that the bands  are \n",
      "        the  most exploited aspect of NMS - they usually don't get paid, \n",
      "        often travel across the country to play these showcases, and the \n",
      "        bands  who  wind up on those NMS Unsigned Bands  cassettes  even \n",
      "        wind up paying big bucks for the privilege.  The clubs rake in a \n",
      "        fortune     from   the   bar   (NMS'ers    are,    after    all, \n",
      "        conventioneers...and  drink  like longshoremen),  even the  taxi \n",
      "        drivers make out like bandits. \n",
      "           But  then,  just think of the souvenirs that Old  Skull  will \n",
      "        have  for  show 'n tell in September.   Was it  worth  it?   You \n",
      "        betcha.\n",
      "\n",
      "        ----------------------------------------------------------------\n",
      "        If you liked this, might we suggest you send $2 and check out an \n",
      "        entire issue of Jersey Beat Fanzine?\n",
      "        Send to: Jim Testa, 418 Gregory Ave, Weehawken NJ 07087\n",
      "        This column will appear in the Sept. 1989 issue.\n",
      "\n",
      "\n",
      "\n",
      "\n",
      "\n",
      "\n",
      "\n",
      "\n",
      "\n",
      "\n",
      "\n",
      "\n",
      "\n",
      "\n",
      "\n",
      "\n",
      "\n",
      "\n",
      "\n",
      "\n",
      "\n",
      "\n",
      "\n",
      "\n",
      "\n",
      "\n",
      "\n",
      "\n",
      "\n",
      "\n",
      "                                        4\n",
      "\n",
      "\n",
      "\n",
      "\n",
      "\n",
      " \n",
      " \n",
      " \n",
      "\n",
      "\n",
      "\n",
      "\n",
      "\n",
      "X-=-=-=-=-=-=-=-=-=-=-=-=-=-=-=-=-=-=-=-=-=-=-=-=-=-=-=-=-=-=-=-=-=-=-=-=-=-X\n",
      " Another file downloaded from:                     The NIRVANAnet(tm) Seven\n",
      "\n",
      " & the Temple of the Screaming Electron   Taipan Enigma        510/935-5845\n",
      " Burn This Flag                           Zardoz               408/363-9766\n",
      " realitycheck                             Poindexter Fortran   510/527-1662\n",
      " Lies Unlimited                           Mick Freen           801/278-2699\n",
      " The New Dork Sublime                     Biffnix              415/864-DORK\n",
      " The Shrine                               Rif Raf              206/794-6674\n",
      " Planet Mirth                             Simon Jester         510/786-6560\n",
      "\n",
      "                          \"Raw Data for Raw Nerves\"\n",
      "X-=-=-=-=-=-=-=-=-=-=-=-=-=-=-=-=-=-=-=-=-=-=-=-=-=-=-=-=-=-=-=-=-=-=-=-=-=-X\n",
      "\n"
     ]
    }
   ],
   "source": [
    "file = open(\"data/diary.txt\", mode=\"r\")\n",
    "\n",
    "all_content = file.read()\n",
    "print(all_content)"
   ]
  },
  {
   "cell_type": "markdown",
   "metadata": {},
   "source": [
    "> **Warning:** This is of course dangerous if you have large files as you could run out of memory while reading the entire file.\n"
   ]
  },
  {
   "cell_type": "code",
   "execution_count": 14,
   "metadata": {},
   "outputs": [
    {
     "name": "stdout",
     "output_type": "stream",
     "text": [
      "        Diary Of A Rock Critter\n",
      "        1989 New Music Seminar\n",
      "        by Jim Testa - Jersey Beat Fa\n"
     ]
    }
   ],
   "source": [
    "file = open(\"data/diary.txt\", mode=\"r\")\n",
    "\n",
    "print(file.read(100))"
   ]
  },
  {
   "cell_type": "markdown",
   "metadata": {},
   "source": [
    "## Reading line by line\n",
    "![orange-divider](https://user-images.githubusercontent.com/7065401/98619088-44ab6000-22e1-11eb-8f6d-5532e68ab274.png)\n",
    "\n",
    "To avoid this, you can read by lines dividing the file by the newline char (`'\\n'`).\n"
   ]
  },
  {
   "cell_type": "code",
   "execution_count": 15,
   "metadata": {},
   "outputs": [
    {
     "name": "stdout",
     "output_type": "stream",
     "text": [
      "        Diary Of A Rock Critter\n",
      "\n"
     ]
    }
   ],
   "source": [
    "file = open(\"data/diary.txt\", mode=\"r\")\n",
    "\n",
    "line = file.readline()\n",
    "print(line)"
   ]
  },
  {
   "cell_type": "markdown",
   "metadata": {},
   "source": [
    "You can use this `line` variable and perform operations to it as any other Python variable:"
   ]
  },
  {
   "cell_type": "code",
   "execution_count": 16,
   "metadata": {},
   "outputs": [
    {
     "data": {
      "text/plain": [
       "['', '', '', '', '', '', '', '', 'Diary', 'Of', 'A', 'Rock', 'Critter\\n']"
      ]
     },
     "execution_count": 16,
     "metadata": {},
     "output_type": "execute_result"
    }
   ],
   "source": [
    "line.split(\" \")"
   ]
  },
  {
   "cell_type": "code",
   "execution_count": 17,
   "metadata": {},
   "outputs": [
    {
     "name": "stdout",
     "output_type": "stream",
     "text": [
      "        1989 New Music Seminar\n",
      "\n"
     ]
    }
   ],
   "source": [
    "print(file.readline())"
   ]
  },
  {
   "cell_type": "code",
   "execution_count": 18,
   "metadata": {},
   "outputs": [
    {
     "name": "stdout",
     "output_type": "stream",
     "text": [
      "        by Jim Testa - Jersey Beat Fanzine \n",
      "\n"
     ]
    }
   ],
   "source": [
    "print(file.readline())"
   ]
  },
  {
   "cell_type": "markdown",
   "metadata": {},
   "source": [
    "## File objects and the iterator pattern\n",
    "![orange-divider](https://user-images.githubusercontent.com/7065401/98619088-44ab6000-22e1-11eb-8f6d-5532e68ab274.png)\n",
    "\n",
    "When you open a file with the function `open`, the result is a \"file object\". It's a full featured Python object that has a few methods and attributes (`read`, `readline`, etc). But as many other Python objects, it also holds the concept of \"iteration\" (as for example, lists or dicts). That means that you can just \"iterate\" over that object with a regular for loop. Each \"pass\" of the iterator will give you a new line (similar to the `readline()` method)."
   ]
  },
  {
   "cell_type": "code",
   "execution_count": 19,
   "metadata": {},
   "outputs": [
    {
     "name": "stdout",
     "output_type": "stream",
     "text": [
      "        Diary Of A Rock Critter\n",
      "\n",
      "        1989 New Music Seminar\n",
      "\n",
      "        by Jim Testa - Jersey Beat Fanzine \n",
      "\n",
      "\n",
      "\n",
      "        The  first  thing  you have to understand about  the  New  Music \n",
      "\n",
      "        Seminar  is  that  it doesn't really have anything  to  do  with \n",
      "\n",
      "        music;  its  purpose is to provide a forum for the discussion of \n",
      "\n",
      "        the business of music,  and that's a whole 'nother thing.  So if \n",
      "\n",
      "        there's  a  panel on songwriting,  it's about \"how  to  write  a \n",
      "\n",
      "        Number 1 song.\"  The \"fanzine panel\" wasn't called that;  it was \n",
      "\n",
      "        called  \"The Selling Of The Underground - An Overrated  Market?\"  \n",
      "\n",
      "        I  had never realized before  that's what I've been doing for  7 \n",
      "\n",
      "        years. Live & learn. Yeah, I certainly got my money's worth from \n",
      "\n",
      "        NMS.\n",
      "\n",
      "            This  obsession with turning punk rock into dollars  creates \n",
      "\n",
      "        some  weird scenarios - this year best exemplified by Old Skull. \n",
      "\n",
      "        I'm sure you've heard of Old Skull by now,  the 8 and 9 year old \n",
      "\n",
      "        hardcore band from Wisconsin.  Old Skull were feted and praised, \n",
      "\n",
      "        interviewed  way past their bedtimes.  They played the Ritz  and \n",
      "\n",
      "        the  Rapp Arts Center,  they got on MTV.  They are a  hype,  and \n",
      "\n",
      "        anyone  even remotely associated with them should be ashamed  of \n",
      "\n",
      "        themselves.\n",
      "\n",
      "             Okay,  let's look at it this way.  Let's say you're not Old \n",
      "\n",
      "        Skull but one of the other acts on the Restless Records roster - \n",
      "\n",
      "        Electric Love Muffin or 7 Seconds.  Here you've been sleeping on \n",
      "\n",
      "        floors,  eating  bread sandwiches,  and generally devoting  your \n",
      "\n",
      "        every waking hour for 6 or 7 or 9 years to your band - and along \n",
      "\n",
      "        comes  a  bunch  of  9  year olds  who  can't  even  play  their \n",
      "\n",
      "        instruments,  and  your  label goes ga-ga getting them  all  the \n",
      "\n",
      "        publicity,  tour support, and promotion that you've been begging \n",
      "\n",
      "        for. Nobody said life was fair.\n",
      "\n",
      "           I  am not going to mention anything else  about  NMS,  except \n",
      "\n",
      "        maybe  for  my visit to the Giant Records booth,  where the  new \n",
      "\n",
      "        label manager told me,  \"It's a whole new label,  we got rid  of \n",
      "\n",
      "        all  that  hardcore stuff.\"  Debbie,  I liked all that  hardcore \n",
      "\n",
      "        stuff.  Well, they did sign the Slickee Boys and Peter (Squirrel \n",
      "\n",
      "        Bait) Searcy's new band, so maybe...\n",
      "\n",
      "             Herewith,  the  diary of a Rock Critter during  5  frenzied \n",
      "\n",
      "        nights  on  the  town,  the only really worthwhile part  of  NMS \n",
      "\n",
      "        anyway...\n",
      "\n",
      "\n",
      "\n",
      "        Friday,  July 14:   Big show at the Ritz.  Old Skull  (sheesh!), \n",
      "\n",
      "        Laughing  Hyenas,  Mudhoney,  and Sonic Youth (celebrating their \n",
      "\n",
      "        signing to Goofen,  excuse me,  Geffen Records).   We walk in as \n",
      "\n",
      "        Old  Skull  is  winding  up  their  set,   the  singer/guitarist \n",
      "\n",
      "        destroying his ax Pete Townsend-like (sure bet he didnt' have to \n",
      "\n",
      "        pay  for it) while the \"bassist\" sits on the floor banging on  a \n",
      "\n",
      "        metal plaque with a hammer.  Punk rock, man. Don't trust anybody \n",
      "\n",
      "        over 10,  ok?   Laughing Hyenas are loud but one-dimensional,  a \n",
      "\n",
      "        non-stop drone that sounds like one long interminable song  thru \n",
      "\n",
      "        the  first  3/4 of their set until they finally  change  tempos.  \n",
      "\n",
      "        Mudhoney  pretty  much get the crowd riled up,  goofy  and  fun, \n",
      "\n",
      "        \"Touch  Me I'm Sick\" sounds pretty cool even in a mausoleum like \n",
      "\n",
      "        the New Ritz.  Next come Sonic Youth, tongue in cheek as always, \n",
      "\n",
      "        playing a ton of old shit and goofing on Geffen (playing Madonna \n",
      "\n",
      "\n",
      "\n",
      "\n",
      "\n",
      "                                        1\n",
      "\n",
      "\n",
      "\n",
      "\n",
      "\n",
      "\n",
      "\n",
      "\n",
      "\n",
      "\n",
      "\n",
      "\n",
      "\n",
      "\n",
      "\n",
      "\n",
      "\n",
      "        and  Guns  'N Roses samples  'tween  songs,  fr'instance).  Will \n",
      "\n",
      "        success spoil Sonic Youth?\n",
      "\n",
      "          Naah.\n",
      "\n",
      "\n",
      "\n",
      "        Saturday, July 15th\n",
      "\n",
      "           Check in at the Marriott Marquis.  Going up the escalator  to \n",
      "\n",
      "        pick up my badge and bagful of goodies and within 5 minutes meet \n",
      "\n",
      "        Jad  Fair,  Mike Gitter,  half of Alice Donut,  Agnostic Front's \n",
      "\n",
      "        Steve  Martin,  and  Old Skull (who are skateboarding  thru  the \n",
      "\n",
      "        hotel giving out flyers for their next show).   Show business is \n",
      "\n",
      "        my life.\n",
      "\n",
      "\n",
      "\n",
      "        4 p.m.   CBGB Hardcore Matinee. Jerry's Kids are a no-show but I \n",
      "\n",
      "        stay  for  Head's  Up,  John Bello's newest  signing  to  Hawker \n",
      "\n",
      "        Records.  Funny,  funky  Chili Pepperish punk rock,  don't  tell \n",
      "\n",
      "        anybody but I was actually dancing to this.  Gitter sidled  over \n",
      "\n",
      "        and says they sucked, a sure sign Bello has a winner.\n",
      "\n",
      "\n",
      "\n",
      "        9 p.m.  For no good reason,  go to Bitter End to check out Those \n",
      "\n",
      "        Melvins from Connecticut.  Actually,  I had a reason - their cut \n",
      "\n",
      "        on  the  \"No Milk\" compilation pushed all my power-pop  buttons. \n",
      "\n",
      "        Turns out the Melvins are a frat band,  30ish dudes with  beards \n",
      "\n",
      "        and  Bermuda shorts who look like they'd be comfortable doing  a \n",
      "\n",
      "        whole set of Poco covers.  With the exception of one or two cuts \n",
      "\n",
      "        (they've  got one grabber that sounds like a lost dB's classic), \n",
      "\n",
      "        their nerdy organic poptoons don't impress.  Lead singer has the \n",
      "\n",
      "        set  list scribbled on successive layers of t-shirts,  which  he \n",
      "\n",
      "        keeps peeling off to reveal the next song. Cute.\n",
      "\n",
      "          \n",
      "\n",
      "\n",
      "\n",
      "        10:30  p.m.  Toddle  over  to Gonzalez  Y  Gonzalez,  a  Mexican \n",
      "\n",
      "        restaurant  pressed  into service as a club  when  Downtown  got \n",
      "\n",
      "        padlocked  a week before NMS.  Turns out Enigma is having a pre-\n",
      "\n",
      "        show  party to which I wasn't invited,  but Brian from  Electric \n",
      "\n",
      "        Love  Muffin sneaks me in anyway for some free beer  and  nachos \n",
      "\n",
      "        (this is called \"networking\").   Next stop is Under Acme, a non-\n",
      "\n",
      "        Seminar  show with Friction Wheel,  who just keep getting better \n",
      "\n",
      "        and better. Bob Mould, who produced their single, is there, also \n",
      "\n",
      "        not wearing an NMS badge. \n",
      "\n",
      "\n",
      "\n",
      "        Sunday, April 16th\n",
      "\n",
      "\n",
      "\n",
      "        9:30  p.m.  Toxic Shock Night at the CBGB Canteen and  House  Of \n",
      "\n",
      "        Large  Sizes opens the evening.  I didn't much care for their lp \n",
      "\n",
      "        but  live  they're  a  lot  better,   more  forceful  and   less \n",
      "\n",
      "        archaically  \"new wave.\" Next door at CBGB it's Homestead Night, \n",
      "\n",
      "        and I keep shuffling back & forth.  Happy Flowers turn out to be \n",
      "\n",
      "        a  lot  younger and a lot more normal than I had  pictured  them \n",
      "\n",
      "        (with names like Mr. Anus and Mr. Horribly Charred Infant, I was \n",
      "\n",
      "        expecting  two  burnt-out  30ish  ex-hippies,  sorta  Shimmydisc \n",
      "\n",
      "        material,  if you wanna know the truth).   Giant Sand are  every \n",
      "\n",
      "        bit as boring live as their record.  Death of Samantha rocks but \n",
      "\n",
      "        I have to leave.\n",
      "\n",
      "\n",
      "\n",
      "        1:25  a.m.  Speed The Plough finally go on for the \"11:30  p.m.\" \n",
      "\n",
      "\n",
      "\n",
      "\n",
      "\n",
      "                                        2\n",
      "\n",
      "\n",
      "\n",
      "\n",
      "\n",
      "\n",
      "\n",
      "\n",
      "\n",
      "\n",
      "\n",
      "\n",
      "\n",
      "\n",
      "\n",
      "\n",
      "\n",
      "        showcase at the Bitter End.  It has been pouring all night and I \n",
      "\n",
      "        spent  most of the evening trudging up & down Bleecker St.  from \n",
      "\n",
      "        CBGB's  waiting  for  them to go on,  so even  tho'  they're  as \n",
      "\n",
      "        transcendently tuneful as ever,  I am wet, tired, and too cranky \n",
      "\n",
      "        to have any fun. \n",
      "\n",
      "\n",
      "\n",
      "        Monday, July 17th\n",
      "\n",
      "\n",
      "\n",
      "        9:30 p.m.   I've heard a lot about Too Much Joy from California, \n",
      "\n",
      "        including  a  rave  mention of their 2nd lp  by  Dean  Christgau \n",
      "\n",
      "        (during  his  keynote speech at SXSW,  no  less).   Said  lp  is \n",
      "\n",
      "        nowhere to be found anywhere in Manhattan, by the way; I tried 6 \n",
      "\n",
      "        different  stores,   incl.  Pier  Platters  in  Hoboken,  Tower, \n",
      "\n",
      "        Bleecker  Bobs,  Sounds,  and a few others.  Great - they travel \n",
      "\n",
      "        3000  miles to showcase their act and their label doesnt have  1 \n",
      "\n",
      "        copy  of the record in the biggest market in  America.   I  kept \n",
      "\n",
      "        trying  to  convince myself these gomers were actually as  wacky \n",
      "\n",
      "        and  zany as they were trying to come across on  stage,  but  it \n",
      "\n",
      "        didn't wash. The songs aren't bad but I could do without all the \n",
      "\n",
      "        mugging,  jumping,  and  corny choreography.   Next up is Fabian \n",
      "\n",
      "        Blue,  a  teenager  from the South Bronx with an 8  piece  band, \n",
      "\n",
      "        fuck-me good looks,  and massive soul/crossover potential, kinda \n",
      "\n",
      "        like a younger, male Whitney Houston, or Robbie Rosa with better \n",
      "\n",
      "        material.   Next door at the Canteen, the Jacklords were opening \n",
      "\n",
      "        up  Skyclad Night.  With 2 ex-Splatcats,  they  were  expectedly \n",
      "\n",
      "        60'ish  garage,  plenty  of  strong hooky tunes and  some  neato \n",
      "\n",
      "        surf/gtr breaks.  Now I know why Yod Crewzy quit the Splats - he \n",
      "\n",
      "        sings and plays guitar better'n the \n",
      "\n",
      "        other 'cats and never got to take centerstage.\n",
      "\n",
      "\n",
      "\n",
      "          11:30  p.m.  A  quick trip over to the Rapp  Arts  Center  - a \n",
      "\n",
      "        converted schoolhouse and an ideal venue to fill the vacuum left \n",
      "\n",
      "        by the death of Irving Plaza - for Nice Strong Arm (manic psycho \n",
      "\n",
      "        Gerardmetal)  and  Naked Raygun,  who ripped the place  in  two. \n",
      "\n",
      "        Turns  out this was also the farewell performance for Raygun gtr \n",
      "\n",
      "        John Haggerty.  They closed with a tribute to Government  Issue, \n",
      "\n",
      "        covering  \"Where You Live.\" Bitchin'.  Word came out later  that \n",
      "\n",
      "        their label decided at the last minute not to pay their airfare, \n",
      "\n",
      "        so the Rayguns had to fly in from Chicago, rent a car, pay for a \n",
      "\n",
      "        hotel, and fly back all out of their own pocket.  \n",
      "\n",
      "\n",
      "\n",
      "        Tuesday, July 18th\n",
      "\n",
      "\n",
      "\n",
      "        9  p.m.  Started the night off at the Philadelphia Booth  party, \n",
      "\n",
      "        hosted  by Carol Schutzbank and featuring various Love  Muffins, \n",
      "\n",
      "        Orifices,  Zooboys,  and  others.  Lots  of  demo  swapping  and \n",
      "\n",
      "        whatnot.  Then  we  all  subwayed over to CBGB for  one  of  the \n",
      "\n",
      "        weirdest bills of the week:  All, Bullet LaVolta, and the Swans.  \n",
      "\n",
      "        All did a long set full of slower, more tuneful songs - probably \n",
      "\n",
      "        glad  they weren't playing to a roomful of 16 year olds  - while \n",
      "\n",
      "        Bullet  LaVolta rocked per usual.  I didn't hang around for  the \n",
      "\n",
      "        Swans  but  crosstowned it to Avenue A for Ultra  Vivid  Scene's \n",
      "\n",
      "        show at King Tut's Wah Wah Hut.  Rumor had it that Kurt (Mr UVS) \n",
      "\n",
      "        was  offered  a chance to play the big opening night party  with \n",
      "\n",
      "        George  Clinton but opted instead for this  postage-stamp  sized \n",
      "\n",
      "\n",
      "\n",
      "\n",
      "\n",
      "                                        3\n",
      "\n",
      "\n",
      "\n",
      "\n",
      "\n",
      "\n",
      "\n",
      "\n",
      "\n",
      "\n",
      "\n",
      "\n",
      "\n",
      "\n",
      "\n",
      "\n",
      "\n",
      "        venue;  it  couldn't  have  been more than 105  degrees  inside, \n",
      "\n",
      "        packed  shoulder to shoulder,  everybody swaying to  the  band's \n",
      "\n",
      "        hypnotizing   melodies   and  offbeat  instrumentation   (cello, \n",
      "\n",
      "        keyboards,  minimal drums,  distorto gtr).   My notes say  \"Hank \n",
      "\n",
      "        Williams\" after that but I have no idea why.  \n",
      "\n",
      "\n",
      "\n",
      "        Wednesday, July 19th\n",
      "\n",
      "\n",
      "\n",
      "        Went to bed at 10 p.m. and lapsed into a coma.\n",
      "\n",
      "\n",
      "\n",
      "        It  should probably be noted (again & again) that the bands  are \n",
      "\n",
      "        the  most exploited aspect of NMS - they usually don't get paid, \n",
      "\n",
      "        often travel across the country to play these showcases, and the \n",
      "\n",
      "        bands  who  wind up on those NMS Unsigned Bands  cassettes  even \n",
      "\n",
      "        wind up paying big bucks for the privilege.  The clubs rake in a \n",
      "\n",
      "        fortune     from   the   bar   (NMS'ers    are,    after    all, \n",
      "\n",
      "        conventioneers...and  drink  like longshoremen),  even the  taxi \n",
      "\n",
      "        drivers make out like bandits. \n",
      "\n",
      "           But  then,  just think of the souvenirs that Old  Skull  will \n",
      "\n",
      "        have  for  show 'n tell in September.   Was it  worth  it?   You \n",
      "\n",
      "        betcha.\n",
      "\n",
      "\n",
      "\n",
      "        ----------------------------------------------------------------\n",
      "\n",
      "        If you liked this, might we suggest you send $2 and check out an \n",
      "\n",
      "        entire issue of Jersey Beat Fanzine?\n",
      "\n",
      "        Send to: Jim Testa, 418 Gregory Ave, Weehawken NJ 07087\n",
      "\n",
      "        This column will appear in the Sept. 1989 issue.\n",
      "\n",
      "\n",
      "\n",
      "\n",
      "\n",
      "\n",
      "\n",
      "\n",
      "\n",
      "\n",
      "\n",
      "\n",
      "\n",
      "\n",
      "\n",
      "\n",
      "\n",
      "\n",
      "\n",
      "\n",
      "\n",
      "\n",
      "\n",
      "\n",
      "\n",
      "\n",
      "\n",
      "\n",
      "\n",
      "\n",
      "\n",
      "\n",
      "\n",
      "\n",
      "\n",
      "\n",
      "\n",
      "\n",
      "\n",
      "\n",
      "\n",
      "\n",
      "\n",
      "\n",
      "\n",
      "\n",
      "\n",
      "\n",
      "\n",
      "\n",
      "\n",
      "\n",
      "\n",
      "\n",
      "\n",
      "\n",
      "\n",
      "\n",
      "\n",
      "\n",
      "\n",
      "                                        4\n",
      "\n",
      "\n",
      "\n",
      "\n",
      "\n",
      "\n",
      "\n",
      "\n",
      "\n",
      "\n",
      "\n",
      " \n",
      "\n",
      " \n",
      "\n",
      " \n",
      "\n",
      "\n",
      "\n",
      "\n",
      "\n",
      "\n",
      "\n",
      "\n",
      "\n",
      "\n",
      "\n",
      "X-=-=-=-=-=-=-=-=-=-=-=-=-=-=-=-=-=-=-=-=-=-=-=-=-=-=-=-=-=-=-=-=-=-=-=-=-=-X\n",
      "\n",
      " Another file downloaded from:                     The NIRVANAnet(tm) Seven\n",
      "\n",
      "\n",
      "\n",
      " & the Temple of the Screaming Electron   Taipan Enigma        510/935-5845\n",
      "\n",
      " Burn This Flag                           Zardoz               408/363-9766\n",
      "\n",
      " realitycheck                             Poindexter Fortran   510/527-1662\n",
      "\n",
      " Lies Unlimited                           Mick Freen           801/278-2699\n",
      "\n",
      " The New Dork Sublime                     Biffnix              415/864-DORK\n",
      "\n",
      " The Shrine                               Rif Raf              206/794-6674\n",
      "\n",
      " Planet Mirth                             Simon Jester         510/786-6560\n",
      "\n",
      "\n",
      "\n",
      "                          \"Raw Data for Raw Nerves\"\n",
      "\n",
      "X-=-=-=-=-=-=-=-=-=-=-=-=-=-=-=-=-=-=-=-=-=-=-=-=-=-=-=-=-=-=-=-=-=-=-=-=-=-X\n",
      "\n"
     ]
    }
   ],
   "source": [
    "file = open(\"data/diary.txt\", mode=\"r\")\n",
    "\n",
    "for line in file:\n",
    "    print(line)"
   ]
  },
  {
   "cell_type": "code",
   "execution_count": 20,
   "metadata": {},
   "outputs": [
    {
     "name": "stdout",
     "output_type": "stream",
     "text": [
      "0         Diary Of A Rock Critter\n",
      "\n",
      "1         1989 New Music Seminar\n",
      "\n",
      "2         by Jim Testa - Jersey Beat Fanzine \n",
      "\n",
      "3 \n",
      "\n",
      "4         The  first  thing  you have to understand about  the  New  Music \n",
      "\n",
      "5         Seminar  is  that  it doesn't really have anything  to  do  with \n",
      "\n",
      "6         music;  its  purpose is to provide a forum for the discussion of \n",
      "\n",
      "7         the business of music,  and that's a whole 'nother thing.  So if \n",
      "\n",
      "8         there's  a  panel on songwriting,  it's about \"how  to  write  a \n",
      "\n",
      "9         Number 1 song.\"  The \"fanzine panel\" wasn't called that;  it was \n",
      "\n",
      "10         called  \"The Selling Of The Underground - An Overrated  Market?\"  \n",
      "\n",
      "11         I  had never realized before  that's what I've been doing for  7 \n",
      "\n",
      "12         years. Live & learn. Yeah, I certainly got my money's worth from \n",
      "\n",
      "13         NMS.\n",
      "\n",
      "14             This  obsession with turning punk rock into dollars  creates \n",
      "\n",
      "15         some  weird scenarios - this year best exemplified by Old Skull. \n",
      "\n",
      "16         I'm sure you've heard of Old Skull by now,  the 8 and 9 year old \n",
      "\n",
      "17         hardcore band from Wisconsin.  Old Skull were feted and praised, \n",
      "\n",
      "18         interviewed  way past their bedtimes.  They played the Ritz  and \n",
      "\n",
      "19         the  Rapp Arts Center,  they got on MTV.  They are a  hype,  and \n",
      "\n"
     ]
    }
   ],
   "source": [
    "file = open(\"data/diary.txt\", mode=\"r\")\n",
    "\n",
    "for line_num, line in enumerate(file):\n",
    "    if (line_num < 20):\n",
    "        print(line_num, line)"
   ]
  },
  {
   "cell_type": "markdown",
   "metadata": {},
   "source": [
    "## Closing the file\n",
    "![orange-divider](https://user-images.githubusercontent.com/7065401/98619088-44ab6000-22e1-11eb-8f6d-5532e68ab274.png)\n",
    "\n",
    "The operating system needs to allocate resources to keep up with the files you open. Remember that the OS needs to \"monitor\" all our files-related activities; so every time you open a file, the OS needs to allocate resources for that \"monitoring\" task.\n",
    "\n",
    "If you open too many files, and don't close them, your system might crash, or your data might be lost (the OS also flushes data from memory to the files when you close them).\n",
    "\n",
    "![Closing files](https://docs.google.com/drawings/d/e/2PACX-1vRR4bnLVVzZkFhyaRG3I5BO402tJ__yZGVP64TP-n3jV9svUeVjSzZuVPu-25sLS45pSLD5IIb22pu-/pub?w=960&h=720)\n",
    "\n",
    "Closing a file is simple, just use the `close()` method of the file object returned by `open()`:"
   ]
  },
  {
   "cell_type": "code",
   "execution_count": 21,
   "metadata": {},
   "outputs": [
    {
     "data": {
      "text/plain": [
       "False"
      ]
     },
     "execution_count": 21,
     "metadata": {},
     "output_type": "execute_result"
    }
   ],
   "source": [
    "file.closed"
   ]
  },
  {
   "cell_type": "code",
   "execution_count": 22,
   "metadata": {},
   "outputs": [],
   "source": [
    "file.close()"
   ]
  },
  {
   "cell_type": "code",
   "execution_count": 23,
   "metadata": {},
   "outputs": [
    {
     "data": {
      "text/plain": [
       "True"
      ]
     },
     "execution_count": 23,
     "metadata": {},
     "output_type": "execute_result"
    }
   ],
   "source": [
    "file.closed"
   ]
  },
  {
   "cell_type": "markdown",
   "metadata": {},
   "source": [
    "Any successive operation that we try to perform with a closed file will raise an exception:"
   ]
  },
  {
   "cell_type": "code",
   "execution_count": 24,
   "metadata": {},
   "outputs": [
    {
     "ename": "ValueError",
     "evalue": "I/O operation on closed file.",
     "output_type": "error",
     "traceback": [
      "\u001b[0;31m---------------------------------------------------------------------------\u001b[0m",
      "\u001b[0;31mValueError\u001b[0m                                Traceback (most recent call last)",
      "\u001b[0;32m<ipython-input-24-99e24f97803f>\u001b[0m in \u001b[0;36m<module>\u001b[0;34m\u001b[0m\n\u001b[0;32m----> 1\u001b[0;31m \u001b[0mfile\u001b[0m\u001b[0;34m.\u001b[0m\u001b[0mread\u001b[0m\u001b[0;34m(\u001b[0m\u001b[0;36m5\u001b[0m\u001b[0;34m)\u001b[0m\u001b[0;34m\u001b[0m\u001b[0;34m\u001b[0m\u001b[0m\n\u001b[0m",
      "\u001b[0;31mValueError\u001b[0m: I/O operation on closed file."
     ]
    }
   ],
   "source": [
    "file.read(5)"
   ]
  },
  {
   "cell_type": "markdown",
   "metadata": {},
   "source": [
    "## Full File Object API\n",
    "![orange-divider](https://user-images.githubusercontent.com/7065401/98619088-44ab6000-22e1-11eb-8f6d-5532e68ab274.png)\n",
    "\n",
    "Finally, you can check the docs to learn more about the file object: https://docs.python.org/3/library/io.html#io.IOBase\n",
    "\n",
    "You can see interesting methods like `flush()`, `readable()`, etc."
   ]
  },
  {
   "cell_type": "markdown",
   "metadata": {},
   "source": [
    "<div style=\"width: 100%; background-color: #ef7d22; text-align: center\">\n",
    "<br><br>\n",
    "\n",
    "<h1 style=\"color: white; font-weight: bold;\">\n",
    "    Writing to a file\n",
    "</h1>\n",
    "\n",
    "<br><br> \n",
    "</div>"
   ]
  },
  {
   "cell_type": "markdown",
   "metadata": {},
   "source": [
    "We left the file-writing part to a separate lesson because it deserves some special attention. First, the obligatory warnings. If you open a file with the `'w'` mode, you'll completely erase all its contents. Just, by opening it: Boom! Gone!\n",
    "\n",
    "Once you've opened the file, writing to it is as simple as using the `write` method correctly:"
   ]
  },
  {
   "cell_type": "code",
   "execution_count": 25,
   "metadata": {},
   "outputs": [
    {
     "data": {
      "text/plain": [
       "<_io.TextIOWrapper name='data/my_new_file.txt' mode='w' encoding='UTF-8'>"
      ]
     },
     "execution_count": 25,
     "metadata": {},
     "output_type": "execute_result"
    }
   ],
   "source": [
    "file = open('data/my_new_file.txt', 'w')\n",
    "\n",
    "file"
   ]
  },
  {
   "cell_type": "code",
   "execution_count": 26,
   "metadata": {},
   "outputs": [
    {
     "data": {
      "text/plain": [
       "6"
      ]
     },
     "execution_count": 26,
     "metadata": {},
     "output_type": "execute_result"
    }
   ],
   "source": [
    "file.write(\"Line 1\")\n",
    "file.write(\"Line 2\")\n",
    "file.write(\"Line 3\")"
   ]
  },
  {
   "cell_type": "markdown",
   "metadata": {},
   "source": [
    "As you can see, `write` provided some output: the number of bites written.\n",
    "\n",
    "The operating system doesn't immediately write to the file after every `write` operation. Sometimes it buffers your write calls in memory and then decides to write all together after some time. It's of course to save a few hard drive round trips. To force it to write it, you can use the `flush()`method:"
   ]
  },
  {
   "cell_type": "code",
   "execution_count": 27,
   "metadata": {},
   "outputs": [],
   "source": [
    "file.flush()"
   ]
  },
  {
   "cell_type": "markdown",
   "metadata": {},
   "source": [
    "or just close it:"
   ]
  },
  {
   "cell_type": "code",
   "execution_count": 28,
   "metadata": {},
   "outputs": [],
   "source": [
    "file.close()"
   ]
  },
  {
   "cell_type": "markdown",
   "metadata": {},
   "source": [
    "Remember that as the file is now closed you won't be perform operations on it anymore:"
   ]
  },
  {
   "cell_type": "code",
   "execution_count": 29,
   "metadata": {},
   "outputs": [
    {
     "ename": "ValueError",
     "evalue": "I/O operation on closed file.",
     "output_type": "error",
     "traceback": [
      "\u001b[0;31m---------------------------------------------------------------------------\u001b[0m",
      "\u001b[0;31mValueError\u001b[0m                                Traceback (most recent call last)",
      "\u001b[0;32m<ipython-input-29-dc6c63147aa8>\u001b[0m in \u001b[0;36m<module>\u001b[0;34m\u001b[0m\n\u001b[0;32m----> 1\u001b[0;31m \u001b[0mfile\u001b[0m\u001b[0;34m.\u001b[0m\u001b[0mwrite\u001b[0m\u001b[0;34m(\u001b[0m\u001b[0;34m\"Line 4\"\u001b[0m\u001b[0;34m)\u001b[0m\u001b[0;34m\u001b[0m\u001b[0;34m\u001b[0m\u001b[0m\n\u001b[0m",
      "\u001b[0;31mValueError\u001b[0m: I/O operation on closed file."
     ]
    }
   ],
   "source": [
    "file.write(\"Line 4\")"
   ]
  },
  {
   "cell_type": "markdown",
   "metadata": {},
   "source": [
    "Let's see our file's content:"
   ]
  },
  {
   "cell_type": "code",
   "execution_count": 30,
   "metadata": {},
   "outputs": [
    {
     "name": "stdout",
     "output_type": "stream",
     "text": [
      "Line 1Line 2Line 3\n"
     ]
    }
   ],
   "source": [
    "file = open('data/my_new_file.txt', 'r')\n",
    "\n",
    "print(file.read())\n",
    "\n",
    "file.close()"
   ]
  },
  {
   "cell_type": "markdown",
   "metadata": {},
   "source": [
    "Python doesn't automatically add line breaks, you need to do that manually:"
   ]
  },
  {
   "cell_type": "code",
   "execution_count": 31,
   "metadata": {},
   "outputs": [],
   "source": [
    "file = open('data/my_new_file.txt', 'w')\n",
    "\n",
    "file.write(\"Line 1\\n\")\n",
    "file.write(\"Line 2\\n\")\n",
    "file.write(\"Line 3\\n\")\n",
    "\n",
    "file.close()"
   ]
  },
  {
   "cell_type": "code",
   "execution_count": 32,
   "metadata": {},
   "outputs": [
    {
     "name": "stdout",
     "output_type": "stream",
     "text": [
      "Line 1\n",
      "Line 2\n",
      "Line 3\n",
      "\n"
     ]
    }
   ],
   "source": [
    "file = open('data/my_new_file.txt', 'r')\n",
    "\n",
    "print(file.read())\n",
    "\n",
    "file.close()"
   ]
  },
  {
   "cell_type": "markdown",
   "metadata": {},
   "source": [
    "## Specifying an encoding\n",
    "![orange-divider](https://user-images.githubusercontent.com/7065401/98619088-44ab6000-22e1-11eb-8f6d-5532e68ab274.png)\n",
    "\n",
    "If you want to specify an encoding, you simply add the `encoding` parameter to the `open` function:"
   ]
  },
  {
   "cell_type": "code",
   "execution_count": 33,
   "metadata": {},
   "outputs": [],
   "source": [
    "file = open('data/my_new_file.txt', 'r', encoding='utf-8')\n",
    "\n",
    "file.close()"
   ]
  },
  {
   "cell_type": "markdown",
   "metadata": {},
   "source": [
    "## Writing multiple lines at the time\n",
    "![orange-divider](https://user-images.githubusercontent.com/7065401/98619088-44ab6000-22e1-11eb-8f6d-5532e68ab274.png)\n",
    "\n",
    "There's also a `writelines` method, that takes a list of lines to write, but it doesn't add line separators (as we'd expect):"
   ]
  },
  {
   "cell_type": "code",
   "execution_count": 34,
   "metadata": {},
   "outputs": [],
   "source": [
    "file = open('data/my_new_file.txt', 'w')\n",
    "\n",
    "file.writelines([\n",
    "    \"Line 1\\n\",\n",
    "    \"Line 2\\n\",\n",
    "    \"Line 3\\n\"\n",
    "])\n",
    "\n",
    "file.close()"
   ]
  },
  {
   "cell_type": "code",
   "execution_count": 35,
   "metadata": {},
   "outputs": [
    {
     "name": "stdout",
     "output_type": "stream",
     "text": [
      "Line 1\n",
      "\n",
      "Line 2\n",
      "\n",
      "Line 3\n",
      "\n"
     ]
    }
   ],
   "source": [
    "file = open('data/my_new_file.txt', 'r')\n",
    "\n",
    "for line in file:\n",
    "    print(line)\n",
    "    \n",
    "file.close()"
   ]
  },
  {
   "cell_type": "markdown",
   "metadata": {},
   "source": [
    "## Adding more content to a file\n",
    "![orange-divider](https://user-images.githubusercontent.com/7065401/98619088-44ab6000-22e1-11eb-8f6d-5532e68ab274.png)\n",
    "\n",
    "So far we used the `'w'` mode which overrites all the previous content of our file.\n",
    "\n",
    "We'll now explore now the modes `'r+'` and `'a'`; both these modes let us write to the file without completely truncating its content. First, let's create a simple file for our own purposes:"
   ]
  },
  {
   "cell_type": "code",
   "execution_count": 36,
   "metadata": {},
   "outputs": [
    {
     "name": "stdout",
     "output_type": "stream",
     "text": [
      "Line 1\n",
      "\n",
      "Line 2\n",
      "\n",
      "Line 3\n",
      "\n"
     ]
    }
   ],
   "source": [
    "file = open('data/my_new_file.txt', 'r')\n",
    "\n",
    "for line in file:\n",
    "    print(line)\n",
    "    \n",
    "file.close()"
   ]
  },
  {
   "cell_type": "markdown",
   "metadata": {},
   "source": [
    "---\n",
    "### The `'a'` append mode\n",
    "\n",
    "As we will use `'a'` mode now, new content will be added at the end, keeping all the previous content within the our file:"
   ]
  },
  {
   "cell_type": "code",
   "execution_count": 37,
   "metadata": {},
   "outputs": [
    {
     "data": {
      "text/plain": [
       "<_io.TextIOWrapper name='data/my_new_file.txt' mode='a' encoding='UTF-8'>"
      ]
     },
     "execution_count": 37,
     "metadata": {},
     "output_type": "execute_result"
    }
   ],
   "source": [
    "file = open('data/my_new_file.txt', 'a')\n",
    "file"
   ]
  },
  {
   "cell_type": "code",
   "execution_count": 38,
   "metadata": {},
   "outputs": [
    {
     "data": {
      "text/plain": [
       "True"
      ]
     },
     "execution_count": 38,
     "metadata": {},
     "output_type": "execute_result"
    }
   ],
   "source": [
    "file.writable()"
   ]
  },
  {
   "cell_type": "code",
   "execution_count": 39,
   "metadata": {},
   "outputs": [
    {
     "data": {
      "text/plain": [
       "False"
      ]
     },
     "execution_count": 39,
     "metadata": {},
     "output_type": "execute_result"
    }
   ],
   "source": [
    "file.readable()"
   ]
  },
  {
   "cell_type": "markdown",
   "metadata": {},
   "source": [
    "We can check current cursor position before writing: "
   ]
  },
  {
   "cell_type": "code",
   "execution_count": 40,
   "metadata": {},
   "outputs": [
    {
     "data": {
      "text/plain": [
       "21"
      ]
     },
     "execution_count": 40,
     "metadata": {},
     "output_type": "execute_result"
    }
   ],
   "source": [
    "file.tell()"
   ]
  },
  {
   "cell_type": "code",
   "execution_count": 41,
   "metadata": {},
   "outputs": [],
   "source": [
    "file.write(\"Line 4\\n\")\n",
    "\n",
    "file.close()"
   ]
  },
  {
   "cell_type": "code",
   "execution_count": 42,
   "metadata": {},
   "outputs": [
    {
     "name": "stdout",
     "output_type": "stream",
     "text": [
      "Line 1\n",
      "\n",
      "Line 2\n",
      "\n",
      "Line 3\n",
      "\n",
      "Line 4\n",
      "\n"
     ]
    }
   ],
   "source": [
    "file = open('data/my_new_file.txt', 'r')\n",
    "\n",
    "for line in file:\n",
    "    print(line)\n",
    "    \n",
    "file.close()"
   ]
  },
  {
   "cell_type": "markdown",
   "metadata": {},
   "source": [
    "As you can see, the line was appended (written at the end). You need to add new line characters if you need them."
   ]
  },
  {
   "cell_type": "markdown",
   "metadata": {},
   "source": [
    "---\n",
    "### The `'r+'` read plus mode\n",
    "\n",
    "\n",
    "This mode will open the file both for reading and writing, but the pointer will be placed at the beginning of the file. There's one catch though:\n",
    "\n",
    "> **EVERY** character that you write will **REPLACE** the previous characters in the file.\n",
    "\n",
    "Kind of like that annoying `insert` key in your windows keyboard. Let's see an example:\n"
   ]
  },
  {
   "cell_type": "code",
   "execution_count": 43,
   "metadata": {},
   "outputs": [
    {
     "data": {
      "text/plain": [
       "<_io.TextIOWrapper name='data/my_new_file.txt' mode='r+' encoding='UTF-8'>"
      ]
     },
     "execution_count": 43,
     "metadata": {},
     "output_type": "execute_result"
    }
   ],
   "source": [
    "file = open('data/my_new_file.txt', 'r+')\n",
    "file"
   ]
  },
  {
   "cell_type": "code",
   "execution_count": 44,
   "metadata": {},
   "outputs": [
    {
     "data": {
      "text/plain": [
       "True"
      ]
     },
     "execution_count": 44,
     "metadata": {},
     "output_type": "execute_result"
    }
   ],
   "source": [
    "file.writable()"
   ]
  },
  {
   "cell_type": "code",
   "execution_count": 45,
   "metadata": {},
   "outputs": [
    {
     "data": {
      "text/plain": [
       "True"
      ]
     },
     "execution_count": 45,
     "metadata": {},
     "output_type": "execute_result"
    }
   ],
   "source": [
    "file.readable()"
   ]
  },
  {
   "cell_type": "markdown",
   "metadata": {},
   "source": [
    "We can check current cursor position before writing: "
   ]
  },
  {
   "cell_type": "code",
   "execution_count": 46,
   "metadata": {},
   "outputs": [
    {
     "data": {
      "text/plain": [
       "0"
      ]
     },
     "execution_count": 46,
     "metadata": {},
     "output_type": "execute_result"
    }
   ],
   "source": [
    "file.tell()"
   ]
  },
  {
   "cell_type": "code",
   "execution_count": 47,
   "metadata": {},
   "outputs": [],
   "source": [
    "file.write(\"OVERWRITED CONTENT\\n\")\n",
    "\n",
    "file.close()"
   ]
  },
  {
   "cell_type": "code",
   "execution_count": 48,
   "metadata": {},
   "outputs": [
    {
     "name": "stdout",
     "output_type": "stream",
     "text": [
      "OVERWRITED CONTENT\n",
      "\n",
      "3\n",
      "\n",
      "Line 4\n",
      "\n"
     ]
    }
   ],
   "source": [
    "file = open('data/my_new_file.txt', 'r')\n",
    "\n",
    "for line in file:\n",
    "    print(line)\n",
    "    \n",
    "file.close()"
   ]
  },
  {
   "cell_type": "markdown",
   "metadata": {},
   "source": [
    "<div style=\"width: 100%; background-color: #ef7d22; text-align: center\">\n",
    "<br><br>\n",
    "\n",
    "<h1 style=\"color: white; font-weight: bold;\">\n",
    "    The <i>with</i> context manager\n",
    "</h1>\n",
    "\n",
    "<br><br> \n",
    "</div>"
   ]
  },
  {
   "cell_type": "markdown",
   "metadata": {},
   "source": [
    "We mentioned how important it is to close your files after you're done working with them. But, what happens if an exception occurs **before** you can close the file?\n",
    "\n",
    "Let's see an example:"
   ]
  },
  {
   "cell_type": "code",
   "execution_count": 49,
   "metadata": {},
   "outputs": [],
   "source": [
    "file = open(\"data/diary.txt\", \"r\")"
   ]
  },
  {
   "cell_type": "markdown",
   "metadata": {},
   "source": [
    "Now get a line, execute a non-existent method and close the file."
   ]
  },
  {
   "cell_type": "code",
   "execution_count": 50,
   "metadata": {},
   "outputs": [
    {
     "ename": "AttributeError",
     "evalue": "'str' object has no attribute 'remove'",
     "output_type": "error",
     "traceback": [
      "\u001b[0;31m---------------------------------------------------------------------------\u001b[0m",
      "\u001b[0;31mAttributeError\u001b[0m                            Traceback (most recent call last)",
      "\u001b[0;32m<ipython-input-50-a283b9fffd2f>\u001b[0m in \u001b[0;36m<module>\u001b[0;34m\u001b[0m\n\u001b[1;32m      1\u001b[0m \u001b[0mline\u001b[0m \u001b[0;34m=\u001b[0m \u001b[0mfile\u001b[0m\u001b[0;34m.\u001b[0m\u001b[0mreadline\u001b[0m\u001b[0;34m(\u001b[0m\u001b[0;34m)\u001b[0m\u001b[0;34m\u001b[0m\u001b[0;34m\u001b[0m\u001b[0m\n\u001b[1;32m      2\u001b[0m \u001b[0;34m\u001b[0m\u001b[0m\n\u001b[0;32m----> 3\u001b[0;31m \u001b[0mline\u001b[0m\u001b[0;34m.\u001b[0m\u001b[0mremove\u001b[0m\u001b[0;34m(\u001b[0m\u001b[0;34m)\u001b[0m\u001b[0;34m\u001b[0m\u001b[0;34m\u001b[0m\u001b[0m\n\u001b[0m\u001b[1;32m      4\u001b[0m \u001b[0;34m\u001b[0m\u001b[0m\n\u001b[1;32m      5\u001b[0m \u001b[0mfile\u001b[0m\u001b[0;34m.\u001b[0m\u001b[0mclose\u001b[0m\u001b[0;34m(\u001b[0m\u001b[0;34m)\u001b[0m\u001b[0;34m\u001b[0m\u001b[0;34m\u001b[0m\u001b[0m\n",
      "\u001b[0;31mAttributeError\u001b[0m: 'str' object has no attribute 'remove'"
     ]
    }
   ],
   "source": [
    "line = file.readline()\n",
    "\n",
    "line.remove()\n",
    "\n",
    "file.close()"
   ]
  },
  {
   "cell_type": "code",
   "execution_count": 51,
   "metadata": {},
   "outputs": [
    {
     "data": {
      "text/plain": [
       "False"
      ]
     },
     "execution_count": 51,
     "metadata": {},
     "output_type": "execute_result"
    }
   ],
   "source": [
    "file.closed"
   ]
  },
  {
   "cell_type": "markdown",
   "metadata": {},
   "source": [
    "**Oops!** the `close` method was never reached, and in consequence, the file was never closed."
   ]
  },
  {
   "cell_type": "code",
   "execution_count": 52,
   "metadata": {},
   "outputs": [
    {
     "name": "stdout",
     "output_type": "stream",
     "text": [
      "        Diary Of A Rock Critter\n",
      "        1989 New Music Seminar\n",
      "        by Jim Testa - Jersey Beat Fanzine \n",
      "\n",
      "        The  first  thing  you have to understand about  the  New  Music \n",
      "        Seminar  is  that  it doesn't really have anything  to  do  with \n",
      "        music;  its  purpose is to provide a forum for the discussion of \n",
      "        the business of music,  and that's a whole 'nother thing.  So if \n",
      "        there's  a  panel on songwriting,  it's about \"how  to  write  a \n",
      "        Number 1 song.\"  The \"fanzine panel\" wasn't called that;  it was \n",
      "        called  \"The Selling Of The Underground - An Overrated  Market?\"  \n",
      "        I  had never realized before  that's what I've been doing for  7 \n",
      "        years. Live & learn. Yeah, I certainly got my money's worth from \n",
      "        NMS.\n",
      "            This  obsession with turning punk rock into dollars  creates \n",
      "        some  weird scenarios - this year best exemplified by Old Skull. \n",
      "        I'm sure you've heard of Old Skull by now,  the 8 and 9 year old \n",
      "        hardcore band from Wisconsin.  Old Skull were feted and praised, \n",
      "        interviewed  way past their bedtimes.  They played the Ritz  and \n",
      "        the  Rapp Arts Center,  they got on MTV.  They are a  hype,  and \n",
      "        anyone  even remotely associated with them should be ashamed  of \n",
      "        themselves.\n",
      "             Okay,  let's look at it this way.  Let's say you're not Old \n",
      "        Skull but one of the other acts on the Restless Records roster - \n",
      "        Electric Love Muffin or 7 Seconds.  Here you've been sleeping on \n",
      "        floors,  eating  bread sandwiches,  and generally devoting  your \n",
      "        every waking hour for 6 or 7 or 9 years to your band - and along \n",
      "        comes  a  bunch  of  9  year olds  who  can't  even  play  their \n",
      "        instruments,  and  your  label goes ga-ga getting them  all  the \n",
      "        publicity,  tour support, and promotion that you've been begging \n",
      "        for. Nobody said life was fair.\n",
      "           I  am not going to mention anything else  about  NMS,  except \n",
      "        maybe  for  my visit to the Giant Records booth,  where the  new \n",
      "        label manager told me,  \"It's a whole new label,  we got rid  of \n",
      "        all  that  hardcore stuff.\"  Debbie,  I liked all that  hardcore \n",
      "        stuff.  Well, they did sign the Slickee Boys and Peter (Squirrel \n",
      "        Bait) Searcy's new band, so maybe...\n",
      "             Herewith,  the  diary of a Rock Critter during  5  frenzied \n",
      "        nights  on  the  town,  the only really worthwhile part  of  NMS \n",
      "        anyway...\n",
      "\n",
      "        Friday,  July 14:   Big show at the Ritz.  Old Skull  (sheesh!), \n",
      "        Laughing  Hyenas,  Mudhoney,  and Sonic Youth (celebrating their \n",
      "        signing to Goofen,  excuse me,  Geffen Records).   We walk in as \n",
      "        Old  Skull  is  winding  up  their  set,   the  singer/guitarist \n",
      "        destroying his ax Pete Townsend-like (sure bet he didnt' have to \n",
      "        pay  for it) while the \"bassist\" sits on the floor banging on  a \n",
      "        metal plaque with a hammer.  Punk rock, man. Don't trust anybody \n",
      "        over 10,  ok?   Laughing Hyenas are loud but one-dimensional,  a \n",
      "        non-stop drone that sounds like one long interminable song  thru \n",
      "        the  first  3/4 of their set until they finally  change  tempos.  \n",
      "        Mudhoney  pretty  much get the crowd riled up,  goofy  and  fun, \n",
      "        \"Touch  Me I'm Sick\" sounds pretty cool even in a mausoleum like \n",
      "        the New Ritz.  Next come Sonic Youth, tongue in cheek as always, \n",
      "        playing a ton of old shit and goofing on Geffen (playing Madonna \n",
      "\n",
      "\n",
      "                                        1\n",
      "\n",
      "\n",
      "\n",
      "\n",
      "\n",
      "\n",
      "\n",
      "\n",
      "        and  Guns  'N Roses samples  'tween  songs,  fr'instance).  Will \n",
      "        success spoil Sonic Youth?\n",
      "          Naah.\n",
      "\n",
      "        Saturday, July 15th\n",
      "           Check in at the Marriott Marquis.  Going up the escalator  to \n",
      "        pick up my badge and bagful of goodies and within 5 minutes meet \n",
      "        Jad  Fair,  Mike Gitter,  half of Alice Donut,  Agnostic Front's \n",
      "        Steve  Martin,  and  Old Skull (who are skateboarding  thru  the \n",
      "        hotel giving out flyers for their next show).   Show business is \n",
      "        my life.\n",
      "\n",
      "        4 p.m.   CBGB Hardcore Matinee. Jerry's Kids are a no-show but I \n",
      "        stay  for  Head's  Up,  John Bello's newest  signing  to  Hawker \n",
      "        Records.  Funny,  funky  Chili Pepperish punk rock,  don't  tell \n",
      "        anybody but I was actually dancing to this.  Gitter sidled  over \n",
      "        and says they sucked, a sure sign Bello has a winner.\n",
      "\n",
      "        9 p.m.  For no good reason,  go to Bitter End to check out Those \n",
      "        Melvins from Connecticut.  Actually,  I had a reason - their cut \n",
      "        on  the  \"No Milk\" compilation pushed all my power-pop  buttons. \n",
      "        Turns out the Melvins are a frat band,  30ish dudes with  beards \n",
      "        and  Bermuda shorts who look like they'd be comfortable doing  a \n",
      "        whole set of Poco covers.  With the exception of one or two cuts \n",
      "        (they've  got one grabber that sounds like a lost dB's classic), \n",
      "        their nerdy organic poptoons don't impress.  Lead singer has the \n",
      "        set  list scribbled on successive layers of t-shirts,  which  he \n",
      "        keeps peeling off to reveal the next song. Cute.\n",
      "          \n",
      "\n",
      "        10:30  p.m.  Toddle  over  to Gonzalez  Y  Gonzalez,  a  Mexican \n",
      "        restaurant  pressed  into service as a club  when  Downtown  got \n",
      "        padlocked  a week before NMS.  Turns out Enigma is having a pre-\n",
      "        show  party to which I wasn't invited,  but Brian from  Electric \n",
      "        Love  Muffin sneaks me in anyway for some free beer  and  nachos \n",
      "        (this is called \"networking\").   Next stop is Under Acme, a non-\n",
      "        Seminar  show with Friction Wheel,  who just keep getting better \n",
      "        and better. Bob Mould, who produced their single, is there, also \n",
      "        not wearing an NMS badge. \n",
      "\n",
      "        Sunday, April 16th\n",
      "\n",
      "        9:30  p.m.  Toxic Shock Night at the CBGB Canteen and  House  Of \n",
      "        Large  Sizes opens the evening.  I didn't much care for their lp \n",
      "        but  live  they're  a  lot  better,   more  forceful  and   less \n",
      "        archaically  \"new wave.\" Next door at CBGB it's Homestead Night, \n",
      "        and I keep shuffling back & forth.  Happy Flowers turn out to be \n",
      "        a  lot  younger and a lot more normal than I had  pictured  them \n",
      "        (with names like Mr. Anus and Mr. Horribly Charred Infant, I was \n",
      "        expecting  two  burnt-out  30ish  ex-hippies,  sorta  Shimmydisc \n",
      "        material,  if you wanna know the truth).   Giant Sand are  every \n",
      "        bit as boring live as their record.  Death of Samantha rocks but \n",
      "        I have to leave.\n",
      "\n",
      "        1:25  a.m.  Speed The Plough finally go on for the \"11:30  p.m.\" \n",
      "\n",
      "\n",
      "                                        2\n",
      "\n",
      "\n",
      "\n",
      "\n",
      "\n",
      "\n",
      "\n",
      "\n",
      "        showcase at the Bitter End.  It has been pouring all night and I \n",
      "        spent  most of the evening trudging up & down Bleecker St.  from \n",
      "        CBGB's  waiting  for  them to go on,  so even  tho'  they're  as \n",
      "        transcendently tuneful as ever,  I am wet, tired, and too cranky \n",
      "        to have any fun. \n",
      "\n",
      "        Monday, July 17th\n",
      "\n",
      "        9:30 p.m.   I've heard a lot about Too Much Joy from California, \n",
      "        including  a  rave  mention of their 2nd lp  by  Dean  Christgau \n",
      "        (during  his  keynote speech at SXSW,  no  less).   Said  lp  is \n",
      "        nowhere to be found anywhere in Manhattan, by the way; I tried 6 \n",
      "        different  stores,   incl.  Pier  Platters  in  Hoboken,  Tower, \n",
      "        Bleecker  Bobs,  Sounds,  and a few others.  Great - they travel \n",
      "        3000  miles to showcase their act and their label doesnt have  1 \n",
      "        copy  of the record in the biggest market in  America.   I  kept \n",
      "        trying  to  convince myself these gomers were actually as  wacky \n",
      "        and  zany as they were trying to come across on  stage,  but  it \n",
      "        didn't wash. The songs aren't bad but I could do without all the \n",
      "        mugging,  jumping,  and  corny choreography.   Next up is Fabian \n",
      "        Blue,  a  teenager  from the South Bronx with an 8  piece  band, \n",
      "        fuck-me good looks,  and massive soul/crossover potential, kinda \n",
      "        like a younger, male Whitney Houston, or Robbie Rosa with better \n",
      "        material.   Next door at the Canteen, the Jacklords were opening \n",
      "        up  Skyclad Night.  With 2 ex-Splatcats,  they  were  expectedly \n",
      "        60'ish  garage,  plenty  of  strong hooky tunes and  some  neato \n",
      "        surf/gtr breaks.  Now I know why Yod Crewzy quit the Splats - he \n",
      "        sings and plays guitar better'n the \n",
      "        other 'cats and never got to take centerstage.\n",
      "\n",
      "          11:30  p.m.  A  quick trip over to the Rapp  Arts  Center  - a \n",
      "        converted schoolhouse and an ideal venue to fill the vacuum left \n",
      "        by the death of Irving Plaza - for Nice Strong Arm (manic psycho \n",
      "        Gerardmetal)  and  Naked Raygun,  who ripped the place  in  two. \n",
      "        Turns  out this was also the farewell performance for Raygun gtr \n",
      "        John Haggerty.  They closed with a tribute to Government  Issue, \n",
      "        covering  \"Where You Live.\" Bitchin'.  Word came out later  that \n",
      "        their label decided at the last minute not to pay their airfare, \n",
      "        so the Rayguns had to fly in from Chicago, rent a car, pay for a \n",
      "        hotel, and fly back all out of their own pocket.  \n",
      "\n",
      "        Tuesday, July 18th\n",
      "\n",
      "        9  p.m.  Started the night off at the Philadelphia Booth  party, \n",
      "        hosted  by Carol Schutzbank and featuring various Love  Muffins, \n",
      "        Orifices,  Zooboys,  and  others.  Lots  of  demo  swapping  and \n",
      "        whatnot.  Then  we  all  subwayed over to CBGB for  one  of  the \n",
      "        weirdest bills of the week:  All, Bullet LaVolta, and the Swans.  \n",
      "        All did a long set full of slower, more tuneful songs - probably \n",
      "        glad  they weren't playing to a roomful of 16 year olds  - while \n",
      "        Bullet  LaVolta rocked per usual.  I didn't hang around for  the \n",
      "        Swans  but  crosstowned it to Avenue A for Ultra  Vivid  Scene's \n",
      "        show at King Tut's Wah Wah Hut.  Rumor had it that Kurt (Mr UVS) \n",
      "        was  offered  a chance to play the big opening night party  with \n",
      "        George  Clinton but opted instead for this  postage-stamp  sized \n",
      "\n",
      "\n",
      "                                        3\n",
      "\n",
      "\n",
      "\n",
      "\n",
      "\n",
      "\n",
      "\n",
      "\n",
      "        venue;  it  couldn't  have  been more than 105  degrees  inside, \n",
      "        packed  shoulder to shoulder,  everybody swaying to  the  band's \n",
      "        hypnotizing   melodies   and  offbeat  instrumentation   (cello, \n",
      "        keyboards,  minimal drums,  distorto gtr).   My notes say  \"Hank \n",
      "        Williams\" after that but I have no idea why.  \n",
      "\n",
      "        Wednesday, July 19th\n",
      "\n",
      "        Went to bed at 10 p.m. and lapsed into a coma.\n",
      "\n",
      "        It  should probably be noted (again & again) that the bands  are \n",
      "        the  most exploited aspect of NMS - they usually don't get paid, \n",
      "        often travel across the country to play these showcases, and the \n",
      "        bands  who  wind up on those NMS Unsigned Bands  cassettes  even \n",
      "        wind up paying big bucks for the privilege.  The clubs rake in a \n",
      "        fortune     from   the   bar   (NMS'ers    are,    after    all, \n",
      "        conventioneers...and  drink  like longshoremen),  even the  taxi \n",
      "        drivers make out like bandits. \n",
      "           But  then,  just think of the souvenirs that Old  Skull  will \n",
      "        have  for  show 'n tell in September.   Was it  worth  it?   You \n",
      "        betcha.\n",
      "\n",
      "        ----------------------------------------------------------------\n",
      "        If you liked this, might we suggest you send $2 and check out an \n",
      "        entire issue of Jersey Beat Fanzine?\n",
      "        Send to: Jim Testa, 418 Gregory Ave, Weehawken NJ 07087\n",
      "        This column will appear in the Sept. 1989 issue.\n",
      "\n",
      "\n",
      "\n",
      "\n",
      "\n",
      "\n",
      "\n",
      "\n",
      "\n",
      "\n",
      "\n",
      "\n",
      "\n",
      "\n",
      "\n",
      "\n",
      "\n",
      "\n",
      "\n",
      "\n",
      "\n",
      "\n",
      "\n",
      "\n",
      "\n",
      "\n",
      "\n",
      "\n",
      "\n",
      "\n",
      "                                        4\n",
      "\n",
      "\n",
      "\n",
      "\n",
      "\n",
      " \n",
      " \n",
      " \n",
      "\n",
      "\n",
      "\n",
      "\n",
      "\n",
      "X-=-=-=-=-=-=-=-=-=-=-=-=-=-=-=-=-=-=-=-=-=-=-=-=-=-=-=-=-=-=-=-=-=-=-=-=-=-X\n",
      " Another file downloaded from:                     The NIRVANAnet(tm) Seven\n",
      "\n",
      " & the Temple of the Screaming Electron   Taipan Enigma        510/935-5845\n",
      " Burn This Flag                           Zardoz               408/363-9766\n",
      " realitycheck                             Poindexter Fortran   510/527-1662\n",
      " Lies Unlimited                           Mick Freen           801/278-2699\n",
      " The New Dork Sublime                     Biffnix              415/864-DORK\n",
      " The Shrine                               Rif Raf              206/794-6674\n",
      " Planet Mirth                             Simon Jester         510/786-6560\n",
      "\n",
      "                          \"Raw Data for Raw Nerves\"\n",
      "X-=-=-=-=-=-=-=-=-=-=-=-=-=-=-=-=-=-=-=-=-=-=-=-=-=-=-=-=-=-=-=-=-=-=-=-=-=-X\n",
      "\n"
     ]
    }
   ],
   "source": [
    "file.seek(0)\n",
    "print(file.read())"
   ]
  },
  {
   "cell_type": "markdown",
   "metadata": {},
   "source": [
    "This is REALLY bad. Our program might keep files opened without us realizing it. Which is obviously dangerous. That's why, when dealing with files, we use a common pattern that combines the `try/except/finally` block:"
   ]
  },
  {
   "cell_type": "code",
   "execution_count": 53,
   "metadata": {},
   "outputs": [
    {
     "name": "stdout",
     "output_type": "stream",
     "text": [
      "Oops! something has failed\n"
     ]
    }
   ],
   "source": [
    "file = open(\"data/diary.txt\", \"r\")\n",
    "\n",
    "try:\n",
    "    # do all the dangerous tasks here\n",
    "    line = file.readline()\n",
    "\n",
    "    line.remove()\n",
    "except:\n",
    "    print('Oops! something has failed')\n",
    "finally:\n",
    "    file.close()"
   ]
  },
  {
   "cell_type": "markdown",
   "metadata": {},
   "source": [
    "The `finally` clause is executed regardless of the state of the `try` block, so we're making sure we always close the file:"
   ]
  },
  {
   "cell_type": "code",
   "execution_count": 54,
   "metadata": {},
   "outputs": [
    {
     "data": {
      "text/plain": [
       "True"
      ]
     },
     "execution_count": 54,
     "metadata": {},
     "output_type": "execute_result"
    }
   ],
   "source": [
    "file.closed # file is closed now!"
   ]
  },
  {
   "cell_type": "code",
   "execution_count": 55,
   "metadata": {},
   "outputs": [
    {
     "ename": "ValueError",
     "evalue": "I/O operation on closed file.",
     "output_type": "error",
     "traceback": [
      "\u001b[0;31m---------------------------------------------------------------------------\u001b[0m",
      "\u001b[0;31mValueError\u001b[0m                                Traceback (most recent call last)",
      "\u001b[0;32m<ipython-input-55-9889fe6c2daa>\u001b[0m in \u001b[0;36m<module>\u001b[0;34m\u001b[0m\n\u001b[0;32m----> 1\u001b[0;31m \u001b[0mfile\u001b[0m\u001b[0;34m.\u001b[0m\u001b[0mseek\u001b[0m\u001b[0;34m(\u001b[0m\u001b[0;36m0\u001b[0m\u001b[0;34m)\u001b[0m\u001b[0;34m\u001b[0m\u001b[0;34m\u001b[0m\u001b[0m\n\u001b[0m\u001b[1;32m      2\u001b[0m \u001b[0mfile\u001b[0m\u001b[0;34m.\u001b[0m\u001b[0mread\u001b[0m\u001b[0;34m(\u001b[0m\u001b[0;34m)\u001b[0m\u001b[0;34m\u001b[0m\u001b[0;34m\u001b[0m\u001b[0m\n",
      "\u001b[0;31mValueError\u001b[0m: I/O operation on closed file."
     ]
    }
   ],
   "source": [
    "file.seek(0)\n",
    "file.read()"
   ]
  },
  {
   "cell_type": "markdown",
   "metadata": {},
   "source": [
    "This pattern is **extremely** common, even for other [programming](http://www.rubyist.net/~slagell/ruby/ensure.html) [languages](https://docs.oracle.com/javase/tutorial/essential/exceptions/finally.html). But it has a few disadvantages.\n",
    "\n",
    "First, it's not elegant, it just reads bad. Second, and more importantly, some programmers might forget, or not even know about it. It's hard to remember. So we shouldn't leave the responsability of closing files to the programmer. That's why Python has a nice better way of implementing the same behavior: the `with` _context manager_.\n",
    "\n",
    "`with` is a special syntactical block that will allow you to perform operations that require a safety clean-up after you're done. It's not used only for files, you'll see it in other cases, but files is the most common scenario. Let's see it in action:"
   ]
  },
  {
   "cell_type": "code",
   "execution_count": 56,
   "metadata": {},
   "outputs": [
    {
     "name": "stdout",
     "output_type": "stream",
     "text": [
      "        Diary Of A Rock Critter\n",
      "        1989 New Music Seminar\n",
      "        by Jim Testa - Jersey Beat Fanzine \n",
      "\n",
      "        The  first  thing  you have to understand about  the  New  Music \n",
      "        Seminar  is  that  it doesn't really have anything  to  do  with \n",
      "        music;  its  purpose is to provide a forum for the discussion of \n",
      "        the business of music,  and that's a whole 'nother thing.  So if \n",
      "        there's  a  panel on songwriting,  it's about \"how  to  write  a \n",
      "        Number 1 song.\"  The \"fanzine panel\" wasn't called that;  it was \n",
      "        called  \"The Selling Of The Underground - An Overrated  Market?\"  \n",
      "        I  had never realized before  that's what I've been doing for  7 \n",
      "        years. Live & learn. Yeah, I certainly got my money's worth from \n",
      "        NMS.\n",
      "            This  obsession with turning punk rock into dollars  creates \n",
      "        some  weird scenarios - this year best exemplified by Old Skull. \n",
      "        I'm sure you've heard of Old Skull by now,  the 8 and 9 year old \n",
      "        hardcore band from Wisconsin.  Old Skull were feted and praised, \n",
      "        interviewed  way past their bedtimes.  They played the Ritz  and \n",
      "        the  Rapp Arts Center,  they got on MTV.  They are a  hype,  and \n",
      "        anyone  even remotely associated with them should be ashamed  of \n",
      "        themselves.\n",
      "             Okay,  let's look at it this way.  Let's say you're not Old \n",
      "        Skull but one of the other acts on the Restless Records roster - \n",
      "        Electric Love Muffin or 7 Seconds.  Here you've been sleeping on \n",
      "        floors,  eating  bread sandwiches,  and generally devoting  your \n",
      "        every waking hour for 6 or 7 or 9 years to your band - and along \n",
      "        comes  a  bunch  of  9  year olds  who  can't  even  play  their \n",
      "        instruments,  and  your  label goes ga-ga getting them  all  the \n",
      "        publicity,  tour support, and promotion that you've been begging \n",
      "        for. Nobody said life was fair.\n",
      "           I  am not going to mention anything else  about  NMS,  except \n",
      "        maybe  for  my visit to the Giant Records booth,  where the  new \n",
      "        label manager told me,  \"It's a whole new label,  we got rid  of \n",
      "        all  that  hardcore stuff.\"  Debbie,  I liked all that  hardcore \n",
      "        stuff.  Well, they did sign the Slickee Boys and Peter (Squirrel \n",
      "        Bait) Searcy's new band, so maybe...\n",
      "             Herewith,  the  diary of a Rock Critter during  5  frenzied \n",
      "        nights  on  the  town,  the only really worthwhile part  of  NMS \n",
      "        anyway...\n",
      "\n",
      "        Friday,  July 14:   Big show at the Ritz.  Old Skull  (sheesh!), \n",
      "        Laughing  Hyenas,  Mudhoney,  and Sonic Youth (celebrating their \n",
      "        signing to Goofen,  excuse me,  Geffen Records).   We walk in as \n",
      "        Old  Skull  is  winding  up  their  set,   the  singer/guitarist \n",
      "        destroying his ax Pete Townsend-like (sure bet he didnt' have to \n",
      "        pay  for it) while the \"bassist\" sits on the floor banging on  a \n",
      "        metal plaque with a hammer.  Punk rock, man. Don't trust anybody \n",
      "        over 10,  ok?   Laughing Hyenas are loud but one-dimensional,  a \n",
      "        non-stop drone that sounds like one long interminable song  thru \n",
      "        the  first  3/4 of their set until they finally  change  tempos.  \n",
      "        Mudhoney  pretty  much get the crowd riled up,  goofy  and  fun, \n",
      "        \"Touch  Me I'm Sick\" sounds pretty cool even in a mausoleum like \n",
      "        the New Ritz.  Next come Sonic Youth, tongue in cheek as always, \n",
      "        playing a ton of old shit and goofing on Geffen (playing Madonna \n",
      "\n",
      "\n",
      "                                        1\n",
      "\n",
      "\n",
      "\n",
      "\n",
      "\n",
      "\n",
      "\n",
      "\n",
      "        and  Guns  'N Roses samples  'tween  songs,  fr'instance).  Will \n",
      "        success spoil Sonic Youth?\n",
      "          Naah.\n",
      "\n",
      "        Saturday, July 15th\n",
      "           Check in at the Marriott Marquis.  Going up the escalator  to \n",
      "        pick up my badge and bagful of goodies and within 5 minutes meet \n",
      "        Jad  Fair,  Mike Gitter,  half of Alice Donut,  Agnostic Front's \n",
      "        Steve  Martin,  and  Old Skull (who are skateboarding  thru  the \n",
      "        hotel giving out flyers for their next show).   Show business is \n",
      "        my life.\n",
      "\n",
      "        4 p.m.   CBGB Hardcore Matinee. Jerry's Kids are a no-show but I \n",
      "        stay  for  Head's  Up,  John Bello's newest  signing  to  Hawker \n",
      "        Records.  Funny,  funky  Chili Pepperish punk rock,  don't  tell \n",
      "        anybody but I was actually dancing to this.  Gitter sidled  over \n",
      "        and says they sucked, a sure sign Bello has a winner.\n",
      "\n",
      "        9 p.m.  For no good reason,  go to Bitter End to check out Those \n",
      "        Melvins from Connecticut.  Actually,  I had a reason - their cut \n",
      "        on  the  \"No Milk\" compilation pushed all my power-pop  buttons. \n",
      "        Turns out the Melvins are a frat band,  30ish dudes with  beards \n",
      "        and  Bermuda shorts who look like they'd be comfortable doing  a \n",
      "        whole set of Poco covers.  With the exception of one or two cuts \n",
      "        (they've  got one grabber that sounds like a lost dB's classic), \n",
      "        their nerdy organic poptoons don't impress.  Lead singer has the \n",
      "        set  list scribbled on successive layers of t-shirts,  which  he \n",
      "        keeps peeling off to reveal the next song. Cute.\n",
      "          \n",
      "\n",
      "        10:30  p.m.  Toddle  over  to Gonzalez  Y  Gonzalez,  a  Mexican \n",
      "        restaurant  pressed  into service as a club  when  Downtown  got \n",
      "        padlocked  a week before NMS.  Turns out Enigma is having a pre-\n",
      "        show  party to which I wasn't invited,  but Brian from  Electric \n",
      "        Love  Muffin sneaks me in anyway for some free beer  and  nachos \n",
      "        (this is called \"networking\").   Next stop is Under Acme, a non-\n",
      "        Seminar  show with Friction Wheel,  who just keep getting better \n",
      "        and better. Bob Mould, who produced their single, is there, also \n",
      "        not wearing an NMS badge. \n",
      "\n",
      "        Sunday, April 16th\n",
      "\n",
      "        9:30  p.m.  Toxic Shock Night at the CBGB Canteen and  House  Of \n",
      "        Large  Sizes opens the evening.  I didn't much care for their lp \n",
      "        but  live  they're  a  lot  better,   more  forceful  and   less \n",
      "        archaically  \"new wave.\" Next door at CBGB it's Homestead Night, \n",
      "        and I keep shuffling back & forth.  Happy Flowers turn out to be \n",
      "        a  lot  younger and a lot more normal than I had  pictured  them \n",
      "        (with names like Mr. Anus and Mr. Horribly Charred Infant, I was \n",
      "        expecting  two  burnt-out  30ish  ex-hippies,  sorta  Shimmydisc \n",
      "        material,  if you wanna know the truth).   Giant Sand are  every \n",
      "        bit as boring live as their record.  Death of Samantha rocks but \n",
      "        I have to leave.\n",
      "\n",
      "        1:25  a.m.  Speed The Plough finally go on for the \"11:30  p.m.\" \n",
      "\n",
      "\n",
      "                                        2\n",
      "\n",
      "\n",
      "\n",
      "\n",
      "\n",
      "\n",
      "\n",
      "\n",
      "        showcase at the Bitter End.  It has been pouring all night and I \n",
      "        spent  most of the evening trudging up & down Bleecker St.  from \n",
      "        CBGB's  waiting  for  them to go on,  so even  tho'  they're  as \n",
      "        transcendently tuneful as ever,  I am wet, tired, and too cranky \n",
      "        to have any fun. \n",
      "\n",
      "        Monday, July 17th\n",
      "\n",
      "        9:30 p.m.   I've heard a lot about Too Much Joy from California, \n",
      "        including  a  rave  mention of their 2nd lp  by  Dean  Christgau \n",
      "        (during  his  keynote speech at SXSW,  no  less).   Said  lp  is \n",
      "        nowhere to be found anywhere in Manhattan, by the way; I tried 6 \n",
      "        different  stores,   incl.  Pier  Platters  in  Hoboken,  Tower, \n",
      "        Bleecker  Bobs,  Sounds,  and a few others.  Great - they travel \n",
      "        3000  miles to showcase their act and their label doesnt have  1 \n",
      "        copy  of the record in the biggest market in  America.   I  kept \n",
      "        trying  to  convince myself these gomers were actually as  wacky \n",
      "        and  zany as they were trying to come across on  stage,  but  it \n",
      "        didn't wash. The songs aren't bad but I could do without all the \n",
      "        mugging,  jumping,  and  corny choreography.   Next up is Fabian \n",
      "        Blue,  a  teenager  from the South Bronx with an 8  piece  band, \n",
      "        fuck-me good looks,  and massive soul/crossover potential, kinda \n",
      "        like a younger, male Whitney Houston, or Robbie Rosa with better \n",
      "        material.   Next door at the Canteen, the Jacklords were opening \n",
      "        up  Skyclad Night.  With 2 ex-Splatcats,  they  were  expectedly \n",
      "        60'ish  garage,  plenty  of  strong hooky tunes and  some  neato \n",
      "        surf/gtr breaks.  Now I know why Yod Crewzy quit the Splats - he \n",
      "        sings and plays guitar better'n the \n",
      "        other 'cats and never got to take centerstage.\n",
      "\n",
      "          11:30  p.m.  A  quick trip over to the Rapp  Arts  Center  - a \n",
      "        converted schoolhouse and an ideal venue to fill the vacuum left \n",
      "        by the death of Irving Plaza - for Nice Strong Arm (manic psycho \n",
      "        Gerardmetal)  and  Naked Raygun,  who ripped the place  in  two. \n",
      "        Turns  out this was also the farewell performance for Raygun gtr \n",
      "        John Haggerty.  They closed with a tribute to Government  Issue, \n",
      "        covering  \"Where You Live.\" Bitchin'.  Word came out later  that \n",
      "        their label decided at the last minute not to pay their airfare, \n",
      "        so the Rayguns had to fly in from Chicago, rent a car, pay for a \n",
      "        hotel, and fly back all out of their own pocket.  \n",
      "\n",
      "        Tuesday, July 18th\n",
      "\n",
      "        9  p.m.  Started the night off at the Philadelphia Booth  party, \n",
      "        hosted  by Carol Schutzbank and featuring various Love  Muffins, \n",
      "        Orifices,  Zooboys,  and  others.  Lots  of  demo  swapping  and \n",
      "        whatnot.  Then  we  all  subwayed over to CBGB for  one  of  the \n",
      "        weirdest bills of the week:  All, Bullet LaVolta, and the Swans.  \n",
      "        All did a long set full of slower, more tuneful songs - probably \n",
      "        glad  they weren't playing to a roomful of 16 year olds  - while \n",
      "        Bullet  LaVolta rocked per usual.  I didn't hang around for  the \n",
      "        Swans  but  crosstowned it to Avenue A for Ultra  Vivid  Scene's \n",
      "        show at King Tut's Wah Wah Hut.  Rumor had it that Kurt (Mr UVS) \n",
      "        was  offered  a chance to play the big opening night party  with \n",
      "        George  Clinton but opted instead for this  postage-stamp  sized \n",
      "\n",
      "\n",
      "                                        3\n",
      "\n",
      "\n",
      "\n",
      "\n",
      "\n",
      "\n",
      "\n",
      "\n",
      "        venue;  it  couldn't  have  been more than 105  degrees  inside, \n",
      "        packed  shoulder to shoulder,  everybody swaying to  the  band's \n",
      "        hypnotizing   melodies   and  offbeat  instrumentation   (cello, \n",
      "        keyboards,  minimal drums,  distorto gtr).   My notes say  \"Hank \n",
      "        Williams\" after that but I have no idea why.  \n",
      "\n",
      "        Wednesday, July 19th\n",
      "\n",
      "        Went to bed at 10 p.m. and lapsed into a coma.\n",
      "\n",
      "        It  should probably be noted (again & again) that the bands  are \n",
      "        the  most exploited aspect of NMS - they usually don't get paid, \n",
      "        often travel across the country to play these showcases, and the \n",
      "        bands  who  wind up on those NMS Unsigned Bands  cassettes  even \n",
      "        wind up paying big bucks for the privilege.  The clubs rake in a \n",
      "        fortune     from   the   bar   (NMS'ers    are,    after    all, \n",
      "        conventioneers...and  drink  like longshoremen),  even the  taxi \n",
      "        drivers make out like bandits. \n",
      "           But  then,  just think of the souvenirs that Old  Skull  will \n",
      "        have  for  show 'n tell in September.   Was it  worth  it?   You \n",
      "        betcha.\n",
      "\n",
      "        ----------------------------------------------------------------\n",
      "        If you liked this, might we suggest you send $2 and check out an \n",
      "        entire issue of Jersey Beat Fanzine?\n",
      "        Send to: Jim Testa, 418 Gregory Ave, Weehawken NJ 07087\n",
      "        This column will appear in the Sept. 1989 issue.\n",
      "\n",
      "\n",
      "\n",
      "\n",
      "\n",
      "\n",
      "\n",
      "\n",
      "\n",
      "\n",
      "\n",
      "\n",
      "\n",
      "\n",
      "\n",
      "\n",
      "\n",
      "\n",
      "\n",
      "\n",
      "\n",
      "\n",
      "\n",
      "\n",
      "\n",
      "\n",
      "\n",
      "\n",
      "\n",
      "\n",
      "                                        4\n",
      "\n",
      "\n",
      "\n",
      "\n",
      "\n",
      " \n",
      " \n",
      " \n",
      "\n",
      "\n",
      "\n",
      "\n",
      "\n",
      "X-=-=-=-=-=-=-=-=-=-=-=-=-=-=-=-=-=-=-=-=-=-=-=-=-=-=-=-=-=-=-=-=-=-=-=-=-=-X\n",
      " Another file downloaded from:                     The NIRVANAnet(tm) Seven\n",
      "\n",
      " & the Temple of the Screaming Electron   Taipan Enigma        510/935-5845\n",
      " Burn This Flag                           Zardoz               408/363-9766\n",
      " realitycheck                             Poindexter Fortran   510/527-1662\n",
      " Lies Unlimited                           Mick Freen           801/278-2699\n",
      " The New Dork Sublime                     Biffnix              415/864-DORK\n",
      " The Shrine                               Rif Raf              206/794-6674\n",
      " Planet Mirth                             Simon Jester         510/786-6560\n",
      "\n",
      "                          \"Raw Data for Raw Nerves\"\n",
      "X-=-=-=-=-=-=-=-=-=-=-=-=-=-=-=-=-=-=-=-=-=-=-=-=-=-=-=-=-=-=-=-=-=-=-=-=-=-X\n",
      "\n"
     ]
    }
   ],
   "source": [
    "with open(\"data/diary.txt\", \"r\") as file:\n",
    "    print(file.read())"
   ]
  },
  {
   "cell_type": "code",
   "execution_count": 57,
   "metadata": {},
   "outputs": [
    {
     "data": {
      "text/plain": [
       "True"
      ]
     },
     "execution_count": 57,
     "metadata": {},
     "output_type": "execute_result"
    }
   ],
   "source": [
    "file.closed"
   ]
  },
  {
   "cell_type": "code",
   "execution_count": 58,
   "metadata": {},
   "outputs": [
    {
     "ename": "ValueError",
     "evalue": "I/O operation on closed file.",
     "output_type": "error",
     "traceback": [
      "\u001b[0;31m---------------------------------------------------------------------------\u001b[0m",
      "\u001b[0;31mValueError\u001b[0m                                Traceback (most recent call last)",
      "\u001b[0;32m<ipython-input-58-9889fe6c2daa>\u001b[0m in \u001b[0;36m<module>\u001b[0;34m\u001b[0m\n\u001b[0;32m----> 1\u001b[0;31m \u001b[0mfile\u001b[0m\u001b[0;34m.\u001b[0m\u001b[0mseek\u001b[0m\u001b[0;34m(\u001b[0m\u001b[0;36m0\u001b[0m\u001b[0;34m)\u001b[0m\u001b[0;34m\u001b[0m\u001b[0;34m\u001b[0m\u001b[0m\n\u001b[0m\u001b[1;32m      2\u001b[0m \u001b[0mfile\u001b[0m\u001b[0;34m.\u001b[0m\u001b[0mread\u001b[0m\u001b[0;34m(\u001b[0m\u001b[0;34m)\u001b[0m\u001b[0;34m\u001b[0m\u001b[0;34m\u001b[0m\u001b[0m\n",
      "\u001b[0;31mValueError\u001b[0m: I/O operation on closed file."
     ]
    }
   ],
   "source": [
    "file.seek(0)\n",
    "file.read()"
   ]
  },
  {
   "cell_type": "markdown",
   "metadata": {},
   "source": [
    "`with` will take care of opening the file for you, and as you can see in the previous line, closing it afterwards; **regardless of the state of your code**, that is, even if an exception happened:"
   ]
  },
  {
   "cell_type": "code",
   "execution_count": 59,
   "metadata": {},
   "outputs": [
    {
     "ename": "AttributeError",
     "evalue": "'str' object has no attribute 'remove'",
     "output_type": "error",
     "traceback": [
      "\u001b[0;31m---------------------------------------------------------------------------\u001b[0m",
      "\u001b[0;31mAttributeError\u001b[0m                            Traceback (most recent call last)",
      "\u001b[0;32m<ipython-input-59-85bdd278e564>\u001b[0m in \u001b[0;36m<module>\u001b[0;34m\u001b[0m\n\u001b[1;32m      2\u001b[0m     \u001b[0mline\u001b[0m \u001b[0;34m=\u001b[0m \u001b[0mfile\u001b[0m\u001b[0;34m.\u001b[0m\u001b[0mreadline\u001b[0m\u001b[0;34m(\u001b[0m\u001b[0;34m)\u001b[0m\u001b[0;34m\u001b[0m\u001b[0;34m\u001b[0m\u001b[0m\n\u001b[1;32m      3\u001b[0m \u001b[0;34m\u001b[0m\u001b[0m\n\u001b[0;32m----> 4\u001b[0;31m     \u001b[0mline\u001b[0m\u001b[0;34m.\u001b[0m\u001b[0mremove\u001b[0m\u001b[0;34m(\u001b[0m\u001b[0;34m)\u001b[0m\u001b[0;34m\u001b[0m\u001b[0;34m\u001b[0m\u001b[0m\n\u001b[0m",
      "\u001b[0;31mAttributeError\u001b[0m: 'str' object has no attribute 'remove'"
     ]
    }
   ],
   "source": [
    "with open(\"data/diary.txt\", \"r\") as file:\n",
    "    line = file.readline()\n",
    "\n",
    "    line.remove()"
   ]
  },
  {
   "cell_type": "code",
   "execution_count": 60,
   "metadata": {},
   "outputs": [
    {
     "data": {
      "text/plain": [
       "True"
      ]
     },
     "execution_count": 60,
     "metadata": {},
     "output_type": "execute_result"
    }
   ],
   "source": [
    "file.closed"
   ]
  },
  {
   "cell_type": "code",
   "execution_count": 61,
   "metadata": {},
   "outputs": [
    {
     "ename": "ValueError",
     "evalue": "I/O operation on closed file.",
     "output_type": "error",
     "traceback": [
      "\u001b[0;31m---------------------------------------------------------------------------\u001b[0m",
      "\u001b[0;31mValueError\u001b[0m                                Traceback (most recent call last)",
      "\u001b[0;32m<ipython-input-61-9889fe6c2daa>\u001b[0m in \u001b[0;36m<module>\u001b[0;34m\u001b[0m\n\u001b[0;32m----> 1\u001b[0;31m \u001b[0mfile\u001b[0m\u001b[0;34m.\u001b[0m\u001b[0mseek\u001b[0m\u001b[0;34m(\u001b[0m\u001b[0;36m0\u001b[0m\u001b[0;34m)\u001b[0m\u001b[0;34m\u001b[0m\u001b[0;34m\u001b[0m\u001b[0m\n\u001b[0m\u001b[1;32m      2\u001b[0m \u001b[0mfile\u001b[0m\u001b[0;34m.\u001b[0m\u001b[0mread\u001b[0m\u001b[0;34m(\u001b[0m\u001b[0;34m)\u001b[0m\u001b[0;34m\u001b[0m\u001b[0;34m\u001b[0m\u001b[0m\n",
      "\u001b[0;31mValueError\u001b[0m: I/O operation on closed file."
     ]
    }
   ],
   "source": [
    "file.seek(0)\n",
    "file.read()"
   ]
  },
  {
   "cell_type": "markdown",
   "metadata": {},
   "source": [
    "The exception was still raised, but the file is closed. The syntax of `open` is the same; it's actually the same function. The syntax of `with` is:\n",
    "\n",
    "```python\n",
    "with <RESOURCE> as <NAME>:\n",
    "    <BODY>\n",
    "```\n",
    "\n",
    "Within that body you can do whatever you want. It's just a regular Python body. That's why we also have to indent it to create a new \"block\", as you'd do with a regular `if` or `for` statement."
   ]
  },
  {
   "cell_type": "markdown",
   "metadata": {},
   "source": [
    "<div style=\"width: 100%; background-color: #ef7d22; text-align: center\">\n",
    "<br><br>\n",
    "\n",
    "<h1 style=\"color: white; font-weight: bold;\">\n",
    "   Parsing CSV files\n",
    "</h1>\n",
    "\n",
    "<br><br> \n",
    "</div>"
   ]
  },
  {
   "cell_type": "markdown",
   "metadata": {},
   "source": [
    "If you're doing any meaningful work with CSV files, you'll probably be using [pandas](https://pandas.pydata.org) or [csvkit](http://csvkit.readthedocs.io). But nevertheless, it's a good use case for traditional file management. Python has the [csv](https://docs.python.org/3/library/csv.html) module which is already builtin. It's just about importing it and using it.\n",
    "\n",
    "We'll keep using the `invoices.csv` CSV file we used on previous sections:\n",
    "\n",
    "![1](https://user-images.githubusercontent.com/7065401/101361046-3cf9bf80-387d-11eb-82b7-42b70ec567ef.png)\n",
    "\n",
    "A CSV file is just like a table\n",
    "\n",
    "Let's start processing it...\n",
    "\n",
    "> _I won't use the `with` context manager so I can keep work among different cells, but in a real application, you should._"
   ]
  },
  {
   "cell_type": "code",
   "execution_count": 62,
   "metadata": {},
   "outputs": [],
   "source": [
    "file = open('data/invoices.csv', 'r')"
   ]
  },
  {
   "cell_type": "markdown",
   "metadata": {},
   "source": [
    "## CSV reading\n",
    "![orange-divider](https://user-images.githubusercontent.com/7065401/98619088-44ab6000-22e1-11eb-8f6d-5532e68ab274.png)\n",
    "\n",
    "We now import the `csv` module and initialize a csv [`reader`](https://docs.python.org/3/library/csv.html#csv.reader):"
   ]
  },
  {
   "cell_type": "code",
   "execution_count": 63,
   "metadata": {},
   "outputs": [],
   "source": [
    "import csv"
   ]
  },
  {
   "cell_type": "code",
   "execution_count": 64,
   "metadata": {},
   "outputs": [],
   "source": [
    "reader = csv.reader(file)"
   ]
  },
  {
   "cell_type": "markdown",
   "metadata": {},
   "source": [
    "As you can see, the `reader` takes a file object. We can now start iterating over the lines in the file. I'll iterate only three times to minimize the output:"
   ]
  },
  {
   "cell_type": "code",
   "execution_count": 65,
   "metadata": {},
   "outputs": [
    {
     "name": "stdout",
     "output_type": "stream",
     "text": [
      "['InvoiceNo', 'StockCode', 'Description', 'Quantity', 'InvoiceDate', 'UnitPrice', 'CustomerID', 'Country']\n",
      "['578678', '79160', 'HEART SHAPE WIRELESS DOORBELL', '1', '11/24/2011 19:59', '2.1', '17841.0', 'United Kingdom']\n",
      "['558876', '21179', 'NO JUNK MAIL METAL SIGN', '3', '7/4/2011 13:36', '0.39', '17841.0', 'United Kingdom']\n"
     ]
    }
   ],
   "source": [
    "i = 0\n",
    "for line in reader:\n",
    "    if i == 3:\n",
    "        break\n",
    "    print(line)\n",
    "    i += 1"
   ]
  },
  {
   "cell_type": "markdown",
   "metadata": {},
   "source": [
    "_(Ideally, I'd have used the `enumerate` function, but I wanted to keep it simple)_\n",
    "\n",
    "As you can see, each new line is retuning a line of the CSV file as a list, containing each CSV field as an element. I can get individual lines with the `next` function:"
   ]
  },
  {
   "cell_type": "code",
   "execution_count": 66,
   "metadata": {},
   "outputs": [
    {
     "data": {
      "text/plain": [
       "['558485',\n",
       " '20723',\n",
       " 'STRAWBERRY CHARLOTTE BAG',\n",
       " '1',\n",
       " '6/30/2011 10:11',\n",
       " '0.85',\n",
       " '',\n",
       " 'United Kingdom']"
      ]
     },
     "execution_count": 66,
     "metadata": {},
     "output_type": "execute_result"
    }
   ],
   "source": [
    "next(reader)"
   ]
  },
  {
   "cell_type": "code",
   "execution_count": 67,
   "metadata": {},
   "outputs": [],
   "source": [
    "line = next(reader)"
   ]
  },
  {
   "cell_type": "code",
   "execution_count": 68,
   "metadata": {},
   "outputs": [
    {
     "data": {
      "text/plain": [
       "['548163',\n",
       " '22526',\n",
       " 'WHEELBARROW FOR CHILDREN ',\n",
       " '1',\n",
       " '3/29/2011 13:43',\n",
       " '24.96',\n",
       " '',\n",
       " 'United Kingdom']"
      ]
     },
     "execution_count": 68,
     "metadata": {},
     "output_type": "execute_result"
    }
   ],
   "source": [
    "line"
   ]
  },
  {
   "cell_type": "markdown",
   "metadata": {},
   "source": [
    "Now is just about working with the different fields of the CSV file. I'll close this file and we can work with the `writer`:"
   ]
  },
  {
   "cell_type": "code",
   "execution_count": 69,
   "metadata": {},
   "outputs": [],
   "source": [
    "file.close()"
   ]
  },
  {
   "cell_type": "markdown",
   "metadata": {},
   "source": [
    "## CSV writing\n",
    "![orange-divider](https://user-images.githubusercontent.com/7065401/98619088-44ab6000-22e1-11eb-8f6d-5532e68ab274.png)\n",
    "\n",
    "The `csv` module also has a [`writer`](https://docs.python.org/3/library/csv.html#csv.writer) function that creates a CSV Writer. This one is powerful because you can define delimiters and settings of your file writer. The [same settings](https://docs.python.org/3/library/csv.html#csv-fmt-params) are available to the reader to instruct it on how to parse the CSV files. Examples:\n",
    "\n",
    "```python\n",
    "csv.writer(fp, delimiter=' ', quotechar='|', quoting=csv.QUOTE_ALL)\n",
    "```"
   ]
  },
  {
   "cell_type": "code",
   "execution_count": 70,
   "metadata": {},
   "outputs": [],
   "source": [
    "# Open in write mode:\n",
    "file = open('data/products-new.csv', 'w')"
   ]
  },
  {
   "cell_type": "code",
   "execution_count": 71,
   "metadata": {},
   "outputs": [],
   "source": [
    "writer = csv.writer(file, delimiter=',', quoting=csv.QUOTE_ALL)"
   ]
  },
  {
   "cell_type": "code",
   "execution_count": 72,
   "metadata": {},
   "outputs": [
    {
     "data": {
      "text/plain": [
       "37"
      ]
     },
     "execution_count": 72,
     "metadata": {},
     "output_type": "execute_result"
    }
   ],
   "source": [
    "writer.writerow(['Invoice Number', 'Customer', 'Total'])"
   ]
  },
  {
   "cell_type": "code",
   "execution_count": 73,
   "metadata": {},
   "outputs": [
    {
     "data": {
      "text/plain": [
       "27"
      ]
     },
     "execution_count": 73,
     "metadata": {},
     "output_type": "execute_result"
    }
   ],
   "source": [
    "writer.writerow([111, 'John Doe', 117.32])"
   ]
  },
  {
   "cell_type": "code",
   "execution_count": 74,
   "metadata": {},
   "outputs": [
    {
     "data": {
      "text/plain": [
       "27"
      ]
     },
     "execution_count": 74,
     "metadata": {},
     "output_type": "execute_result"
    }
   ],
   "source": [
    "writer.writerow([112, 'Jane Doe', 224.03])"
   ]
  },
  {
   "cell_type": "code",
   "execution_count": 75,
   "metadata": {},
   "outputs": [],
   "source": [
    "file.close()"
   ]
  },
  {
   "cell_type": "markdown",
   "metadata": {},
   "source": [
    "We can now open the file and real the resulting content:"
   ]
  },
  {
   "cell_type": "code",
   "execution_count": 76,
   "metadata": {},
   "outputs": [],
   "source": [
    "file = open('data/products-new.csv', 'r')"
   ]
  },
  {
   "cell_type": "code",
   "execution_count": 77,
   "metadata": {},
   "outputs": [
    {
     "name": "stdout",
     "output_type": "stream",
     "text": [
      "\"Invoice Number\",\"Customer\",\"Total\"\n",
      "\"111\",\"John Doe\",\"117.32\"\n",
      "\"112\",\"Jane Doe\",\"224.03\"\n",
      "\n"
     ]
    }
   ],
   "source": [
    "print(file.read())"
   ]
  },
  {
   "cell_type": "markdown",
   "metadata": {},
   "source": [
    "> As you can see, the `csv.QUOTE_ALL` quoting mode quoted every single value. Not pretty, but it's just to show you a different setting."
   ]
  },
  {
   "cell_type": "markdown",
   "metadata": {},
   "source": [
    "<div style=\"width: 100%; background-color: #ef7d22; text-align: center\">\n",
    "<br><br>\n",
    "\n",
    "<h1 style=\"color: white; font-weight: bold;\">\n",
    "    JSON files\n",
    "</h1>\n",
    "\n",
    "<br><br> \n",
    "</div>"
   ]
  },
  {
   "cell_type": "code",
   "execution_count": 78,
   "metadata": {},
   "outputs": [],
   "source": [
    "json_string = '''\n",
    "  {\n",
    "    \"id\": \"5fce1c837cb3e52a804d1b50\",\n",
    "    \"isActive\": false,\n",
    "    \"balance\": \"$2,730.70\",\n",
    "    \"age\": 36,\n",
    "    \"name\": {\n",
    "      \"first\": \"Meadows\",\n",
    "      \"last\": \"Barber\"\n",
    "    },\n",
    "    \"company\": \"TECHTRIX\",\n",
    "    \"email\": \"meadows.barber@techtrix.tv\",\n",
    "    \"phone\": \"+1 (980) 509-3159\",\n",
    "    \"address\": \"841 Boerum Place, Bladensburg, Idaho, 5282\",\n",
    "    \"tags\": [\n",
    "      {\"id\": 1, \"name\": \"aliquip\"},\n",
    "      {\"id\": 2, \"name\": \"reprehenderit\"},\n",
    "      {\"id\": 3, \"name\": \"eu\"},\n",
    "      {\"id\": 4, \"name\": \"eiusmod\"},\n",
    "      {\"id\": 5, \"name\": \"officia\"}\n",
    "    ]\n",
    "  }\n",
    "'''"
   ]
  },
  {
   "cell_type": "code",
   "execution_count": 79,
   "metadata": {},
   "outputs": [],
   "source": [
    "import json"
   ]
  },
  {
   "cell_type": "code",
   "execution_count": 80,
   "metadata": {},
   "outputs": [],
   "source": [
    "json_file = json.loads(json_string)"
   ]
  },
  {
   "cell_type": "code",
   "execution_count": 81,
   "metadata": {
    "scrolled": true
   },
   "outputs": [
    {
     "data": {
      "text/plain": [
       "{'id': '5fce1c837cb3e52a804d1b50',\n",
       " 'isActive': False,\n",
       " 'balance': '$2,730.70',\n",
       " 'age': 36,\n",
       " 'name': {'first': 'Meadows', 'last': 'Barber'},\n",
       " 'company': 'TECHTRIX',\n",
       " 'email': 'meadows.barber@techtrix.tv',\n",
       " 'phone': '+1 (980) 509-3159',\n",
       " 'address': '841 Boerum Place, Bladensburg, Idaho, 5282',\n",
       " 'tags': [{'id': 1, 'name': 'aliquip'},\n",
       "  {'id': 2, 'name': 'reprehenderit'},\n",
       "  {'id': 3, 'name': 'eu'},\n",
       "  {'id': 4, 'name': 'eiusmod'},\n",
       "  {'id': 5, 'name': 'officia'}]}"
      ]
     },
     "execution_count": 81,
     "metadata": {},
     "output_type": "execute_result"
    }
   ],
   "source": [
    "json_file"
   ]
  },
  {
   "cell_type": "code",
   "execution_count": 82,
   "metadata": {},
   "outputs": [
    {
     "data": {
      "text/plain": [
       "dict"
      ]
     },
     "execution_count": 82,
     "metadata": {},
     "output_type": "execute_result"
    }
   ],
   "source": [
    "type(json_file)"
   ]
  },
  {
   "cell_type": "code",
   "execution_count": 83,
   "metadata": {},
   "outputs": [
    {
     "data": {
      "text/plain": [
       "[{'id': 1, 'name': 'aliquip'},\n",
       " {'id': 2, 'name': 'reprehenderit'},\n",
       " {'id': 3, 'name': 'eu'},\n",
       " {'id': 4, 'name': 'eiusmod'},\n",
       " {'id': 5, 'name': 'officia'}]"
      ]
     },
     "execution_count": 83,
     "metadata": {},
     "output_type": "execute_result"
    }
   ],
   "source": [
    "json_file[\"tags\"]"
   ]
  },
  {
   "cell_type": "code",
   "execution_count": 84,
   "metadata": {},
   "outputs": [
    {
     "data": {
      "text/plain": [
       "{'id': 4, 'name': 'eiusmod'}"
      ]
     },
     "execution_count": 84,
     "metadata": {},
     "output_type": "execute_result"
    }
   ],
   "source": [
    "json_file[\"tags\"][3]"
   ]
  },
  {
   "cell_type": "code",
   "execution_count": 85,
   "metadata": {},
   "outputs": [
    {
     "data": {
      "text/plain": [
       "'eiusmod'"
      ]
     },
     "execution_count": 85,
     "metadata": {},
     "output_type": "execute_result"
    }
   ],
   "source": [
    "json_file[\"tags\"][3][\"name\"]"
   ]
  },
  {
   "cell_type": "code",
   "execution_count": 86,
   "metadata": {},
   "outputs": [
    {
     "name": "stdout",
     "output_type": "stream",
     "text": [
      "aliquip\n",
      "reprehenderit\n",
      "eu\n",
      "eiusmod\n",
      "officia\n"
     ]
    }
   ],
   "source": [
    "for tag in json_file[\"tags\"]:\n",
    "    print(tag[\"name\"])"
   ]
  },
  {
   "cell_type": "markdown",
   "metadata": {
    "slideshow": {
     "slide_type": "slide"
    }
   },
   "source": [
    "<div style=\"position: relative;\">\n",
    "<img src=\"https://user-images.githubusercontent.com/7065401/98729912-57be3e80-237a-11eb-80e4-233ac344b391.png\"></img>\n",
    "</div>"
   ]
  }
 ],
 "metadata": {
  "kernelspec": {
   "display_name": "Python 3",
   "language": "python",
   "name": "python3"
  },
  "language_info": {
   "codemirror_mode": {
    "name": "ipython",
    "version": 3
   },
   "file_extension": ".py",
   "mimetype": "text/x-python",
   "name": "python",
   "nbconvert_exporter": "python",
   "pygments_lexer": "ipython3",
   "version": "3.8.6"
  }
 },
 "nbformat": 4,
 "nbformat_minor": 4
}
