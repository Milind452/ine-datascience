{
 "cells": [
  {
   "cell_type": "markdown",
   "metadata": {},
   "source": [
    "<div style=\"position: relative;\">\n",
    "<img src=\"https://user-images.githubusercontent.com/7065401/98728503-5ab82f80-2378-11eb-9c79-adeb308fc647.png\"></img>\n",
    "\n",
    "<h1 style=\"color: white; position: absolute; top:30%; left:10%;\">\n",
    "    Data Science — Starter pass\n",
    "</h1>\n",
    "\n",
    "<h3 style=\"color: #ef7d22; font-weight: normal; position: absolute; top:43%; left:10%;\">\n",
    "    How to use the exercises platform\n",
    "</h3>\n",
    "</div>"
   ]
  },
  {
   "cell_type": "markdown",
   "metadata": {},
   "source": [
    "## How to identify an exercise\n",
    "![orange-divider](https://user-images.githubusercontent.com/7065401/98619088-44ab6000-22e1-11eb-8f6d-5532e68ab274.png)\n",
    "\n",
    "When you enter a course, you'll see the following icon indicating that a lesson has exercises:\n",
    "\n",
    "![0](https://user-images.githubusercontent.com/7065401/101208870-967da680-3651-11eb-90f0-07f3d0a846ec.png)\n",
    "![1](https://user-images.githubusercontent.com/7065401/101208783-71893380-3651-11eb-8b58-7359b49c13df.png)\n"
   ]
  },
  {
   "cell_type": "markdown",
   "metadata": {},
   "source": [
    "Clicking on this icon will display a list of all the assignments and you will see the names of each one.\n",
    "\n",
    "![2](https://user-images.githubusercontent.com/7065401/101208779-70580680-3651-11eb-94b0-c45ba645cc54.png)\n",
    "\n",
    "Clicking on the exercise name will open **INE's exercises platform**.\n"
   ]
  },
  {
   "cell_type": "markdown",
   "metadata": {},
   "source": [
    "## INE's exercises platform\n",
    "![orange-divider](https://user-images.githubusercontent.com/7065401/98619088-44ab6000-22e1-11eb-8f6d-5532e68ab274.png)\n",
    "\n",
    "Once you are inside INE's exercises platform you will see:\n",
    "\n",
    "![3](https://user-images.githubusercontent.com/7065401/101209330-51a63f80-3652-11eb-96ec-208e7ad008f2.png)\n",
    "\n",
    "- **A**: The description of the exercise. This text will explain what you will need to do to complete the exercise.\n",
    "\n",
    "- **B**: This is an online code editor where you can write your solution to the exercise.\n",
    "    - **_\"Run code\"_ button**: this button will run the code and show the output below. You can run your code before submitting your solutions.\n",
    "    - **_\"Submit solution\"_ button**: when you think your code is ready you can submit it by clicking this button. A new attempt will be created and you will see if your solution if right or wrong. If you solution was correct, the exercise will be marked as done.\n",
    "    \n",
    "- **C**: Here you will see the output of your code execution. If you clicked _\"Submit solution\"_, a summary of the tests status will be shown here as well.\n",
    "\n",
    "- **D**: Here you will see all the tests cases that your solution must pass. You can test each test case individually by clicking on _\"Run test\"_, or test all the tests at once by submitting your solution.\n"
   ]
  },
  {
   "cell_type": "markdown",
   "metadata": {},
   "source": [
    "![1](https://user-images.githubusercontent.com/7065401/101210252-f1b09880-3653-11eb-907b-3f4ca65f1e57.png)\n"
   ]
  },
  {
   "cell_type": "markdown",
   "metadata": {},
   "source": [
    "![2](https://user-images.githubusercontent.com/7065401/101210248-f07f6b80-3653-11eb-9b56-453b14396820.png)\n"
   ]
  },
  {
   "cell_type": "markdown",
   "metadata": {},
   "source": [
    "- **E**: Finally, you can use this left bar to toggle between exercise's description, files associated with this lesson, your previous attempts or a proposed solution for the exercise.\n"
   ]
  },
  {
   "cell_type": "markdown",
   "metadata": {},
   "source": [
    "![1](https://user-images.githubusercontent.com/7065401/101210254-f2492f00-3653-11eb-8159-e6ffcc775a8b.png)\n"
   ]
  },
  {
   "cell_type": "markdown",
   "metadata": {},
   "source": [
    "When your solution is marked as correct, you will see the check icon painted green.\n",
    "\n",
    "Let's go for the next one!\n",
    "\n",
    "![1](https://user-images.githubusercontent.com/7065401/101210625-90d59000-3654-11eb-9cee-0f232e868a71.png)\n"
   ]
  },
  {
   "cell_type": "markdown",
   "metadata": {
    "slideshow": {
     "slide_type": "slide"
    }
   },
   "source": [
    "<div style=\"position: relative;\">\n",
    "<img src=\"https://user-images.githubusercontent.com/7065401/98729912-57be3e80-237a-11eb-80e4-233ac344b391.png\"></img>\n",
    "</div>"
   ]
  }
 ],
 "metadata": {
  "kernelspec": {
   "display_name": "Python 3",
   "language": "python",
   "name": "python3"
  },
  "language_info": {
   "codemirror_mode": {
    "name": "ipython",
    "version": 3
   },
   "file_extension": ".py",
   "mimetype": "text/x-python",
   "name": "python",
   "nbconvert_exporter": "python",
   "pygments_lexer": "ipython3",
   "version": "3.8.6"
  }
 },
 "nbformat": 4,
 "nbformat_minor": 4
}
